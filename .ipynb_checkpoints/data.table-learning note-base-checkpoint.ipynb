{
 "cells": [
  {
   "cell_type": "code",
   "execution_count": 1,
   "metadata": {
    "collapsed": true
   },
   "outputs": [],
   "source": [
    "library(data.table)"
   ]
  },
  {
   "cell_type": "code",
   "execution_count": 2,
   "metadata": {
    "collapsed": true
   },
   "outputs": [],
   "source": [
    "# 载入数据 fread来源于data.table包\n",
    "flights <- fread(\"flights14.csv\")"
   ]
  },
  {
   "cell_type": "code",
   "execution_count": 3,
   "metadata": {
    "collapsed": false
   },
   "outputs": [
    {
     "data": {
      "text/html": [
       "<table>\n",
       "<thead><tr><th></th><th scope=col>year</th><th scope=col>month</th><th scope=col>day</th><th scope=col>dep_time</th><th scope=col>dep_delay</th><th scope=col>arr_time</th><th scope=col>arr_delay</th><th scope=col>cancelled</th><th scope=col>carrier</th><th scope=col>tailnum</th><th scope=col>flight</th><th scope=col>origin</th><th scope=col>dest</th><th scope=col>air_time</th><th scope=col>distance</th><th scope=col>hour</th><th scope=col>min</th></tr></thead>\n",
       "<tbody>\n",
       "\t<tr><th scope=row>1</th><td>2014  </td><td>1     </td><td>1     </td><td>914   </td><td>14    </td><td>1238  </td><td>13    </td><td>0     </td><td>AA    </td><td>N338AA</td><td>1     </td><td>JFK   </td><td>LAX   </td><td>359   </td><td>2475  </td><td>9     </td><td>14    </td></tr>\n",
       "\t<tr><th scope=row>2</th><td>2014  </td><td>1     </td><td>1     </td><td>1157  </td><td>-3    </td><td>1523  </td><td>13    </td><td>0     </td><td>AA    </td><td>N335AA</td><td>3     </td><td>JFK   </td><td>LAX   </td><td>363   </td><td>2475  </td><td>11    </td><td>57    </td></tr>\n",
       "\t<tr><th scope=row>3</th><td>2014  </td><td>1     </td><td>1     </td><td>1902  </td><td>2     </td><td>2224  </td><td>9     </td><td>0     </td><td>AA    </td><td>N327AA</td><td>21    </td><td>JFK   </td><td>LAX   </td><td>351   </td><td>2475  </td><td>19    </td><td>2     </td></tr>\n",
       "\t<tr><th scope=row>4</th><td>2014  </td><td>1     </td><td>1     </td><td>722   </td><td>-8    </td><td>1014  </td><td>-26   </td><td>0     </td><td>AA    </td><td>N3EHAA</td><td>29    </td><td>LGA   </td><td>PBI   </td><td>157   </td><td>1035  </td><td>7     </td><td>22    </td></tr>\n",
       "\t<tr><th scope=row>5</th><td>2014  </td><td>1     </td><td>1     </td><td>1347  </td><td>2     </td><td>1706  </td><td>1     </td><td>0     </td><td>AA    </td><td>N319AA</td><td>117   </td><td>JFK   </td><td>LAX   </td><td>350   </td><td>2475  </td><td>13    </td><td>47    </td></tr>\n",
       "\t<tr><th scope=row>6</th><td>2014  </td><td>1     </td><td>1     </td><td>1824  </td><td>4     </td><td>2145  </td><td>0     </td><td>0     </td><td>AA    </td><td>N3DEAA</td><td>119   </td><td>EWR   </td><td>LAX   </td><td>339   </td><td>2454  </td><td>18    </td><td>24    </td></tr>\n",
       "</tbody>\n",
       "</table>\n"
      ],
      "text/latex": [
       "\\begin{tabular}{r|lllllllllllllllll}\n",
       "  & year & month & day & dep\\_time & dep\\_delay & arr\\_time & arr\\_delay & cancelled & carrier & tailnum & flight & origin & dest & air\\_time & distance & hour & min\\\\\n",
       "\\hline\n",
       "\t1 & 2014   & 1      & 1      & 914    & 14     & 1238   & 13     & 0      & AA     & N338AA & 1      & JFK    & LAX    & 359    & 2475   & 9      & 14    \\\\\n",
       "\t2 & 2014   & 1      & 1      & 1157   & -3     & 1523   & 13     & 0      & AA     & N335AA & 3      & JFK    & LAX    & 363    & 2475   & 11     & 57    \\\\\n",
       "\t3 & 2014   & 1      & 1      & 1902   & 2      & 2224   & 9      & 0      & AA     & N327AA & 21     & JFK    & LAX    & 351    & 2475   & 19     & 2     \\\\\n",
       "\t4 & 2014   & 1      & 1      & 722    & -8     & 1014   & -26    & 0      & AA     & N3EHAA & 29     & LGA    & PBI    & 157    & 1035   & 7      & 22    \\\\\n",
       "\t5 & 2014   & 1      & 1      & 1347   & 2      & 1706   & 1      & 0      & AA     & N319AA & 117    & JFK    & LAX    & 350    & 2475   & 13     & 47    \\\\\n",
       "\t6 & 2014   & 1      & 1      & 1824   & 4      & 2145   & 0      & 0      & AA     & N3DEAA & 119    & EWR    & LAX    & 339    & 2454   & 18     & 24    \\\\\n",
       "\\end{tabular}\n"
      ],
      "text/plain": [
       "  year month day dep_time dep_delay arr_time arr_delay cancelled carrier\n",
       "1 2014     1   1      914        14     1238        13         0      AA\n",
       "2 2014     1   1     1157        -3     1523        13         0      AA\n",
       "3 2014     1   1     1902         2     2224         9         0      AA\n",
       "4 2014     1   1      722        -8     1014       -26         0      AA\n",
       "5 2014     1   1     1347         2     1706         1         0      AA\n",
       "6 2014     1   1     1824         4     2145         0         0      AA\n",
       "  tailnum flight origin dest air_time distance hour min\n",
       "1  N338AA      1    JFK  LAX      359     2475    9  14\n",
       "2  N335AA      3    JFK  LAX      363     2475   11  57\n",
       "3  N327AA     21    JFK  LAX      351     2475   19   2\n",
       "4  N3EHAA     29    LGA  PBI      157     1035    7  22\n",
       "5  N319AA    117    JFK  LAX      350     2475   13  47\n",
       "6  N3DEAA    119    EWR  LAX      339     2454   18  24"
      ]
     },
     "metadata": {},
     "output_type": "display_data"
    }
   ],
   "source": [
    "head(flights)"
   ]
  },
  {
   "cell_type": "code",
   "execution_count": 4,
   "metadata": {
    "collapsed": false
   },
   "outputs": [
    {
     "data": {
      "text/html": [
       "<ol class=list-inline>\n",
       "\t<li>253316</li>\n",
       "\t<li>17</li>\n",
       "</ol>\n"
      ],
      "text/latex": [
       "\\begin{enumerate*}\n",
       "\\item 253316\n",
       "\\item 17\n",
       "\\end{enumerate*}\n"
      ],
      "text/markdown": [
       "1. 253316\n",
       "2. 17\n",
       "\n",
       "\n"
      ],
      "text/plain": [
       "[1] 253316     17"
      ]
     },
     "metadata": {},
     "output_type": "display_data"
    }
   ],
   "source": [
    "dim(flights)"
   ]
  },
  {
   "cell_type": "markdown",
   "metadata": {
    "collapsed": true
   },
   "source": [
    "## 基础\n",
    "\n",
    "### 创建data.table"
   ]
  },
  {
   "cell_type": "code",
   "execution_count": 10,
   "metadata": {
    "collapsed": true
   },
   "outputs": [],
   "source": [
    "#类似data.frame，也可以as.data.table\n",
    "DT = data.table( ID = c(\"b\",\"b\",\"b\",\"a\",\"a\",\"c\"), a=1:6 , b = 7:12, c=13:18)"
   ]
  },
  {
   "cell_type": "code",
   "execution_count": 6,
   "metadata": {
    "collapsed": false
   },
   "outputs": [
    {
     "data": {
      "text/html": [
       "<table>\n",
       "<thead><tr><th></th><th scope=col>ID</th><th scope=col>a</th><th scope=col>b</th><th scope=col>c</th></tr></thead>\n",
       "<tbody>\n",
       "\t<tr><th scope=row>1</th><td>b </td><td>1 </td><td>7 </td><td>13</td></tr>\n",
       "\t<tr><th scope=row>2</th><td>b </td><td>2 </td><td>8 </td><td>14</td></tr>\n",
       "\t<tr><th scope=row>3</th><td>b </td><td>3 </td><td>9 </td><td>15</td></tr>\n",
       "\t<tr><th scope=row>4</th><td>a </td><td>4 </td><td>10</td><td>16</td></tr>\n",
       "\t<tr><th scope=row>5</th><td>a </td><td>5 </td><td>11</td><td>17</td></tr>\n",
       "\t<tr><th scope=row>6</th><td>c </td><td>6 </td><td>12</td><td>18</td></tr>\n",
       "</tbody>\n",
       "</table>\n"
      ],
      "text/latex": [
       "\\begin{tabular}{r|llll}\n",
       "  & ID & a & b & c\\\\\n",
       "\\hline\n",
       "\t1 & b  & 1  & 7  & 13\\\\\n",
       "\t2 & b  & 2  & 8  & 14\\\\\n",
       "\t3 & b  & 3  & 9  & 15\\\\\n",
       "\t4 & a  & 4  & 10 & 16\\\\\n",
       "\t5 & a  & 5  & 11 & 17\\\\\n",
       "\t6 & c  & 6  & 12 & 18\\\\\n",
       "\\end{tabular}\n"
      ],
      "text/plain": [
       "  ID a  b  c\n",
       "1  b 1  7 13\n",
       "2  b 2  8 14\n",
       "3  b 3  9 15\n",
       "4  a 4 10 16\n",
       "5  a 5 11 17\n",
       "6  c 6 12 18"
      ]
     },
     "metadata": {},
     "output_type": "display_data"
    }
   ],
   "source": [
    "DT"
   ]
  },
  {
   "cell_type": "code",
   "execution_count": 7,
   "metadata": {
    "collapsed": false
   },
   "outputs": [
    {
     "data": {
      "text/html": [
       "\"character\""
      ],
      "text/latex": [
       "\"character\""
      ],
      "text/markdown": [
       "\"character\""
      ],
      "text/plain": [
       "[1] \"character\""
      ]
     },
     "metadata": {},
     "output_type": "display_data"
    }
   ],
   "source": [
    "# 字符串默认不再是因子\n",
    "class(DT$ID)"
   ]
  },
  {
   "cell_type": "code",
   "execution_count": 8,
   "metadata": {
    "collapsed": false
   },
   "outputs": [
    {
     "data": {
      "text/html": [
       "100"
      ],
      "text/latex": [
       "100"
      ],
      "text/markdown": [
       "100"
      ],
      "text/plain": [
       "[1] 100"
      ]
     },
     "metadata": {},
     "output_type": "display_data"
    }
   ],
   "source": [
    "# 修改datatable.print.nrows\"可以修改输入的时候显示多少行，而不会一次性全部显示\n",
    "getOption(\"datatable.print.nrows\")"
   ]
  },
  {
   "cell_type": "markdown",
   "metadata": {},
   "source": [
    "## 基本语法：\n",
    "DT[i, j, by]\n",
    "\n",
    "对于datatable DT，subset第i行，计算j，用by分组\n",
    "\n",
    "subset表示选择行，select表示选择列\n",
    "\n",
    "### subset（行）"
   ]
  },
  {
   "cell_type": "code",
   "execution_count": 9,
   "metadata": {
    "collapsed": false
   },
   "outputs": [
    {
     "data": {
      "text/html": [
       "<table>\n",
       "<thead><tr><th></th><th scope=col>year</th><th scope=col>month</th><th scope=col>day</th><th scope=col>dep_time</th><th scope=col>dep_delay</th><th scope=col>arr_time</th><th scope=col>arr_delay</th><th scope=col>cancelled</th><th scope=col>carrier</th><th scope=col>tailnum</th><th scope=col>flight</th><th scope=col>origin</th><th scope=col>dest</th><th scope=col>air_time</th><th scope=col>distance</th><th scope=col>hour</th><th scope=col>min</th></tr></thead>\n",
       "<tbody>\n",
       "\t<tr><th scope=row>1</th><td>2014  </td><td>6     </td><td>1     </td><td>851   </td><td>-9    </td><td>1205  </td><td>-5    </td><td>0     </td><td>AA    </td><td>N787AA</td><td>1     </td><td>JFK   </td><td>LAX   </td><td>324   </td><td>2475  </td><td>8     </td><td>51    </td></tr>\n",
       "\t<tr><th scope=row>2</th><td>2014  </td><td>6     </td><td>1     </td><td>1220  </td><td>-10   </td><td>1522  </td><td>-13   </td><td>0     </td><td>AA    </td><td>N795AA</td><td>3     </td><td>JFK   </td><td>LAX   </td><td>329   </td><td>2475  </td><td>12    </td><td>20    </td></tr>\n",
       "\t<tr><th scope=row>3</th><td>2014  </td><td>6     </td><td>1     </td><td>718   </td><td>18    </td><td>1014  </td><td>-1    </td><td>0     </td><td>AA    </td><td>N784AA</td><td>9     </td><td>JFK   </td><td>LAX   </td><td>326   </td><td>2475  </td><td>7     </td><td>18    </td></tr>\n",
       "\t<tr><th scope=row>4</th><td>2014  </td><td>6     </td><td>1     </td><td>1024  </td><td>-6    </td><td>1314  </td><td>-16   </td><td>0     </td><td>AA    </td><td>N791AA</td><td>19    </td><td>JFK   </td><td>LAX   </td><td>320   </td><td>2475  </td><td>10    </td><td>24    </td></tr>\n",
       "\t<tr><th scope=row>5</th><td>2014  </td><td>6     </td><td>1     </td><td>1841  </td><td>-4    </td><td>2125  </td><td>-45   </td><td>0     </td><td>AA    </td><td>N790AA</td><td>21    </td><td>JFK   </td><td>LAX   </td><td>326   </td><td>2475  </td><td>18    </td><td>41    </td></tr>\n",
       "\t<tr><th scope=row>6</th><td>2014  </td><td>6     </td><td>1     </td><td>1454  </td><td>-6    </td><td>1757  </td><td>-23   </td><td>0     </td><td>AA    </td><td>N785AA</td><td>117   </td><td>JFK   </td><td>LAX   </td><td>329   </td><td>2475  </td><td>14    </td><td>54    </td></tr>\n",
       "</tbody>\n",
       "</table>\n"
      ],
      "text/latex": [
       "\\begin{tabular}{r|lllllllllllllllll}\n",
       "  & year & month & day & dep\\_time & dep\\_delay & arr\\_time & arr\\_delay & cancelled & carrier & tailnum & flight & origin & dest & air\\_time & distance & hour & min\\\\\n",
       "\\hline\n",
       "\t1 & 2014   & 6      & 1      & 851    & -9     & 1205   & -5     & 0      & AA     & N787AA & 1      & JFK    & LAX    & 324    & 2475   & 8      & 51    \\\\\n",
       "\t2 & 2014   & 6      & 1      & 1220   & -10    & 1522   & -13    & 0      & AA     & N795AA & 3      & JFK    & LAX    & 329    & 2475   & 12     & 20    \\\\\n",
       "\t3 & 2014   & 6      & 1      & 718    & 18     & 1014   & -1     & 0      & AA     & N784AA & 9      & JFK    & LAX    & 326    & 2475   & 7      & 18    \\\\\n",
       "\t4 & 2014   & 6      & 1      & 1024   & -6     & 1314   & -16    & 0      & AA     & N791AA & 19     & JFK    & LAX    & 320    & 2475   & 10     & 24    \\\\\n",
       "\t5 & 2014   & 6      & 1      & 1841   & -4     & 2125   & -45    & 0      & AA     & N790AA & 21     & JFK    & LAX    & 326    & 2475   & 18     & 41    \\\\\n",
       "\t6 & 2014   & 6      & 1      & 1454   & -6     & 1757   & -23    & 0      & AA     & N785AA & 117    & JFK    & LAX    & 329    & 2475   & 14     & 54    \\\\\n",
       "\\end{tabular}\n"
      ],
      "text/plain": [
       "  year month day dep_time dep_delay arr_time arr_delay cancelled carrier\n",
       "1 2014     6   1      851        -9     1205        -5         0      AA\n",
       "2 2014     6   1     1220       -10     1522       -13         0      AA\n",
       "3 2014     6   1      718        18     1014        -1         0      AA\n",
       "4 2014     6   1     1024        -6     1314       -16         0      AA\n",
       "5 2014     6   1     1841        -4     2125       -45         0      AA\n",
       "6 2014     6   1     1454        -6     1757       -23         0      AA\n",
       "  tailnum flight origin dest air_time distance hour min\n",
       "1  N787AA      1    JFK  LAX      324     2475    8  51\n",
       "2  N795AA      3    JFK  LAX      329     2475   12  20\n",
       "3  N784AA      9    JFK  LAX      326     2475    7  18\n",
       "4  N791AA     19    JFK  LAX      320     2475   10  24\n",
       "5  N790AA     21    JFK  LAX      326     2475   18  41\n",
       "6  N785AA    117    JFK  LAX      329     2475   14  54"
      ]
     },
     "metadata": {},
     "output_type": "display_data"
    }
   ],
   "source": [
    "# 选择满足条件的行，很直观\n",
    "ans <- flights[origin == \"JFK\" & month == 6L] #要用双引号！\n",
    "head(ans)\n",
    "# 默认第一个参数传入i，\n",
    "#满足基本语法的写法 ans <- flights[origin == \"JFK\" & month == 6L， ] 也可以"
   ]
  },
  {
   "cell_type": "code",
   "execution_count": 11,
   "metadata": {
    "collapsed": false
   },
   "outputs": [
    {
     "data": {
      "text/html": [
       "<table>\n",
       "<thead><tr><th></th><th scope=col>year</th><th scope=col>month</th><th scope=col>day</th><th scope=col>dep_time</th><th scope=col>dep_delay</th><th scope=col>arr_time</th><th scope=col>arr_delay</th><th scope=col>cancelled</th><th scope=col>carrier</th><th scope=col>tailnum</th><th scope=col>flight</th><th scope=col>origin</th><th scope=col>dest</th><th scope=col>air_time</th><th scope=col>distance</th><th scope=col>hour</th><th scope=col>min</th></tr></thead>\n",
       "<tbody>\n",
       "\t<tr><th scope=row>1</th><td>2014  </td><td>1     </td><td>1     </td><td>914   </td><td>14    </td><td>1238  </td><td>13    </td><td>0     </td><td>AA    </td><td>N338AA</td><td>1     </td><td>JFK   </td><td>LAX   </td><td>359   </td><td>2475  </td><td>9     </td><td>14    </td></tr>\n",
       "\t<tr><th scope=row>2</th><td>2014  </td><td>1     </td><td>1     </td><td>1157  </td><td>-3    </td><td>1523  </td><td>13    </td><td>0     </td><td>AA    </td><td>N335AA</td><td>3     </td><td>JFK   </td><td>LAX   </td><td>363   </td><td>2475  </td><td>11    </td><td>57    </td></tr>\n",
       "</tbody>\n",
       "</table>\n"
      ],
      "text/latex": [
       "\\begin{tabular}{r|lllllllllllllllll}\n",
       "  & year & month & day & dep\\_time & dep\\_delay & arr\\_time & arr\\_delay & cancelled & carrier & tailnum & flight & origin & dest & air\\_time & distance & hour & min\\\\\n",
       "\\hline\n",
       "\t1 & 2014   & 1      & 1      & 914    & 14     & 1238   & 13     & 0      & AA     & N338AA & 1      & JFK    & LAX    & 359    & 2475   & 9      & 14    \\\\\n",
       "\t2 & 2014   & 1      & 1      & 1157   & -3     & 1523   & 13     & 0      & AA     & N335AA & 3      & JFK    & LAX    & 363    & 2475   & 11     & 57    \\\\\n",
       "\\end{tabular}\n"
      ],
      "text/plain": [
       "  year month day dep_time dep_delay arr_time arr_delay cancelled carrier\n",
       "1 2014     1   1      914        14     1238        13         0      AA\n",
       "2 2014     1   1     1157        -3     1523        13         0      AA\n",
       "  tailnum flight origin dest air_time distance hour min\n",
       "1  N338AA      1    JFK  LAX      359     2475    9  14\n",
       "2  N335AA      3    JFK  LAX      363     2475   11  57"
      ]
     },
     "metadata": {},
     "output_type": "display_data"
    }
   ],
   "source": [
    "#获取某行\n",
    "ans <- flights[1:2]\n",
    "ans"
   ]
  },
  {
   "cell_type": "code",
   "execution_count": 13,
   "metadata": {
    "collapsed": false
   },
   "outputs": [
    {
     "data": {
      "text/html": [
       "<table>\n",
       "<thead><tr><th></th><th scope=col>year</th><th scope=col>month</th><th scope=col>day</th><th scope=col>dep_time</th><th scope=col>dep_delay</th><th scope=col>arr_time</th><th scope=col>arr_delay</th><th scope=col>cancelled</th><th scope=col>carrier</th><th scope=col>tailnum</th><th scope=col>flight</th><th scope=col>origin</th><th scope=col>dest</th><th scope=col>air_time</th><th scope=col>distance</th><th scope=col>hour</th><th scope=col>min</th></tr></thead>\n",
       "<tbody>\n",
       "\t<tr><th scope=row>1</th><td>2014  </td><td>1     </td><td>1     </td><td>914   </td><td>14    </td><td>1238  </td><td>13    </td><td>0     </td><td>AA    </td><td>N338AA</td><td>1     </td><td>JFK   </td><td>LAX   </td><td>359   </td><td>2475  </td><td>9     </td><td>14    </td></tr>\n",
       "\t<tr><th scope=row>2</th><td>2014  </td><td>1     </td><td>1     </td><td>722   </td><td>-8    </td><td>1014  </td><td>-26   </td><td>0     </td><td>AA    </td><td>N3EHAA</td><td>29    </td><td>LGA   </td><td>PBI   </td><td>157   </td><td>1035  </td><td>7     </td><td>22    </td></tr>\n",
       "\t<tr><th scope=row>3</th><td>2014  </td><td>1     </td><td>1     </td><td>2133  </td><td>-2    </td><td>37    </td><td>-18   </td><td>0     </td><td>AA    </td><td>N323AA</td><td>185   </td><td>JFK   </td><td>LAX   </td><td>338   </td><td>2475  </td><td>21    </td><td>33    </td></tr>\n",
       "\t<tr><th scope=row>4</th><td>2014  </td><td>1     </td><td>1     </td><td>738   </td><td>-2    </td><td>940   </td><td>15    </td><td>0     </td><td>AA    </td><td>N3GMAA</td><td>307   </td><td>LGA   </td><td>ORD   </td><td>145   </td><td>733   </td><td>7     </td><td>38    </td></tr>\n",
       "</tbody>\n",
       "</table>\n"
      ],
      "text/latex": [
       "\\begin{tabular}{r|lllllllllllllllll}\n",
       "  & year & month & day & dep\\_time & dep\\_delay & arr\\_time & arr\\_delay & cancelled & carrier & tailnum & flight & origin & dest & air\\_time & distance & hour & min\\\\\n",
       "\\hline\n",
       "\t1 & 2014   & 1      & 1      & 914    & 14     & 1238   & 13     & 0      & AA     & N338AA & 1      & JFK    & LAX    & 359    & 2475   & 9      & 14    \\\\\n",
       "\t2 & 2014   & 1      & 1      & 722    & -8     & 1014   & -26    & 0      & AA     & N3EHAA & 29     & LGA    & PBI    & 157    & 1035   & 7      & 22    \\\\\n",
       "\t3 & 2014   & 1      & 1      & 2133   & -2     & 37     & -18    & 0      & AA     & N323AA & 185    & JFK    & LAX    & 338    & 2475   & 21     & 33    \\\\\n",
       "\t4 & 2014   & 1      & 1      & 738    & -2     & 940    & 15     & 0      & AA     & N3GMAA & 307    & LGA    & ORD    & 145    & 733    & 7      & 38    \\\\\n",
       "\\end{tabular}\n"
      ],
      "text/plain": [
       "  year month day dep_time dep_delay arr_time arr_delay cancelled carrier\n",
       "1 2014     1   1      914        14     1238        13         0      AA\n",
       "2 2014     1   1      722        -8     1014       -26         0      AA\n",
       "3 2014     1   1     2133        -2       37       -18         0      AA\n",
       "4 2014     1   1      738        -2      940        15         0      AA\n",
       "  tailnum flight origin dest air_time distance hour min\n",
       "1  N338AA      1    JFK  LAX      359     2475    9  14\n",
       "2  N3EHAA     29    LGA  PBI      157     1035    7  22\n",
       "3  N323AA    185    JFK  LAX      338     2475   21  33\n",
       "4  N3GMAA    307    LGA  ORD      145      733    7  38"
      ]
     },
     "metadata": {},
     "output_type": "display_data"
    }
   ],
   "source": [
    "ans <- flights[c(1,4,7,23)]\n",
    "ans"
   ]
  },
  {
   "cell_type": "markdown",
   "metadata": {},
   "source": [
    "### 排序\n",
    "内置order函数，使用-可以实现降序，比base的order快（16倍）"
   ]
  },
  {
   "cell_type": "code",
   "execution_count": 14,
   "metadata": {
    "collapsed": false
   },
   "outputs": [
    {
     "data": {
      "text/html": [
       "<table>\n",
       "<thead><tr><th></th><th scope=col>year</th><th scope=col>month</th><th scope=col>day</th><th scope=col>dep_time</th><th scope=col>dep_delay</th><th scope=col>arr_time</th><th scope=col>arr_delay</th><th scope=col>cancelled</th><th scope=col>carrier</th><th scope=col>tailnum</th><th scope=col>flight</th><th scope=col>origin</th><th scope=col>dest</th><th scope=col>air_time</th><th scope=col>distance</th><th scope=col>hour</th><th scope=col>min</th></tr></thead>\n",
       "<tbody>\n",
       "\t<tr><th scope=row>1</th><td>2014  </td><td>1     </td><td>5     </td><td>836   </td><td>6     </td><td>1151  </td><td>49    </td><td>0     </td><td>EV    </td><td>N12175</td><td>4419  </td><td>EWR   </td><td>XNA   </td><td>195   </td><td>1131  </td><td>8     </td><td>36    </td></tr>\n",
       "\t<tr><th scope=row>2</th><td>2014  </td><td>1     </td><td>6     </td><td>833   </td><td>7     </td><td>1111  </td><td>13    </td><td>0     </td><td>EV    </td><td>N24128</td><td>4419  </td><td>EWR   </td><td>XNA   </td><td>190   </td><td>1131  </td><td>8     </td><td>33    </td></tr>\n",
       "\t<tr><th scope=row>3</th><td>2014  </td><td>1     </td><td>7     </td><td>811   </td><td>-6    </td><td>1035  </td><td>-13   </td><td>0     </td><td>EV    </td><td>N12142</td><td>4419  </td><td>EWR   </td><td>XNA   </td><td>179   </td><td>1131  </td><td>8     </td><td>11    </td></tr>\n",
       "\t<tr><th scope=row>4</th><td>2014  </td><td>1     </td><td>8     </td><td>810   </td><td>-7    </td><td>1036  </td><td>-12   </td><td>0     </td><td>EV    </td><td>N11193</td><td>4419  </td><td>EWR   </td><td>XNA   </td><td>184   </td><td>1131  </td><td>8     </td><td>10    </td></tr>\n",
       "\t<tr><th scope=row>5</th><td>2014  </td><td>1     </td><td>9     </td><td>833   </td><td>16    </td><td>1055  </td><td>7     </td><td>0     </td><td>EV    </td><td>N14198</td><td>4419  </td><td>EWR   </td><td>XNA   </td><td>181   </td><td>1131  </td><td>8     </td><td>33    </td></tr>\n",
       "\t<tr><th scope=row>6</th><td>2014  </td><td>1     </td><td>13    </td><td>923   </td><td>66    </td><td>1154  </td><td>66    </td><td>0     </td><td>EV    </td><td>N12157</td><td>4419  </td><td>EWR   </td><td>XNA   </td><td>188   </td><td>1131  </td><td>9     </td><td>23    </td></tr>\n",
       "</tbody>\n",
       "</table>\n"
      ],
      "text/latex": [
       "\\begin{tabular}{r|lllllllllllllllll}\n",
       "  & year & month & day & dep\\_time & dep\\_delay & arr\\_time & arr\\_delay & cancelled & carrier & tailnum & flight & origin & dest & air\\_time & distance & hour & min\\\\\n",
       "\\hline\n",
       "\t1 & 2014   & 1      & 5      & 836    & 6      & 1151   & 49     & 0      & EV     & N12175 & 4419   & EWR    & XNA    & 195    & 1131   & 8      & 36    \\\\\n",
       "\t2 & 2014   & 1      & 6      & 833    & 7      & 1111   & 13     & 0      & EV     & N24128 & 4419   & EWR    & XNA    & 190    & 1131   & 8      & 33    \\\\\n",
       "\t3 & 2014   & 1      & 7      & 811    & -6     & 1035   & -13    & 0      & EV     & N12142 & 4419   & EWR    & XNA    & 179    & 1131   & 8      & 11    \\\\\n",
       "\t4 & 2014   & 1      & 8      & 810    & -7     & 1036   & -12    & 0      & EV     & N11193 & 4419   & EWR    & XNA    & 184    & 1131   & 8      & 10    \\\\\n",
       "\t5 & 2014   & 1      & 9      & 833    & 16     & 1055   & 7      & 0      & EV     & N14198 & 4419   & EWR    & XNA    & 181    & 1131   & 8      & 33    \\\\\n",
       "\t6 & 2014   & 1      & 13     & 923    & 66     & 1154   & 66     & 0      & EV     & N12157 & 4419   & EWR    & XNA    & 188    & 1131   & 9      & 23    \\\\\n",
       "\\end{tabular}\n"
      ],
      "text/plain": [
       "  year month day dep_time dep_delay arr_time arr_delay cancelled carrier\n",
       "1 2014     1   5      836         6     1151        49         0      EV\n",
       "2 2014     1   6      833         7     1111        13         0      EV\n",
       "3 2014     1   7      811        -6     1035       -13         0      EV\n",
       "4 2014     1   8      810        -7     1036       -12         0      EV\n",
       "5 2014     1   9      833        16     1055         7         0      EV\n",
       "6 2014     1  13      923        66     1154        66         0      EV\n",
       "  tailnum flight origin dest air_time distance hour min\n",
       "1  N12175   4419    EWR  XNA      195     1131    8  36\n",
       "2  N24128   4419    EWR  XNA      190     1131    8  33\n",
       "3  N12142   4419    EWR  XNA      179     1131    8  11\n",
       "4  N11193   4419    EWR  XNA      184     1131    8  10\n",
       "5  N14198   4419    EWR  XNA      181     1131    8  33\n",
       "6  N12157   4419    EWR  XNA      188     1131    9  23"
      ]
     },
     "metadata": {},
     "output_type": "display_data"
    }
   ],
   "source": [
    "ans <- flights[order( origin, -dest)] #可以写出多个，会按顺序排\n",
    "head(ans)"
   ]
  },
  {
   "cell_type": "markdown",
   "metadata": {},
   "source": [
    "### select列(参数j）"
   ]
  },
  {
   "cell_type": "code",
   "execution_count": 15,
   "metadata": {
    "collapsed": false
   },
   "outputs": [
    {
     "data": {
      "text/html": [
       "<ol class=list-inline>\n",
       "\t<li>13</li>\n",
       "\t<li>13</li>\n",
       "\t<li>9</li>\n",
       "\t<li>-26</li>\n",
       "\t<li>1</li>\n",
       "\t<li>0</li>\n",
       "</ol>\n"
      ],
      "text/latex": [
       "\\begin{enumerate*}\n",
       "\\item 13\n",
       "\\item 13\n",
       "\\item 9\n",
       "\\item -26\n",
       "\\item 1\n",
       "\\item 0\n",
       "\\end{enumerate*}\n"
      ],
      "text/markdown": [
       "1. 13\n",
       "2. 13\n",
       "3. 9\n",
       "4. -26\n",
       "5. 1\n",
       "6. 0\n",
       "\n",
       "\n"
      ],
      "text/plain": [
       "[1]  13  13   9 -26   1   0"
      ]
     },
     "metadata": {},
     "output_type": "display_data"
    }
   ],
   "source": [
    "# 基础语法DT[i, j, by] ，用一个，隔开进入j，选择列\n",
    "ans <- flights[, arr_delay]\n",
    "head(ans)"
   ]
  },
  {
   "cell_type": "code",
   "execution_count": 16,
   "metadata": {
    "collapsed": false
   },
   "outputs": [
    {
     "data": {
      "text/html": [
       "<ol class=list-inline>\n",
       "\t<li>13</li>\n",
       "\t<li>13</li>\n",
       "\t<li>9</li>\n",
       "\t<li>-26</li>\n",
       "</ol>\n"
      ],
      "text/latex": [
       "\\begin{enumerate*}\n",
       "\\item 13\n",
       "\\item 13\n",
       "\\item 9\n",
       "\\item -26\n",
       "\\end{enumerate*}\n"
      ],
      "text/markdown": [
       "1. 13\n",
       "2. 13\n",
       "3. 9\n",
       "4. -26\n",
       "\n",
       "\n"
      ],
      "text/plain": [
       "[1]  13  13   9 -26"
      ]
     },
     "metadata": {},
     "output_type": "display_data"
    }
   ],
   "source": [
    "#如果想指定行和列\n",
    "ans <- flights[1:4 , arr_delay]\n",
    "head(ans)"
   ]
  },
  {
   "cell_type": "code",
   "execution_count": 22,
   "metadata": {
    "collapsed": false
   },
   "outputs": [
    {
     "name": "stdout",
     "output_type": "stream",
     "text": [
      " int [1:4] 13 13 9 -26\n"
     ]
    }
   ],
   "source": [
    "str(ans) #返回向量"
   ]
  },
  {
   "cell_type": "code",
   "execution_count": 23,
   "metadata": {
    "collapsed": false
   },
   "outputs": [
    {
     "data": {
      "text/html": [
       "<table>\n",
       "<thead><tr><th></th><th scope=col>arr_delay</th></tr></thead>\n",
       "<tbody>\n",
       "\t<tr><th scope=row>1</th><td>13</td></tr>\n",
       "\t<tr><th scope=row>2</th><td>13</td></tr>\n",
       "\t<tr><th scope=row>3</th><td>9</td></tr>\n",
       "\t<tr><th scope=row>4</th><td>-26</td></tr>\n",
       "\t<tr><th scope=row>5</th><td>1</td></tr>\n",
       "\t<tr><th scope=row>6</th><td>0</td></tr>\n",
       "</tbody>\n",
       "</table>\n"
      ],
      "text/latex": [
       "\\begin{tabular}{r|l}\n",
       "  & arr\\_delay\\\\\n",
       "\\hline\n",
       "\t1 & 13\\\\\n",
       "\t2 & 13\\\\\n",
       "\t3 & 9\\\\\n",
       "\t4 & -26\\\\\n",
       "\t5 & 1\\\\\n",
       "\t6 & 0\\\\\n",
       "\\end{tabular}\n"
      ],
      "text/plain": [
       "  arr_delay\n",
       "1        13\n",
       "2        13\n",
       "3         9\n",
       "4       -26\n",
       "5         1\n",
       "6         0"
      ]
     },
     "metadata": {},
     "output_type": "display_data"
    }
   ],
   "source": [
    "# 如果想要返回datatable,用list包围列名，或者.()也可以，\n",
    "ans <- flights[, list(arr_delay)]\n",
    "head(ans)"
   ]
  },
  {
   "cell_type": "code",
   "execution_count": 24,
   "metadata": {
    "collapsed": false
   },
   "outputs": [
    {
     "name": "stdout",
     "output_type": "stream",
     "text": [
      "Classes 'data.table' and 'data.frame':\t253316 obs. of  1 variable:\n",
      " $ arr_delay: int  13 13 9 -26 1 0 -18 -14 -17 -14 ...\n",
      " - attr(*, \".internal.selfref\")=<externalptr> \n"
     ]
    }
   ],
   "source": [
    "str(ans)"
   ]
  },
  {
   "cell_type": "code",
   "execution_count": 25,
   "metadata": {
    "collapsed": false
   },
   "outputs": [
    {
     "data": {
      "text/html": [
       "<table>\n",
       "<thead><tr><th></th><th scope=col>arr_delay</th><th scope=col>dep_delay</th></tr></thead>\n",
       "<tbody>\n",
       "\t<tr><th scope=row>1</th><td>13</td><td>14</td></tr>\n",
       "\t<tr><th scope=row>2</th><td>13</td><td>-3</td></tr>\n",
       "\t<tr><th scope=row>3</th><td>9</td><td>2</td></tr>\n",
       "\t<tr><th scope=row>4</th><td>-26</td><td> -8</td></tr>\n",
       "\t<tr><th scope=row>5</th><td>1</td><td>2</td></tr>\n",
       "\t<tr><th scope=row>6</th><td>0</td><td>4</td></tr>\n",
       "</tbody>\n",
       "</table>\n"
      ],
      "text/latex": [
       "\\begin{tabular}{r|ll}\n",
       "  & arr\\_delay & dep\\_delay\\\\\n",
       "\\hline\n",
       "\t1 & 13 & 14\\\\\n",
       "\t2 & 13 & -3\\\\\n",
       "\t3 & 9 & 2\\\\\n",
       "\t4 & -26 &  -8\\\\\n",
       "\t5 & 1 & 2\\\\\n",
       "\t6 & 0 & 4\\\\\n",
       "\\end{tabular}\n"
      ],
      "text/plain": [
       "  arr_delay dep_delay\n",
       "1        13        14\n",
       "2        13        -3\n",
       "3         9         2\n",
       "4       -26        -8\n",
       "5         1         2\n",
       "6         0         4"
      ]
     },
     "metadata": {},
     "output_type": "display_data"
    }
   ],
   "source": [
    "# list()里面可以包含很多个列名\n",
    "ans <- flights[, .(arr_delay, dep_delay)]\n",
    "head(ans)"
   ]
  },
  {
   "cell_type": "code",
   "execution_count": 27,
   "metadata": {
    "collapsed": false
   },
   "outputs": [
    {
     "data": {
      "text/html": [
       "<table>\n",
       "<thead><tr><th></th><th scope=col>delay_arr</th><th scope=col>delay_dep</th></tr></thead>\n",
       "<tbody>\n",
       "\t<tr><th scope=row>1</th><td>13</td><td>14</td></tr>\n",
       "\t<tr><th scope=row>2</th><td>13</td><td>-3</td></tr>\n",
       "\t<tr><th scope=row>3</th><td>9</td><td>2</td></tr>\n",
       "\t<tr><th scope=row>4</th><td>-26</td><td> -8</td></tr>\n",
       "\t<tr><th scope=row>5</th><td>1</td><td>2</td></tr>\n",
       "\t<tr><th scope=row>6</th><td>0</td><td>4</td></tr>\n",
       "</tbody>\n",
       "</table>\n"
      ],
      "text/latex": [
       "\\begin{tabular}{r|ll}\n",
       "  & delay\\_arr & delay\\_dep\\\\\n",
       "\\hline\n",
       "\t1 & 13 & 14\\\\\n",
       "\t2 & 13 & -3\\\\\n",
       "\t3 & 9 & 2\\\\\n",
       "\t4 & -26 &  -8\\\\\n",
       "\t5 & 1 & 2\\\\\n",
       "\t6 & 0 & 4\\\\\n",
       "\\end{tabular}\n"
      ],
      "text/plain": [
       "  delay_arr delay_dep\n",
       "1        13        14\n",
       "2        13        -3\n",
       "3         9         2\n",
       "4       -26        -8\n",
       "5         1         2\n",
       "6         0         4"
      ]
     },
     "metadata": {},
     "output_type": "display_data"
    }
   ],
   "source": [
    "#也支持在select列的时候对列命名\n",
    "ans <- flights[, .(delay_arr = arr_delay, delay_dep = dep_delay)]\n",
    "head(ans)"
   ]
  },
  {
   "cell_type": "code",
   "execution_count": 37,
   "metadata": {
    "collapsed": false
   },
   "outputs": [
    {
     "data": {
      "text/html": [
       "<table>\n",
       "<thead><tr><th></th><th scope=col>arr_delay</th><th scope=col>dep_delay</th></tr></thead>\n",
       "<tbody>\n",
       "\t<tr><th scope=row>1</th><td>13</td><td>14</td></tr>\n",
       "\t<tr><th scope=row>2</th><td>13</td><td>-3</td></tr>\n",
       "\t<tr><th scope=row>3</th><td>9</td><td>2</td></tr>\n",
       "\t<tr><th scope=row>4</th><td>-26</td><td> -8</td></tr>\n",
       "\t<tr><th scope=row>5</th><td>1</td><td>2</td></tr>\n",
       "\t<tr><th scope=row>6</th><td>0</td><td>4</td></tr>\n",
       "</tbody>\n",
       "</table>\n"
      ],
      "text/latex": [
       "\\begin{tabular}{r|ll}\n",
       "  & arr\\_delay & dep\\_delay\\\\\n",
       "\\hline\n",
       "\t1 & 13 & 14\\\\\n",
       "\t2 & 13 & -3\\\\\n",
       "\t3 & 9 & 2\\\\\n",
       "\t4 & -26 &  -8\\\\\n",
       "\t5 & 1 & 2\\\\\n",
       "\t6 & 0 & 4\\\\\n",
       "\\end{tabular}\n"
      ],
      "text/plain": [
       "  arr_delay dep_delay\n",
       "1        13        14\n",
       "2        13        -3\n",
       "3         9         2\n",
       "4       -26        -8\n",
       "5         1         2\n",
       "6         0         4"
      ]
     },
     "metadata": {},
     "output_type": "display_data"
    }
   ],
   "source": [
    "#也可以用with =FALSE 来用列名引用\n",
    "ans <- flights[, c(\"arr_delay\", \"dep_delay\"), with=FALSE]\n",
    "head(ans)"
   ]
  },
  {
   "cell_type": "code",
   "execution_count": 41,
   "metadata": {
    "collapsed": false,
    "scrolled": true
   },
   "outputs": [
    {
     "data": {
      "text/html": [
       "<table>\n",
       "<thead><tr><th></th><th scope=col>year</th><th scope=col>month</th><th scope=col>day</th><th scope=col>dep_time</th><th scope=col>arr_time</th><th scope=col>cancelled</th><th scope=col>carrier</th><th scope=col>tailnum</th><th scope=col>flight</th><th scope=col>origin</th><th scope=col>dest</th><th scope=col>air_time</th><th scope=col>distance</th><th scope=col>hour</th><th scope=col>min</th></tr></thead>\n",
       "<tbody>\n",
       "\t<tr><th scope=row>1</th><td>2014  </td><td>1     </td><td>1     </td><td>914   </td><td>1238  </td><td>0     </td><td>AA    </td><td>N338AA</td><td>1     </td><td>JFK   </td><td>LAX   </td><td>359   </td><td>2475  </td><td>9     </td><td>14    </td></tr>\n",
       "\t<tr><th scope=row>2</th><td>2014  </td><td>1     </td><td>1     </td><td>1157  </td><td>1523  </td><td>0     </td><td>AA    </td><td>N335AA</td><td>3     </td><td>JFK   </td><td>LAX   </td><td>363   </td><td>2475  </td><td>11    </td><td>57    </td></tr>\n",
       "\t<tr><th scope=row>3</th><td>2014  </td><td>1     </td><td>1     </td><td>1902  </td><td>2224  </td><td>0     </td><td>AA    </td><td>N327AA</td><td>21    </td><td>JFK   </td><td>LAX   </td><td>351   </td><td>2475  </td><td>19    </td><td>2     </td></tr>\n",
       "\t<tr><th scope=row>4</th><td>2014  </td><td>1     </td><td>1     </td><td>722   </td><td>1014  </td><td>0     </td><td>AA    </td><td>N3EHAA</td><td>29    </td><td>LGA   </td><td>PBI   </td><td>157   </td><td>1035  </td><td>7     </td><td>22    </td></tr>\n",
       "\t<tr><th scope=row>5</th><td>2014  </td><td>1     </td><td>1     </td><td>1347  </td><td>1706  </td><td>0     </td><td>AA    </td><td>N319AA</td><td>117   </td><td>JFK   </td><td>LAX   </td><td>350   </td><td>2475  </td><td>13    </td><td>47    </td></tr>\n",
       "\t<tr><th scope=row>6</th><td>2014  </td><td>1     </td><td>1     </td><td>1824  </td><td>2145  </td><td>0     </td><td>AA    </td><td>N3DEAA</td><td>119   </td><td>EWR   </td><td>LAX   </td><td>339   </td><td>2454  </td><td>18    </td><td>24    </td></tr>\n",
       "</tbody>\n",
       "</table>\n"
      ],
      "text/latex": [
       "\\begin{tabular}{r|lllllllllllllll}\n",
       "  & year & month & day & dep\\_time & arr\\_time & cancelled & carrier & tailnum & flight & origin & dest & air\\_time & distance & hour & min\\\\\n",
       "\\hline\n",
       "\t1 & 2014   & 1      & 1      & 914    & 1238   & 0      & AA     & N338AA & 1      & JFK    & LAX    & 359    & 2475   & 9      & 14    \\\\\n",
       "\t2 & 2014   & 1      & 1      & 1157   & 1523   & 0      & AA     & N335AA & 3      & JFK    & LAX    & 363    & 2475   & 11     & 57    \\\\\n",
       "\t3 & 2014   & 1      & 1      & 1902   & 2224   & 0      & AA     & N327AA & 21     & JFK    & LAX    & 351    & 2475   & 19     & 2     \\\\\n",
       "\t4 & 2014   & 1      & 1      & 722    & 1014   & 0      & AA     & N3EHAA & 29     & LGA    & PBI    & 157    & 1035   & 7      & 22    \\\\\n",
       "\t5 & 2014   & 1      & 1      & 1347   & 1706   & 0      & AA     & N319AA & 117    & JFK    & LAX    & 350    & 2475   & 13     & 47    \\\\\n",
       "\t6 & 2014   & 1      & 1      & 1824   & 2145   & 0      & AA     & N3DEAA & 119    & EWR    & LAX    & 339    & 2454   & 18     & 24    \\\\\n",
       "\\end{tabular}\n"
      ],
      "text/plain": [
       "  year month day dep_time arr_time cancelled carrier tailnum flight origin dest\n",
       "1 2014     1   1      914     1238         0      AA  N338AA      1    JFK  LAX\n",
       "2 2014     1   1     1157     1523         0      AA  N335AA      3    JFK  LAX\n",
       "3 2014     1   1     1902     2224         0      AA  N327AA     21    JFK  LAX\n",
       "4 2014     1   1      722     1014         0      AA  N3EHAA     29    LGA  PBI\n",
       "5 2014     1   1     1347     1706         0      AA  N319AA    117    JFK  LAX\n",
       "6 2014     1   1     1824     2145         0      AA  N3DEAA    119    EWR  LAX\n",
       "  air_time distance hour min\n",
       "1      359     2475    9  14\n",
       "2      363     2475   11  57\n",
       "3      351     2475   19   2\n",
       "4      157     1035    7  22\n",
       "5      350     2475   13  47\n",
       "6      339     2454   18  24"
      ]
     },
     "metadata": {},
     "output_type": "display_data"
    }
   ],
   "source": [
    "#排除列, with模式关闭条件下，用!或者-\n",
    "ans <- flights[, !c(\"arr_delay\", \"dep_delay\"),with = FALSE]\n",
    "head(ans)"
   ]
  },
  {
   "cell_type": "code",
   "execution_count": 42,
   "metadata": {
    "collapsed": false
   },
   "outputs": [
    {
     "data": {
      "text/html": [
       "<table>\n",
       "<thead><tr><th></th><th scope=col>month</th><th scope=col>day</th><th scope=col>dep_time</th><th scope=col>dep_delay</th><th scope=col>arr_time</th><th scope=col>arr_delay</th><th scope=col>cancelled</th><th scope=col>carrier</th></tr></thead>\n",
       "<tbody>\n",
       "\t<tr><th scope=row>1</th><td>1   </td><td>1   </td><td>914 </td><td>14  </td><td>1238</td><td>13  </td><td>0   </td><td>AA  </td></tr>\n",
       "\t<tr><th scope=row>2</th><td>1   </td><td>1   </td><td>1157</td><td>-3  </td><td>1523</td><td>13  </td><td>0   </td><td>AA  </td></tr>\n",
       "\t<tr><th scope=row>3</th><td>1   </td><td>1   </td><td>1902</td><td>2   </td><td>2224</td><td>9   </td><td>0   </td><td>AA  </td></tr>\n",
       "\t<tr><th scope=row>4</th><td>1   </td><td>1   </td><td>722 </td><td>-8  </td><td>1014</td><td>-26 </td><td>0   </td><td>AA  </td></tr>\n",
       "\t<tr><th scope=row>5</th><td>1   </td><td>1   </td><td>1347</td><td>2   </td><td>1706</td><td>1   </td><td>0   </td><td>AA  </td></tr>\n",
       "\t<tr><th scope=row>6</th><td>1   </td><td>1   </td><td>1824</td><td>4   </td><td>2145</td><td>0   </td><td>0   </td><td>AA  </td></tr>\n",
       "</tbody>\n",
       "</table>\n"
      ],
      "text/latex": [
       "\\begin{tabular}{r|llllllll}\n",
       "  & month & day & dep\\_time & dep\\_delay & arr\\_time & arr\\_delay & cancelled & carrier\\\\\n",
       "\\hline\n",
       "\t1 & 1    & 1    & 914  & 14   & 1238 & 13   & 0    & AA  \\\\\n",
       "\t2 & 1    & 1    & 1157 & -3   & 1523 & 13   & 0    & AA  \\\\\n",
       "\t3 & 1    & 1    & 1902 & 2    & 2224 & 9    & 0    & AA  \\\\\n",
       "\t4 & 1    & 1    & 722  & -8   & 1014 & -26  & 0    & AA  \\\\\n",
       "\t5 & 1    & 1    & 1347 & 2    & 1706 & 1    & 0    & AA  \\\\\n",
       "\t6 & 1    & 1    & 1824 & 4    & 2145 & 0    & 0    & AA  \\\\\n",
       "\\end{tabular}\n"
      ],
      "text/plain": [
       "  month day dep_time dep_delay arr_time arr_delay cancelled carrier\n",
       "1     1   1      914        14     1238        13         0      AA\n",
       "2     1   1     1157        -3     1523        13         0      AA\n",
       "3     1   1     1902         2     2224         9         0      AA\n",
       "4     1   1      722        -8     1014       -26         0      AA\n",
       "5     1   1     1347         2     1706         1         0      AA\n",
       "6     1   1     1824         4     2145         0         0      AA"
      ]
     },
     "metadata": {},
     "output_type": "display_data"
    }
   ],
   "source": [
    "# 选择连续的列\n",
    "ans <- flights[, month:carrier, with = FALSE]\n",
    "head(ans)"
   ]
  },
  {
   "cell_type": "markdown",
   "metadata": {},
   "source": [
    "### 运算（参数j）"
   ]
  },
  {
   "cell_type": "code",
   "execution_count": 29,
   "metadata": {
    "collapsed": false
   },
   "outputs": [
    {
     "data": {
      "text/html": [
       "141814"
      ],
      "text/latex": [
       "141814"
      ],
      "text/markdown": [
       "141814"
      ],
      "text/plain": [
       "[1] 141814"
      ]
     },
     "metadata": {},
     "output_type": "display_data"
    }
   ],
   "source": [
    "#多少航班完全没有延误\n",
    "#对arr_delay和dep_delay求和后，判断是否小于0，把小于0的个数求和\n",
    "ans <- flights[, sum((arr_delay+dep_delay) <0)]\n",
    "ans"
   ]
  },
  {
   "cell_type": "markdown",
   "metadata": {},
   "source": [
    "### 选取（i）且运算（j)"
   ]
  },
  {
   "cell_type": "code",
   "execution_count": 32,
   "metadata": {
    "collapsed": false
   },
   "outputs": [
    {
     "data": {
      "text/html": [
       "<table>\n",
       "<thead><tr><th></th><th scope=col>m_arr</th><th scope=col>m_dep</th></tr></thead>\n",
       "<tbody>\n",
       "\t<tr><th scope=row>1</th><td>5.839349</td><td>9.807884</td></tr>\n",
       "</tbody>\n",
       "</table>\n"
      ],
      "text/latex": [
       "\\begin{tabular}{r|ll}\n",
       "  & m\\_arr & m\\_dep\\\\\n",
       "\\hline\n",
       "\t1 & 5.839349 & 9.807884\\\\\n",
       "\\end{tabular}\n"
      ],
      "text/plain": [
       "     m_arr    m_dep\n",
       "1 5.839349 9.807884"
      ]
     },
     "metadata": {},
     "output_type": "display_data"
    }
   ],
   "source": [
    "#在六月份，从”JFK”机场起飞的航班中，计算起飞和到达的平均延误时间\n",
    "ans <- flights[origin == \"JFK\" & month == 6L, .(m_arr = mean(arr_delay), m_dep = mean(dep_delay))]\n",
    "ans"
   ]
  },
  {
   "cell_type": "code",
   "execution_count": 35,
   "metadata": {
    "collapsed": false
   },
   "outputs": [
    {
     "data": {
      "text/html": [
       "8422"
      ],
      "text/latex": [
       "8422"
      ],
      "text/markdown": [
       "8422"
      ],
      "text/plain": [
       "[1] 8422"
      ]
     },
     "metadata": {},
     "output_type": "display_data"
    }
   ],
   "source": [
    "# 在六月份，从”JFK”机场起飞的航班一共有多少\n",
    "ans <- nrow(flights[origin == \"JFK\" & month == 6L ])\n",
    "ans"
   ]
  },
  {
   "cell_type": "markdown",
   "metadata": {},
   "source": [
    "#### .N（参数j）\n",
    ".N表示计算当前分组中对象的数目"
   ]
  },
  {
   "cell_type": "code",
   "execution_count": 36,
   "metadata": {
    "collapsed": false
   },
   "outputs": [
    {
     "data": {
      "text/html": [
       "8422"
      ],
      "text/latex": [
       "8422"
      ],
      "text/markdown": [
       "8422"
      ],
      "text/plain": [
       "[1] 8422"
      ]
     },
     "metadata": {},
     "output_type": "display_data"
    }
   ],
   "source": [
    "#这样更快\n",
    "ans <- flights[origin == \"JFK\" & month == 6L, .N]\n",
    "ans"
   ]
  },
  {
   "cell_type": "markdown",
   "metadata": {},
   "source": [
    "### 聚合（参数by）\n",
    "### 分组"
   ]
  },
  {
   "cell_type": "code",
   "execution_count": 5,
   "metadata": {
    "collapsed": false
   },
   "outputs": [
    {
     "data": {
      "text/html": [
       "<table>\n",
       "<thead><tr><th></th><th scope=col>origin</th><th scope=col>N</th></tr></thead>\n",
       "<tbody>\n",
       "\t<tr><th scope=row>1</th><td>JFK  </td><td>81483</td></tr>\n",
       "\t<tr><th scope=row>2</th><td>LGA  </td><td>84433</td></tr>\n",
       "\t<tr><th scope=row>3</th><td>EWR  </td><td>87400</td></tr>\n",
       "</tbody>\n",
       "</table>\n"
      ],
      "text/latex": [
       "\\begin{tabular}{r|ll}\n",
       "  & origin & N\\\\\n",
       "\\hline\n",
       "\t1 & JFK   & 81483\\\\\n",
       "\t2 & LGA   & 84433\\\\\n",
       "\t3 & EWR   & 87400\\\\\n",
       "\\end{tabular}\n"
      ],
      "text/plain": [
       "  origin     N\n",
       "1    JFK 81483\n",
       "2    LGA 84433\n",
       "3    EWR 87400"
      ]
     },
     "metadata": {},
     "output_type": "display_data"
    }
   ],
   "source": [
    "# 获取每个机场起飞的航班数\n",
    "ans <- flights[ , .(.N), by = .(origin)]\n",
    "# [不限制行， 计算满足条件的行个数， 分类依据]\n",
    "ans\n",
    "# ans <- flights[ , .(.N), by = .(origin)]的by也可以用by = origin,支持字符串名字"
   ]
  },
  {
   "cell_type": "code",
   "execution_count": 7,
   "metadata": {
    "collapsed": false
   },
   "outputs": [
    {
     "data": {
      "text/html": [
       "<table>\n",
       "<thead><tr><th></th><th scope=col>origin</th><th scope=col>N</th></tr></thead>\n",
       "<tbody>\n",
       "\t<tr><th scope=row>1</th><td>JFK  </td><td>11923</td></tr>\n",
       "\t<tr><th scope=row>2</th><td>LGA  </td><td>11730</td></tr>\n",
       "\t<tr><th scope=row>3</th><td>EWR </td><td>2649</td></tr>\n",
       "</tbody>\n",
       "</table>\n"
      ],
      "text/latex": [
       "\\begin{tabular}{r|ll}\n",
       "  & origin & N\\\\\n",
       "\\hline\n",
       "\t1 & JFK   & 11923\\\\\n",
       "\t2 & LGA   & 11730\\\\\n",
       "\t3 & EWR  & 2649\\\\\n",
       "\\end{tabular}\n"
      ],
      "text/plain": [
       "  origin     N\n",
       "1    JFK 11923\n",
       "2    LGA 11730\n",
       "3    EWR  2649"
      ]
     },
     "metadata": {},
     "output_type": "display_data"
    }
   ],
   "source": [
    "# 获取美航（carrier code代码是“AA”）在每个机场起飞的航班数 航空公司代码“AA”代表美航。每个航空公司的代码都是唯一的。\n",
    "ans <-  flights[carrier == \"AA\", .(.N), by = origin]\n",
    "ans"
   ]
  },
  {
   "cell_type": "code",
   "execution_count": 9,
   "metadata": {
    "collapsed": false
   },
   "outputs": [
    {
     "data": {
      "text/html": [
       "<table>\n",
       "<thead><tr><th></th><th scope=col>origin</th><th scope=col>dest</th><th scope=col>N</th></tr></thead>\n",
       "<tbody>\n",
       "\t<tr><th scope=row>1</th><td>JFK </td><td>LAX </td><td>3387</td></tr>\n",
       "\t<tr><th scope=row>2</th><td>LGA</td><td>PBI</td><td>245</td></tr>\n",
       "\t<tr><th scope=row>3</th><td>EWR</td><td>LAX</td><td>62 </td></tr>\n",
       "\t<tr><th scope=row>4</th><td>JFK </td><td>MIA </td><td>1876</td></tr>\n",
       "\t<tr><th scope=row>5</th><td>JFK</td><td>SEA</td><td>298</td></tr>\n",
       "\t<tr><th scope=row>6</th><td>EWR</td><td>MIA</td><td>848</td></tr>\n",
       "</tbody>\n",
       "</table>\n"
      ],
      "text/latex": [
       "\\begin{tabular}{r|lll}\n",
       "  & origin & dest & N\\\\\n",
       "\\hline\n",
       "\t1 & JFK  & LAX  & 3387\\\\\n",
       "\t2 & LGA & PBI & 245\\\\\n",
       "\t3 & EWR & LAX & 62 \\\\\n",
       "\t4 & JFK  & MIA  & 1876\\\\\n",
       "\t5 & JFK & SEA & 298\\\\\n",
       "\t6 & EWR & MIA & 848\\\\\n",
       "\\end{tabular}\n"
      ],
      "text/plain": [
       "  origin dest    N\n",
       "1    JFK  LAX 3387\n",
       "2    LGA  PBI  245\n",
       "3    EWR  LAX   62\n",
       "4    JFK  MIA 1876\n",
       "5    JFK  SEA  298\n",
       "6    EWR  MIA  848"
      ]
     },
     "metadata": {},
     "output_type": "display_data"
    }
   ],
   "source": [
    "#获取美航在所有机场的起／降的数目\n",
    "ans <- flights[carrier == \"AA\", .N, by=.(origin,dest)] #也可以下by=c(\"origin\",\"dest\")\n",
    "head(ans)"
   ]
  },
  {
   "cell_type": "code",
   "execution_count": 11,
   "metadata": {
    "collapsed": false,
    "scrolled": true
   },
   "outputs": [
    {
     "data": {
      "text/html": [
       "<table>\n",
       "<thead><tr><th></th><th scope=col>origin</th><th scope=col>dest</th><th scope=col>V1</th><th scope=col>V2</th></tr></thead>\n",
       "<tbody>\n",
       "\t<tr><th scope=row>1</th><td>JFK             </td><td>LAX             </td><td>2.41865958074993</td><td>5.93593150280484</td></tr>\n",
       "\t<tr><th scope=row>2</th><td>LGA               </td><td>PBI               </td><td>-8.95102040816326 </td><td>-0.212244897959184</td></tr>\n",
       "\t<tr><th scope=row>3</th><td>EWR             </td><td>LAX             </td><td>4.80645161290323</td><td>4.87096774193548</td></tr>\n",
       "\t<tr><th scope=row>4</th><td>JFK             </td><td>MIA             </td><td>1.09648187633262</td><td>9.93816631130064</td></tr>\n",
       "\t<tr><th scope=row>5</th><td>JFK             </td><td>SEA             </td><td>10.003355704698 </td><td>17.2684563758389</td></tr>\n",
       "\t<tr><th scope=row>6</th><td>EWR             </td><td>MIA             </td><td>3.24646226415094</td><td>7.50353773584906</td></tr>\n",
       "\t<tr><th scope=row>7</th><td>JFK             </td><td>SFO             </td><td>11.5792682926829</td><td>13.077743902439 </td></tr>\n",
       "\t<tr><th scope=row>8</th><td>JFK             </td><td>BOS             </td><td>7.38789428815004</td><td>8.96078431372549</td></tr>\n",
       "\t<tr><th scope=row>9</th><td>JFK             </td><td>ORD             </td><td>19.9606481481481</td><td>23.9490740740741</td></tr>\n",
       "\t<tr><th scope=row>10</th><td>JFK             </td><td>IAH             </td><td>28.8571428571429</td><td>14.2857142857143</td></tr>\n",
       "\t<tr><th scope=row>11</th><td>JFK             </td><td>AUS             </td><td>14.1380471380471</td><td>13.3501683501683</td></tr>\n",
       "\t<tr><th scope=row>12</th><td>EWR             </td><td>DFW             </td><td>16.6990111248455</td><td>17.7156983930779</td></tr>\n",
       "\t<tr><th scope=row>13</th><td>LGA             </td><td>ORD             </td><td>9.47595052679798</td><td>9.76179569399908</td></tr>\n",
       "\t<tr><th scope=row>14</th><td>JFK             </td><td>STT             </td><td>4.89082969432314</td><td>8.14410480349345</td></tr>\n",
       "\t<tr><th scope=row>15</th><td>JFK             </td><td>SJU             </td><td>5.00289855072464</td><td>9.59710144927536</td></tr>\n",
       "\t<tr><th scope=row>16</th><td>LGA               </td><td>MIA               </td><td>-0.641871625674865</td><td>4.15326934613077  </td></tr>\n",
       "\t<tr><th scope=row>17</th><td>LGA              </td><td>DFW              </td><td>0.511756935270806</td><td>4.48243064729194 </td></tr>\n",
       "\t<tr><th scope=row>18</th><td>JFK             </td><td>LAS             </td><td>12.2201680672269</td><td>8.76638655462185</td></tr>\n",
       "\t<tr><th scope=row>19</th><td>JFK             </td><td>MCO             </td><td>3.20770519262982</td><td>5.07537688442211</td></tr>\n",
       "\t<tr><th scope=row>20</th><td>JFK             </td><td>EGE             </td><td>35.4352941176471</td><td>43.3294117647059</td></tr>\n",
       "\t<tr><th scope=row>21</th><td>JFK             </td><td>DFW             </td><td>1.67510548523207</td><td>6.19620253164557</td></tr>\n",
       "\t<tr><th scope=row>22</th><td>JFK             </td><td>SAN             </td><td>17.1304347826087</td><td>14.4515050167224</td></tr>\n",
       "\t<tr><th scope=row>23</th><td>JFK             </td><td>DCA             </td><td>12.3139534883721</td><td>8.52906976744186</td></tr>\n",
       "\t<tr><th scope=row>24</th><td>EWR              </td><td>PHX              </td><td>-2.1404958677686 </td><td>0.148760330578512</td></tr>\n",
       "</tbody>\n",
       "</table>\n"
      ],
      "text/latex": [
       "\\begin{tabular}{r|llll}\n",
       "  & origin & dest & V1 & V2\\\\\n",
       "\\hline\n",
       "\t1 & JFK              & LAX              & 2.41865958074993 & 5.93593150280484\\\\\n",
       "\t2 & LGA                & PBI                & -8.95102040816326  & -0.212244897959184\\\\\n",
       "\t3 & EWR              & LAX              & 4.80645161290323 & 4.87096774193548\\\\\n",
       "\t4 & JFK              & MIA              & 1.09648187633262 & 9.93816631130064\\\\\n",
       "\t5 & JFK              & SEA              & 10.003355704698  & 17.2684563758389\\\\\n",
       "\t6 & EWR              & MIA              & 3.24646226415094 & 7.50353773584906\\\\\n",
       "\t7 & JFK              & SFO              & 11.5792682926829 & 13.077743902439 \\\\\n",
       "\t8 & JFK              & BOS              & 7.38789428815004 & 8.96078431372549\\\\\n",
       "\t9 & JFK              & ORD              & 19.9606481481481 & 23.9490740740741\\\\\n",
       "\t10 & JFK              & IAH              & 28.8571428571429 & 14.2857142857143\\\\\n",
       "\t11 & JFK              & AUS              & 14.1380471380471 & 13.3501683501683\\\\\n",
       "\t12 & EWR              & DFW              & 16.6990111248455 & 17.7156983930779\\\\\n",
       "\t13 & LGA              & ORD              & 9.47595052679798 & 9.76179569399908\\\\\n",
       "\t14 & JFK              & STT              & 4.89082969432314 & 8.14410480349345\\\\\n",
       "\t15 & JFK              & SJU              & 5.00289855072464 & 9.59710144927536\\\\\n",
       "\t16 & LGA                & MIA                & -0.641871625674865 & 4.15326934613077  \\\\\n",
       "\t17 & LGA               & DFW               & 0.511756935270806 & 4.48243064729194 \\\\\n",
       "\t18 & JFK              & LAS              & 12.2201680672269 & 8.76638655462185\\\\\n",
       "\t19 & JFK              & MCO              & 3.20770519262982 & 5.07537688442211\\\\\n",
       "\t20 & JFK              & EGE              & 35.4352941176471 & 43.3294117647059\\\\\n",
       "\t21 & JFK              & DFW              & 1.67510548523207 & 6.19620253164557\\\\\n",
       "\t22 & JFK              & SAN              & 17.1304347826087 & 14.4515050167224\\\\\n",
       "\t23 & JFK              & DCA              & 12.3139534883721 & 8.52906976744186\\\\\n",
       "\t24 & EWR               & PHX               & -2.1404958677686  & 0.148760330578512\\\\\n",
       "\\end{tabular}\n"
      ],
      "text/plain": [
       "   origin dest         V1         V2\n",
       "1     JFK  LAX  2.4186596  5.9359315\n",
       "2     LGA  PBI -8.9510204 -0.2122449\n",
       "3     EWR  LAX  4.8064516  4.8709677\n",
       "4     JFK  MIA  1.0964819  9.9381663\n",
       "5     JFK  SEA 10.0033557 17.2684564\n",
       "6     EWR  MIA  3.2464623  7.5035377\n",
       "7     JFK  SFO 11.5792683 13.0777439\n",
       "8     JFK  BOS  7.3878943  8.9607843\n",
       "9     JFK  ORD 19.9606481 23.9490741\n",
       "10    JFK  IAH 28.8571429 14.2857143\n",
       "11    JFK  AUS 14.1380471 13.3501684\n",
       "12    EWR  DFW 16.6990111 17.7156984\n",
       "13    LGA  ORD  9.4759505  9.7617957\n",
       "14    JFK  STT  4.8908297  8.1441048\n",
       "15    JFK  SJU  5.0028986  9.5971014\n",
       "16    LGA  MIA -0.6418716  4.1532693\n",
       "17    LGA  DFW  0.5117569  4.4824306\n",
       "18    JFK  LAS 12.2201681  8.7663866\n",
       "19    JFK  MCO  3.2077052  5.0753769\n",
       "20    JFK  EGE 35.4352941 43.3294118\n",
       "21    JFK  DFW  1.6751055  6.1962025\n",
       "22    JFK  SAN 17.1304348 14.4515050\n",
       "23    JFK  DCA 12.3139535  8.5290698\n",
       "24    EWR  PHX -2.1404959  0.1487603"
      ]
     },
     "metadata": {},
     "output_type": "display_data"
    }
   ],
   "source": [
    "# 获取美航在所有机场的起／降的平均延误时间\n",
    "ans <- flights[carrier == \"AA\", .(mean(arr_delay), mean(dep_delay)), by=.(origin, dest)]\n",
    "ans"
   ]
  },
  {
   "cell_type": "markdown",
   "metadata": {},
   "source": [
    "### 分组排序\n",
    "默认会按照元数据中的顺序而不是按照分组归类排,把by改成keyby就可以按分组变量排序"
   ]
  },
  {
   "cell_type": "code",
   "execution_count": 4,
   "metadata": {
    "collapsed": false
   },
   "outputs": [
    {
     "data": {
      "text/html": [
       "<table>\n",
       "<thead><tr><th></th><th scope=col>origin</th><th scope=col>dest</th><th scope=col>month</th><th scope=col>V1</th><th scope=col>V2</th></tr></thead>\n",
       "<tbody>\n",
       "\t<tr><th scope=row>1</th><td>EWR             </td><td>DFW             </td><td>1               </td><td>6.42767295597484</td><td>10.0125786163522</td></tr>\n",
       "\t<tr><th scope=row>2</th><td>EWR             </td><td>DFW             </td><td>2               </td><td>10.5367647058824</td><td>11.3455882352941</td></tr>\n",
       "\t<tr><th scope=row>3</th><td>EWR             </td><td>DFW             </td><td>3               </td><td>12.8650306748466</td><td>8.07975460122699</td></tr>\n",
       "\t<tr><th scope=row>4</th><td>EWR             </td><td>DFW             </td><td>4               </td><td>17.7926829268293</td><td>12.9207317073171</td></tr>\n",
       "\t<tr><th scope=row>5</th><td>EWR             </td><td>DFW             </td><td>5               </td><td>18.4878048780488</td><td>18.6829268292683</td></tr>\n",
       "\t<tr><th scope=row>6</th><td>EWR             </td><td>DFW             </td><td>6               </td><td>37.0059523809524</td><td>38.7440476190476</td></tr>\n",
       "</tbody>\n",
       "</table>\n"
      ],
      "text/latex": [
       "\\begin{tabular}{r|lllll}\n",
       "  & origin & dest & month & V1 & V2\\\\\n",
       "\\hline\n",
       "\t1 & EWR              & DFW              & 1                & 6.42767295597484 & 10.0125786163522\\\\\n",
       "\t2 & EWR              & DFW              & 2                & 10.5367647058824 & 11.3455882352941\\\\\n",
       "\t3 & EWR              & DFW              & 3                & 12.8650306748466 & 8.07975460122699\\\\\n",
       "\t4 & EWR              & DFW              & 4                & 17.7926829268293 & 12.9207317073171\\\\\n",
       "\t5 & EWR              & DFW              & 5                & 18.4878048780488 & 18.6829268292683\\\\\n",
       "\t6 & EWR              & DFW              & 6                & 37.0059523809524 & 38.7440476190476\\\\\n",
       "\\end{tabular}\n"
      ],
      "text/plain": [
       "  origin dest month        V1        V2\n",
       "1    EWR  DFW     1  6.427673 10.012579\n",
       "2    EWR  DFW     2 10.536765 11.345588\n",
       "3    EWR  DFW     3 12.865031  8.079755\n",
       "4    EWR  DFW     4 17.792683 12.920732\n",
       "5    EWR  DFW     5 18.487805 18.682927\n",
       "6    EWR  DFW     6 37.005952 38.744048"
      ]
     },
     "metadata": {},
     "output_type": "display_data"
    }
   ],
   "source": [
    "# 按照分组的变量排序\n",
    "ans <- flights[carrier == \"AA\", .(mean(arr_delay), mean(dep_delay)), keyby=.(origin, dest, month)]\n",
    "head(ans)"
   ]
  },
  {
   "cell_type": "code",
   "execution_count": 7,
   "metadata": {
    "collapsed": false
   },
   "outputs": [
    {
     "data": {
      "text/html": [
       "<table>\n",
       "<thead><tr><th></th><th scope=col>month</th><th scope=col>origin</th><th scope=col>dest</th><th scope=col>V1</th><th scope=col>V2</th></tr></thead>\n",
       "<tbody>\n",
       "\t<tr><th scope=row>1</th><td>1               </td><td>EWR             </td><td>DFW             </td><td>6.42767295597484</td><td>10.0125786163522</td></tr>\n",
       "\t<tr><th scope=row>2</th><td>1               </td><td>EWR             </td><td>LAX             </td><td>1.36666666666667</td><td>7.5             </td></tr>\n",
       "\t<tr><th scope=row>3</th><td>1               </td><td>EWR             </td><td>MIA             </td><td>11.0112359550562</td><td>12.123595505618 </td></tr>\n",
       "\t<tr><th scope=row>4</th><td>1   </td><td>JFK </td><td>AUS </td><td>25.2</td><td>27.6</td></tr>\n",
       "\t<tr><th scope=row>5</th><td>1               </td><td>JFK             </td><td>BOS             </td><td>12.9196428571429</td><td>15.2142857142857</td></tr>\n",
       "\t<tr><th scope=row>6</th><td>1    </td><td>JFK  </td><td>DFW  </td><td>-11.9</td><td>8.8  </td></tr>\n",
       "</tbody>\n",
       "</table>\n"
      ],
      "text/latex": [
       "\\begin{tabular}{r|lllll}\n",
       "  & month & origin & dest & V1 & V2\\\\\n",
       "\\hline\n",
       "\t1 & 1                & EWR              & DFW              & 6.42767295597484 & 10.0125786163522\\\\\n",
       "\t2 & 1                & EWR              & LAX              & 1.36666666666667 & 7.5             \\\\\n",
       "\t3 & 1                & EWR              & MIA              & 11.0112359550562 & 12.123595505618 \\\\\n",
       "\t4 & 1    & JFK  & AUS  & 25.2 & 27.6\\\\\n",
       "\t5 & 1                & JFK              & BOS              & 12.9196428571429 & 15.2142857142857\\\\\n",
       "\t6 & 1     & JFK   & DFW   & -11.9 & 8.8  \\\\\n",
       "\\end{tabular}\n"
      ],
      "text/plain": [
       "  month origin dest         V1       V2\n",
       "1     1    EWR  DFW   6.427673 10.01258\n",
       "2     1    EWR  LAX   1.366667  7.50000\n",
       "3     1    EWR  MIA  11.011236 12.12360\n",
       "4     1    JFK  AUS  25.200000 27.60000\n",
       "5     1    JFK  BOS  12.919643 15.21429\n",
       "6     1    JFK  DFW -11.900000  8.80000"
      ]
     },
     "metadata": {},
     "output_type": "display_data"
    }
   ],
   "source": [
    "ans <- flights[carrier == \"AA\", .(mean(arr_delay), mean(dep_delay)), keyby=.( month,origin, dest)]\n",
    "head(ans)"
   ]
  },
  {
   "cell_type": "markdown",
   "metadata": {},
   "source": [
    "### chaining表达式\n",
    "上述做法只能分组，但是无法方便地指定正序还是倒序"
   ]
  },
  {
   "cell_type": "code",
   "execution_count": 8,
   "metadata": {
    "collapsed": false,
    "scrolled": true
   },
   "outputs": [
    {
     "data": {
      "text/html": [
       "<table>\n",
       "<thead><tr><th></th><th scope=col>month</th><th scope=col>origin</th><th scope=col>dest</th><th scope=col>V1</th><th scope=col>V2</th></tr></thead>\n",
       "<tbody>\n",
       "\t<tr><th scope=row>1</th><td>10              </td><td>EWR             </td><td>DFW             </td><td>18.8136645962733</td><td>18.8944099378882</td></tr>\n",
       "\t<tr><th scope=row>2</th><td>10               </td><td>EWR              </td><td>MIA              </td><td>-4.47540983606557</td><td>-3.78688524590164</td></tr>\n",
       "\t<tr><th scope=row>3</th><td>10               </td><td>EWR              </td><td>PHX              </td><td>-3.03225806451613</td><td>-4.29032258064516</td></tr>\n",
       "\t<tr><th scope=row>4</th><td>10              </td><td>JFK             </td><td>AUS             </td><td>3.29032258064516</td><td>6.29032258064516</td></tr>\n",
       "\t<tr><th scope=row>5</th><td>10              </td><td>JFK             </td><td>BOS             </td><td>11.5            </td><td>10.2704918032787</td></tr>\n",
       "\t<tr><th scope=row>6</th><td>10              </td><td>JFK             </td><td>DCA             </td><td>16.4838709677419</td><td>15.5161290322581</td></tr>\n",
       "</tbody>\n",
       "</table>\n"
      ],
      "text/latex": [
       "\\begin{tabular}{r|lllll}\n",
       "  & month & origin & dest & V1 & V2\\\\\n",
       "\\hline\n",
       "\t1 & 10               & EWR              & DFW              & 18.8136645962733 & 18.8944099378882\\\\\n",
       "\t2 & 10                & EWR               & MIA               & -4.47540983606557 & -3.78688524590164\\\\\n",
       "\t3 & 10                & EWR               & PHX               & -3.03225806451613 & -4.29032258064516\\\\\n",
       "\t4 & 10               & JFK              & AUS              & 3.29032258064516 & 6.29032258064516\\\\\n",
       "\t5 & 10               & JFK              & BOS              & 11.5             & 10.2704918032787\\\\\n",
       "\t6 & 10               & JFK              & DCA              & 16.4838709677419 & 15.5161290322581\\\\\n",
       "\\end{tabular}\n"
      ],
      "text/plain": [
       "  month origin dest        V1        V2\n",
       "1    10    EWR  DFW 18.813665 18.894410\n",
       "2    10    EWR  MIA -4.475410 -3.786885\n",
       "3    10    EWR  PHX -3.032258 -4.290323\n",
       "4    10    JFK  AUS  3.290323  6.290323\n",
       "5    10    JFK  BOS 11.500000 10.270492\n",
       "6    10    JFK  DCA 16.483871 15.516129"
      ]
     },
     "metadata": {},
     "output_type": "display_data"
    }
   ],
   "source": [
    "# 分组后再加入后续操作\n",
    "ans <- flights[carrier == \"AA\", .(mean(arr_delay), mean(dep_delay)), keyby=.( month,origin, dest)][order(-month)]\n",
    "head(ans)"
   ]
  },
  {
   "cell_type": "markdown",
   "metadata": {},
   "source": [
    "### by表达式\n",
    "参数by也可以接受表达式，不仅可以按变量分组，也可以按条件分组"
   ]
  },
  {
   "cell_type": "code",
   "execution_count": 9,
   "metadata": {
    "collapsed": false
   },
   "outputs": [
    {
     "data": {
      "text/html": [
       "<table>\n",
       "<thead><tr><th></th><th scope=col>dep_delay</th><th scope=col>arr_delay</th><th scope=col>N</th></tr></thead>\n",
       "<tbody>\n",
       "\t<tr><th scope=row>1</th><td>    1</td><td>    1</td><td>72836</td></tr>\n",
       "\t<tr><th scope=row>2</th><td>    0</td><td>    1</td><td>34583</td></tr>\n",
       "\t<tr><th scope=row>3</th><td>     0</td><td>     0</td><td>119304</td></tr>\n",
       "\t<tr><th scope=row>4</th><td>    1</td><td>    0</td><td>26593</td></tr>\n",
       "</tbody>\n",
       "</table>\n"
      ],
      "text/latex": [
       "\\begin{tabular}{r|lll}\n",
       "  & dep\\_delay & arr\\_delay & N\\\\\n",
       "\\hline\n",
       "\t1 &     1 &     1 & 72836\\\\\n",
       "\t2 &     0 &     1 & 34583\\\\\n",
       "\t3 &      0 &      0 & 119304\\\\\n",
       "\t4 &     1 &     0 & 26593\\\\\n",
       "\\end{tabular}\n"
      ],
      "text/plain": [
       "  dep_delay arr_delay      N\n",
       "1      TRUE      TRUE  72836\n",
       "2     FALSE      TRUE  34583\n",
       "3     FALSE     FALSE 119304\n",
       "4      TRUE     FALSE  26593"
      ]
     },
     "metadata": {},
     "output_type": "display_data"
    }
   ],
   "source": [
    "#有多少航班起飞延误但却提前／准时到达的，有多少航班起飞和到达都延误了\n",
    "ans <- flights[, .N, .(dep_delay>0, arr_delay>0)]\n",
    "ans"
   ]
  },
  {
   "cell_type": "markdown",
   "metadata": {},
   "source": [
    "### 参数j中指定多个列\n",
    "如果要对许多个列都应用某个函数，比如计算均值，不需要每个列都写mean\n",
    "\n",
    "因为如果参数j传入的是一个list，那么这个list的每个元素都会被转化成结果的一列\n",
    "\n",
    "特殊语法：.SD\n",
    "\n",
    "返回的是去掉分组变量后的其他所有列"
   ]
  },
  {
   "cell_type": "code",
   "execution_count": 11,
   "metadata": {
    "collapsed": false
   },
   "outputs": [
    {
     "data": {
      "text/html": [
       "<table>\n",
       "<thead><tr><th></th><th scope=col>ID</th><th scope=col>a</th><th scope=col>b</th><th scope=col>c</th></tr></thead>\n",
       "<tbody>\n",
       "\t<tr><th scope=row>1</th><td>b </td><td>1 </td><td>7 </td><td>13</td></tr>\n",
       "\t<tr><th scope=row>2</th><td>b </td><td>2 </td><td>8 </td><td>14</td></tr>\n",
       "\t<tr><th scope=row>3</th><td>b </td><td>3 </td><td>9 </td><td>15</td></tr>\n",
       "\t<tr><th scope=row>4</th><td>a </td><td>4 </td><td>10</td><td>16</td></tr>\n",
       "\t<tr><th scope=row>5</th><td>a </td><td>5 </td><td>11</td><td>17</td></tr>\n",
       "\t<tr><th scope=row>6</th><td>c </td><td>6 </td><td>12</td><td>18</td></tr>\n",
       "</tbody>\n",
       "</table>\n"
      ],
      "text/latex": [
       "\\begin{tabular}{r|llll}\n",
       "  & ID & a & b & c\\\\\n",
       "\\hline\n",
       "\t1 & b  & 1  & 7  & 13\\\\\n",
       "\t2 & b  & 2  & 8  & 14\\\\\n",
       "\t3 & b  & 3  & 9  & 15\\\\\n",
       "\t4 & a  & 4  & 10 & 16\\\\\n",
       "\t5 & a  & 5  & 11 & 17\\\\\n",
       "\t6 & c  & 6  & 12 & 18\\\\\n",
       "\\end{tabular}\n"
      ],
      "text/plain": [
       "  ID a  b  c\n",
       "1  b 1  7 13\n",
       "2  b 2  8 14\n",
       "3  b 3  9 15\n",
       "4  a 4 10 16\n",
       "5  a 5 11 17\n",
       "6  c 6 12 18"
      ]
     },
     "metadata": {},
     "output_type": "display_data"
    }
   ],
   "source": [
    "DT"
   ]
  },
  {
   "cell_type": "code",
   "execution_count": 17,
   "metadata": {
    "collapsed": false
   },
   "outputs": [
    {
     "data": {
      "text/html": [
       "<table>\n",
       "<thead><tr><th></th><th scope=col>ID</th><th scope=col>a</th><th scope=col>b</th><th scope=col>c</th></tr></thead>\n",
       "<tbody>\n",
       "\t<tr><th scope=row>1</th><td>b </td><td>2 </td><td>8 </td><td>14</td></tr>\n",
       "\t<tr><th scope=row>2</th><td>a   </td><td>4.5 </td><td>10.5</td><td>16.5</td></tr>\n",
       "\t<tr><th scope=row>3</th><td>c </td><td>6 </td><td>12</td><td>18</td></tr>\n",
       "</tbody>\n",
       "</table>\n"
      ],
      "text/latex": [
       "\\begin{tabular}{r|llll}\n",
       "  & ID & a & b & c\\\\\n",
       "\\hline\n",
       "\t1 & b  & 2  & 8  & 14\\\\\n",
       "\t2 & a    & 4.5  & 10.5 & 16.5\\\\\n",
       "\t3 & c  & 6  & 12 & 18\\\\\n",
       "\\end{tabular}\n"
      ],
      "text/plain": [
       "  ID   a    b    c\n",
       "1  b 2.0  8.0 14.0\n",
       "2  a 4.5 10.5 16.5\n",
       "3  c 6.0 12.0 18.0"
      ]
     },
     "metadata": {},
     "output_type": "display_data"
    }
   ],
   "source": [
    "# 用lapply传入j参数就可以把除了by以外的所有列都进行相同的计算\n",
    "DT[, lapply(.SD,mean), by=ID]"
   ]
  },
  {
   "cell_type": "markdown",
   "metadata": {},
   "source": [
    "但是这样仍然无法指定一定数量的列\n",
    "\n",
    "可以用.SDcols，比如.SDcols = c(\"arr_delay\", \"dep_delay\")能确保.SD只包含 arr_delay 和 dep_delay 这两列。也可以使用 - 或者 ! 来移除列。比如，我们指定 !(colA:colB) 或者 -(colA:colB)表示移除从 colA 到 colB 的所有列。\n",
    "\n",
    ".SDcols要传入str向量"
   ]
  },
  {
   "cell_type": "code",
   "execution_count": 19,
   "metadata": {
    "collapsed": false,
    "scrolled": true
   },
   "outputs": [
    {
     "data": {
      "text/html": [
       "<table>\n",
       "<thead><tr><th></th><th scope=col>origin</th><th scope=col>dest</th><th scope=col>month</th><th scope=col>arr_delay</th><th scope=col>dep_delay</th></tr></thead>\n",
       "<tbody>\n",
       "\t<tr><th scope=row>1</th><td>JFK               </td><td>LAX               </td><td>10                </td><td>-0.959493670886076</td><td>6.21518987341772  </td></tr>\n",
       "\t<tr><th scope=row>2</th><td>JFK             </td><td>SFO             </td><td>10              </td><td>8.16339869281046</td><td>7.62745098039216</td></tr>\n",
       "\t<tr><th scope=row>3</th><td>JFK             </td><td>BOS             </td><td>10              </td><td>11.5            </td><td>10.2704918032787</td></tr>\n",
       "\t<tr><th scope=row>4</th><td>JFK             </td><td>SAN             </td><td>10              </td><td>16.2258064516129</td><td>12.4838709677419</td></tr>\n",
       "\t<tr><th scope=row>5</th><td>JFK             </td><td>ORD             </td><td>10              </td><td>23.0645161290323</td><td>17.6451612903226</td></tr>\n",
       "\t<tr><th scope=row>6</th><td>JFK             </td><td>LAS             </td><td>10              </td><td>18.2258064516129</td><td>14.5483870967742</td></tr>\n",
       "\t<tr><th scope=row>7</th><td>JFK             </td><td>DFW             </td><td>10              </td><td>2.26229508196721</td><td>3.04918032786885</td></tr>\n",
       "\t<tr><th scope=row>8</th><td>JFK             </td><td>SJU             </td><td>10              </td><td>1.74193548387097</td><td>17.1290322580645</td></tr>\n",
       "\t<tr><th scope=row>9</th><td>JFK             </td><td>SEA             </td><td>10              </td><td>1.03225806451613</td><td>4.90322580645161</td></tr>\n",
       "\t<tr><th scope=row>10</th><td>LGA             </td><td>ORD             </td><td>10              </td><td>15.4661190965092</td><td>12.911704312115 </td></tr>\n",
       "\t<tr><th scope=row>11</th><td>EWR             </td><td>DFW             </td><td>10              </td><td>18.8136645962733</td><td>18.8944099378882</td></tr>\n",
       "\t<tr><th scope=row>12</th><td>JFK             </td><td>AUS             </td><td>10              </td><td>3.29032258064516</td><td>6.29032258064516</td></tr>\n",
       "\t<tr><th scope=row>13</th><td>EWR              </td><td>MIA              </td><td>10               </td><td>-4.47540983606557</td><td>-3.78688524590164</td></tr>\n",
       "\t<tr><th scope=row>14</th><td>LGA             </td><td>DFW             </td><td>10              </td><td>3.5             </td><td>4.55276381909548</td></tr>\n",
       "\t<tr><th scope=row>15</th><td>LGA              </td><td>MIA              </td><td>10               </td><td>-6.25179856115108</td><td>-1.42086330935252</td></tr>\n",
       "\t<tr><th scope=row>16</th><td>JFK              </td><td>MIA              </td><td>10               </td><td>-1.88018433179724</td><td>6.67741935483871 </td></tr>\n",
       "\t<tr><th scope=row>17</th><td>EWR              </td><td>PHX              </td><td>10               </td><td>-3.03225806451613</td><td>-4.29032258064516</td></tr>\n",
       "\t<tr><th scope=row>18</th><td>JFK              </td><td>MCO              </td><td>10               </td><td>-10.0483870967742</td><td>-1.61290322580645</td></tr>\n",
       "\t<tr><th scope=row>19</th><td>JFK             </td><td>DCA             </td><td>10              </td><td>16.4838709677419</td><td>15.5161290322581</td></tr>\n",
       "\t<tr><th scope=row>20</th><td>JFK              </td><td>LAX              </td><td>9                </td><td>-7.24415584415584</td><td>1.51168831168831 </td></tr>\n",
       "\t<tr><th scope=row>21</th><td>JFK             </td><td>SFO             </td><td>9               </td><td>7.23333333333333</td><td>6.20666666666667</td></tr>\n",
       "\t<tr><th scope=row>22</th><td>JFK             </td><td>BOS             </td><td>9               </td><td>5.41666666666667</td><td>5.08333333333333</td></tr>\n",
       "\t<tr><th scope=row>23</th><td>JFK             </td><td>SAN             </td><td>9               </td><td>18.8            </td><td>12.8333333333333</td></tr>\n",
       "\t<tr><th scope=row>24</th><td>JFK             </td><td>ORD             </td><td>9               </td><td>6.79310344827586</td><td>12.1724137931034</td></tr>\n",
       "\t<tr><th scope=row>25</th><td>JFK             </td><td>SEA             </td><td>9               </td><td>8.56666666666667</td><td>16.8333333333333</td></tr>\n",
       "\t<tr><th scope=row>26</th><td>JFK  </td><td>LAS  </td><td>9    </td><td>10.95</td><td>8.4  </td></tr>\n",
       "\t<tr><th scope=row>27</th><td>JFK               </td><td>DFW               </td><td>9                 </td><td>-10.6949152542373 </td><td>-0.220338983050847</td></tr>\n",
       "\t<tr><th scope=row>28</th><td>JFK   </td><td>SJU   </td><td>9     </td><td>1.6875</td><td>11.375</td></tr>\n",
       "\t<tr><th scope=row>29</th><td>LGA             </td><td>ORD             </td><td>9               </td><td>4.33115468409586</td><td>3.7843137254902 </td></tr>\n",
       "\t<tr><th scope=row>30</th><td>EWR             </td><td>DFW             </td><td>9               </td><td>5.86503067484663</td><td>13.0552147239264</td></tr>\n",
       "\t<tr><th scope=row>...</th><td>...</td><td>...</td><td>...</td><td>...</td><td>...</td></tr>\n",
       "\t<tr><th scope=row>171</th><td>EWR             </td><td>DFW             </td><td>2               </td><td>10.5367647058824</td><td>11.3455882352941</td></tr>\n",
       "\t<tr><th scope=row>172</th><td>LGA             </td><td>ORD             </td><td>2               </td><td>5.28526645768025</td><td>8.78996865203762</td></tr>\n",
       "\t<tr><th scope=row>173</th><td>EWR             </td><td>LAX             </td><td>2               </td><td>10.3333333333333</td><td>4.11111111111111</td></tr>\n",
       "\t<tr><th scope=row>174</th><td>LGA  </td><td>MIA  </td><td>2    </td><td>9.625</td><td>10.7 </td></tr>\n",
       "\t<tr><th scope=row>175</th><td>JFK             </td><td>STT             </td><td>2               </td><td>15.1153846153846</td><td>20.9615384615385</td></tr>\n",
       "\t<tr><th scope=row>176</th><td>LGA             </td><td>DFW             </td><td>2               </td><td>5.37133550488599</td><td>7.47882736156352</td></tr>\n",
       "\t<tr><th scope=row>177</th><td>JFK             </td><td>MCO             </td><td>2               </td><td>8.45283018867925</td><td>10.1509433962264</td></tr>\n",
       "\t<tr><th scope=row>178</th><td>JFK             </td><td>EGE             </td><td>2               </td><td>53.7857142857143</td><td>57.4642857142857</td></tr>\n",
       "\t<tr><th scope=row>179</th><td>JFK             </td><td>LAX             </td><td>1               </td><td>6.59036144578313</td><td>14.2289156626506</td></tr>\n",
       "\t<tr><th scope=row>180</th><td>LGA              </td><td>PBI              </td><td>1                </td><td>-7.75862068965517</td><td>0.310344827586207</td></tr>\n",
       "\t<tr><th scope=row>181</th><td>EWR             </td><td>LAX             </td><td>1               </td><td>1.36666666666667</td><td>7.5             </td></tr>\n",
       "\t<tr><th scope=row>182</th><td>JFK             </td><td>MIA             </td><td>1               </td><td>15.7206703910615</td><td>18.7430167597765</td></tr>\n",
       "\t<tr><th scope=row>183</th><td>JFK             </td><td>SEA             </td><td>1               </td><td>14.3571428571429</td><td>30.75           </td></tr>\n",
       "\t<tr><th scope=row>184</th><td>EWR             </td><td>MIA             </td><td>1               </td><td>11.0112359550562</td><td>12.123595505618 </td></tr>\n",
       "\t<tr><th scope=row>185</th><td>JFK             </td><td>SFO             </td><td>1               </td><td>19.2522522522523</td><td>28.6396396396396</td></tr>\n",
       "\t<tr><th scope=row>186</th><td>JFK             </td><td>BOS             </td><td>1               </td><td>12.9196428571429</td><td>15.2142857142857</td></tr>\n",
       "\t<tr><th scope=row>187</th><td>JFK             </td><td>ORD             </td><td>1               </td><td>31.5862068965517</td><td>40.1724137931034</td></tr>\n",
       "\t<tr><th scope=row>188</th><td>JFK             </td><td>IAH             </td><td>1               </td><td>28.8571428571429</td><td>14.2857142857143</td></tr>\n",
       "\t<tr><th scope=row>189</th><td>JFK </td><td>AUS </td><td>1   </td><td>25.2</td><td>27.6</td></tr>\n",
       "\t<tr><th scope=row>190</th><td>EWR             </td><td>DFW             </td><td>1               </td><td>6.42767295597484</td><td>10.0125786163522</td></tr>\n",
       "\t<tr><th scope=row>191</th><td>LGA             </td><td>ORD             </td><td>1               </td><td>8.4402332361516 </td><td>10.1195335276968</td></tr>\n",
       "\t<tr><th scope=row>192</th><td>JFK             </td><td>STT             </td><td>1               </td><td>18.9310344827586</td><td>21.3793103448276</td></tr>\n",
       "\t<tr><th scope=row>193</th><td>JFK             </td><td>SJU             </td><td>1               </td><td>18.9204545454545</td><td>20.2272727272727</td></tr>\n",
       "\t<tr><th scope=row>194</th><td>LGA   </td><td>MIA   </td><td>1     </td><td>6.13  </td><td>5.4175</td></tr>\n",
       "\t<tr><th scope=row>195</th><td>LGA              </td><td>DFW              </td><td>1                </td><td>0.529569892473118</td><td>7.75806451612903 </td></tr>\n",
       "\t<tr><th scope=row>196</th><td>JFK             </td><td>LAS             </td><td>1               </td><td>17.6949152542373</td><td>19.1525423728814</td></tr>\n",
       "\t<tr><th scope=row>197</th><td>JFK             </td><td>MCO             </td><td>1               </td><td>10.5762711864407</td><td>13.8813559322034</td></tr>\n",
       "\t<tr><th scope=row>198</th><td>JFK             </td><td>EGE             </td><td>1               </td><td>23.1111111111111</td><td>32.5185185185185</td></tr>\n",
       "\t<tr><th scope=row>199</th><td>JFK  </td><td>DFW  </td><td>1    </td><td>-11.9</td><td>8.8  </td></tr>\n",
       "\t<tr><th scope=row>200</th><td>JFK             </td><td>SAN             </td><td>1               </td><td>11.5555555555556</td><td>12.4814814814815</td></tr>\n",
       "</tbody>\n",
       "</table>\n"
      ],
      "text/latex": [
       "\\begin{tabular}{r|lllll}\n",
       "  & origin & dest & month & arr\\_delay & dep\\_delay\\\\\n",
       "\\hline\n",
       "\t1 & JFK                & LAX                & 10                 & -0.959493670886076 & 6.21518987341772  \\\\\n",
       "\t2 & JFK              & SFO              & 10               & 8.16339869281046 & 7.62745098039216\\\\\n",
       "\t3 & JFK              & BOS              & 10               & 11.5             & 10.2704918032787\\\\\n",
       "\t4 & JFK              & SAN              & 10               & 16.2258064516129 & 12.4838709677419\\\\\n",
       "\t5 & JFK              & ORD              & 10               & 23.0645161290323 & 17.6451612903226\\\\\n",
       "\t6 & JFK              & LAS              & 10               & 18.2258064516129 & 14.5483870967742\\\\\n",
       "\t7 & JFK              & DFW              & 10               & 2.26229508196721 & 3.04918032786885\\\\\n",
       "\t8 & JFK              & SJU              & 10               & 1.74193548387097 & 17.1290322580645\\\\\n",
       "\t9 & JFK              & SEA              & 10               & 1.03225806451613 & 4.90322580645161\\\\\n",
       "\t10 & LGA              & ORD              & 10               & 15.4661190965092 & 12.911704312115 \\\\\n",
       "\t11 & EWR              & DFW              & 10               & 18.8136645962733 & 18.8944099378882\\\\\n",
       "\t12 & JFK              & AUS              & 10               & 3.29032258064516 & 6.29032258064516\\\\\n",
       "\t13 & EWR               & MIA               & 10                & -4.47540983606557 & -3.78688524590164\\\\\n",
       "\t14 & LGA              & DFW              & 10               & 3.5              & 4.55276381909548\\\\\n",
       "\t15 & LGA               & MIA               & 10                & -6.25179856115108 & -1.42086330935252\\\\\n",
       "\t16 & JFK               & MIA               & 10                & -1.88018433179724 & 6.67741935483871 \\\\\n",
       "\t17 & EWR               & PHX               & 10                & -3.03225806451613 & -4.29032258064516\\\\\n",
       "\t18 & JFK               & MCO               & 10                & -10.0483870967742 & -1.61290322580645\\\\\n",
       "\t19 & JFK              & DCA              & 10               & 16.4838709677419 & 15.5161290322581\\\\\n",
       "\t20 & JFK               & LAX               & 9                 & -7.24415584415584 & 1.51168831168831 \\\\\n",
       "\t21 & JFK              & SFO              & 9                & 7.23333333333333 & 6.20666666666667\\\\\n",
       "\t22 & JFK              & BOS              & 9                & 5.41666666666667 & 5.08333333333333\\\\\n",
       "\t23 & JFK              & SAN              & 9                & 18.8             & 12.8333333333333\\\\\n",
       "\t24 & JFK              & ORD              & 9                & 6.79310344827586 & 12.1724137931034\\\\\n",
       "\t25 & JFK              & SEA              & 9                & 8.56666666666667 & 16.8333333333333\\\\\n",
       "\t26 & JFK   & LAS   & 9     & 10.95 & 8.4  \\\\\n",
       "\t27 & JFK                & DFW                & 9                  & -10.6949152542373  & -0.220338983050847\\\\\n",
       "\t28 & JFK    & SJU    & 9      & 1.6875 & 11.375\\\\\n",
       "\t29 & LGA              & ORD              & 9                & 4.33115468409586 & 3.7843137254902 \\\\\n",
       "\t30 & EWR              & DFW              & 9                & 5.86503067484663 & 13.0552147239264\\\\\n",
       "\t... & ... & ... & ... & ... & ...\\\\\n",
       "\t171 & EWR              & DFW              & 2                & 10.5367647058824 & 11.3455882352941\\\\\n",
       "\t172 & LGA              & ORD              & 2                & 5.28526645768025 & 8.78996865203762\\\\\n",
       "\t173 & EWR              & LAX              & 2                & 10.3333333333333 & 4.11111111111111\\\\\n",
       "\t174 & LGA   & MIA   & 2     & 9.625 & 10.7 \\\\\n",
       "\t175 & JFK              & STT              & 2                & 15.1153846153846 & 20.9615384615385\\\\\n",
       "\t176 & LGA              & DFW              & 2                & 5.37133550488599 & 7.47882736156352\\\\\n",
       "\t177 & JFK              & MCO              & 2                & 8.45283018867925 & 10.1509433962264\\\\\n",
       "\t178 & JFK              & EGE              & 2                & 53.7857142857143 & 57.4642857142857\\\\\n",
       "\t179 & JFK              & LAX              & 1                & 6.59036144578313 & 14.2289156626506\\\\\n",
       "\t180 & LGA               & PBI               & 1                 & -7.75862068965517 & 0.310344827586207\\\\\n",
       "\t181 & EWR              & LAX              & 1                & 1.36666666666667 & 7.5             \\\\\n",
       "\t182 & JFK              & MIA              & 1                & 15.7206703910615 & 18.7430167597765\\\\\n",
       "\t183 & JFK              & SEA              & 1                & 14.3571428571429 & 30.75           \\\\\n",
       "\t184 & EWR              & MIA              & 1                & 11.0112359550562 & 12.123595505618 \\\\\n",
       "\t185 & JFK              & SFO              & 1                & 19.2522522522523 & 28.6396396396396\\\\\n",
       "\t186 & JFK              & BOS              & 1                & 12.9196428571429 & 15.2142857142857\\\\\n",
       "\t187 & JFK              & ORD              & 1                & 31.5862068965517 & 40.1724137931034\\\\\n",
       "\t188 & JFK              & IAH              & 1                & 28.8571428571429 & 14.2857142857143\\\\\n",
       "\t189 & JFK  & AUS  & 1    & 25.2 & 27.6\\\\\n",
       "\t190 & EWR              & DFW              & 1                & 6.42767295597484 & 10.0125786163522\\\\\n",
       "\t191 & LGA              & ORD              & 1                & 8.4402332361516  & 10.1195335276968\\\\\n",
       "\t192 & JFK              & STT              & 1                & 18.9310344827586 & 21.3793103448276\\\\\n",
       "\t193 & JFK              & SJU              & 1                & 18.9204545454545 & 20.2272727272727\\\\\n",
       "\t194 & LGA    & MIA    & 1      & 6.13   & 5.4175\\\\\n",
       "\t195 & LGA               & DFW               & 1                 & 0.529569892473118 & 7.75806451612903 \\\\\n",
       "\t196 & JFK              & LAS              & 1                & 17.6949152542373 & 19.1525423728814\\\\\n",
       "\t197 & JFK              & MCO              & 1                & 10.5762711864407 & 13.8813559322034\\\\\n",
       "\t198 & JFK              & EGE              & 1                & 23.1111111111111 & 32.5185185185185\\\\\n",
       "\t199 & JFK   & DFW   & 1     & -11.9 & 8.8  \\\\\n",
       "\t200 & JFK              & SAN              & 1                & 11.5555555555556 & 12.4814814814815\\\\\n",
       "\\end{tabular}\n"
      ],
      "text/plain": [
       "    origin dest month          arr_delay          dep_delay\n",
       "1      JFK  LAX    10 -0.959493670886076   6.21518987341772\n",
       "2      JFK  SFO    10   8.16339869281046   7.62745098039216\n",
       "3      JFK  BOS    10               11.5   10.2704918032787\n",
       "4      JFK  SAN    10   16.2258064516129   12.4838709677419\n",
       "5      JFK  ORD    10   23.0645161290323   17.6451612903226\n",
       "6      JFK  LAS    10   18.2258064516129   14.5483870967742\n",
       "7      JFK  DFW    10   2.26229508196721   3.04918032786885\n",
       "8      JFK  SJU    10   1.74193548387097   17.1290322580645\n",
       "9      JFK  SEA    10   1.03225806451613   4.90322580645161\n",
       "10     LGA  ORD    10   15.4661190965092    12.911704312115\n",
       "11     EWR  DFW    10   18.8136645962733   18.8944099378882\n",
       "12     JFK  AUS    10   3.29032258064516   6.29032258064516\n",
       "13     EWR  MIA    10  -4.47540983606557  -3.78688524590164\n",
       "14     LGA  DFW    10                3.5   4.55276381909548\n",
       "15     LGA  MIA    10  -6.25179856115108  -1.42086330935252\n",
       "16     JFK  MIA    10  -1.88018433179724   6.67741935483871\n",
       "17     EWR  PHX    10  -3.03225806451613  -4.29032258064516\n",
       "18     JFK  MCO    10  -10.0483870967742  -1.61290322580645\n",
       "19     JFK  DCA    10   16.4838709677419   15.5161290322581\n",
       "20     JFK  LAX     9  -7.24415584415584   1.51168831168831\n",
       "21     JFK  SFO     9   7.23333333333333   6.20666666666667\n",
       "22     JFK  BOS     9   5.41666666666667   5.08333333333333\n",
       "23     JFK  SAN     9               18.8   12.8333333333333\n",
       "24     JFK  ORD     9   6.79310344827586   12.1724137931034\n",
       "25     JFK  SEA     9   8.56666666666667   16.8333333333333\n",
       "26     JFK  LAS     9              10.95                8.4\n",
       "27     JFK  DFW     9  -10.6949152542373 -0.220338983050847\n",
       "28     JFK  SJU     9             1.6875             11.375\n",
       "29     LGA  ORD     9   4.33115468409586    3.7843137254902\n",
       "30     EWR  DFW     9   5.86503067484663   13.0552147239264\n",
       "...    ...  ...   ...                ...                ...\n",
       "171    EWR  DFW     2   10.5367647058824   11.3455882352941\n",
       "172    LGA  ORD     2   5.28526645768025   8.78996865203762\n",
       "173    EWR  LAX     2   10.3333333333333   4.11111111111111\n",
       "174    LGA  MIA     2              9.625               10.7\n",
       "175    JFK  STT     2   15.1153846153846   20.9615384615385\n",
       "176    LGA  DFW     2   5.37133550488599   7.47882736156352\n",
       "177    JFK  MCO     2   8.45283018867925   10.1509433962264\n",
       "178    JFK  EGE     2   53.7857142857143   57.4642857142857\n",
       "179    JFK  LAX     1   6.59036144578313   14.2289156626506\n",
       "180    LGA  PBI     1  -7.75862068965517  0.310344827586207\n",
       "181    EWR  LAX     1   1.36666666666667                7.5\n",
       "182    JFK  MIA     1   15.7206703910615   18.7430167597765\n",
       "183    JFK  SEA     1   14.3571428571429              30.75\n",
       "184    EWR  MIA     1   11.0112359550562    12.123595505618\n",
       "185    JFK  SFO     1   19.2522522522523   28.6396396396396\n",
       "186    JFK  BOS     1   12.9196428571429   15.2142857142857\n",
       "187    JFK  ORD     1   31.5862068965517   40.1724137931034\n",
       "188    JFK  IAH     1   28.8571428571429   14.2857142857143\n",
       "189    JFK  AUS     1               25.2               27.6\n",
       "190    EWR  DFW     1   6.42767295597484   10.0125786163522\n",
       "191    LGA  ORD     1    8.4402332361516   10.1195335276968\n",
       "192    JFK  STT     1   18.9310344827586   21.3793103448276\n",
       "193    JFK  SJU     1   18.9204545454545   20.2272727272727\n",
       "194    LGA  MIA     1               6.13             5.4175\n",
       "195    LGA  DFW     1  0.529569892473118   7.75806451612903\n",
       "196    JFK  LAS     1   17.6949152542373   19.1525423728814\n",
       "197    JFK  MCO     1   10.5762711864407   13.8813559322034\n",
       "198    JFK  EGE     1   23.1111111111111   32.5185185185185\n",
       "199    JFK  DFW     1              -11.9                8.8\n",
       "200    JFK  SAN     1   11.5555555555556   12.4814814814815"
      ]
     },
     "metadata": {},
     "output_type": "display_data"
    }
   ],
   "source": [
    "flights[carrier == \"AA\",                     #i参数\n",
    "        lapply(.SD, mean),                   # j参数，对除了by以外的所有列计算均值\n",
    "        by=.(origin, dest, month),           #by参数\n",
    "        .SDcols=c(\"arr_delay\", \"dep_delay\") #限定j参数中引用的.SD中只有\"arr_delay\", \"dep_delay\"\n",
    "       ][order(-month)]   #按照month倒序排列"
   ]
  },
  {
   "cell_type": "markdown",
   "metadata": {},
   "source": [
    "### 对行进行.SD(取出每一组的某几行）"
   ]
  },
  {
   "cell_type": "code",
   "execution_count": 20,
   "metadata": {
    "collapsed": false,
    "scrolled": true
   },
   "outputs": [
    {
     "data": {
      "text/html": [
       "<table>\n",
       "<thead><tr><th></th><th scope=col>month</th><th scope=col>year</th><th scope=col>day</th><th scope=col>dep_time</th><th scope=col>dep_delay</th><th scope=col>arr_time</th><th scope=col>arr_delay</th><th scope=col>cancelled</th><th scope=col>carrier</th><th scope=col>tailnum</th><th scope=col>flight</th><th scope=col>origin</th><th scope=col>dest</th><th scope=col>air_time</th><th scope=col>distance</th><th scope=col>hour</th><th scope=col>min</th></tr></thead>\n",
       "<tbody>\n",
       "\t<tr><th scope=row>1</th><td>1     </td><td>2014  </td><td>1     </td><td>914   </td><td>14    </td><td>1238  </td><td>13    </td><td>0     </td><td>AA    </td><td>N338AA</td><td>1     </td><td>JFK   </td><td>LAX   </td><td>359   </td><td>2475  </td><td>9     </td><td>14    </td></tr>\n",
       "\t<tr><th scope=row>2</th><td>1     </td><td>2014  </td><td>1     </td><td>1157  </td><td>-3    </td><td>1523  </td><td>13    </td><td>0     </td><td>AA    </td><td>N335AA</td><td>3     </td><td>JFK   </td><td>LAX   </td><td>363   </td><td>2475  </td><td>11    </td><td>57    </td></tr>\n",
       "\t<tr><th scope=row>3</th><td>2     </td><td>2014  </td><td>1     </td><td>859   </td><td>-1    </td><td>1226  </td><td>1     </td><td>0     </td><td>AA    </td><td>N783AA</td><td>1     </td><td>JFK   </td><td>LAX   </td><td>358   </td><td>2475  </td><td>8     </td><td>59    </td></tr>\n",
       "\t<tr><th scope=row>4</th><td>2     </td><td>2014  </td><td>1     </td><td>1155  </td><td>-5    </td><td>1528  </td><td>3     </td><td>0     </td><td>AA    </td><td>N784AA</td><td>3     </td><td>JFK   </td><td>LAX   </td><td>358   </td><td>2475  </td><td>11    </td><td>55    </td></tr>\n",
       "\t<tr><th scope=row>5</th><td>3     </td><td>2014  </td><td>1     </td><td>849   </td><td>-11   </td><td>1306  </td><td>36    </td><td>0     </td><td>AA    </td><td>N784AA</td><td>1     </td><td>JFK   </td><td>LAX   </td><td>375   </td><td>2475  </td><td>8     </td><td>49    </td></tr>\n",
       "\t<tr><th scope=row>6</th><td>3     </td><td>2014  </td><td>1     </td><td>1157  </td><td>-3    </td><td>1529  </td><td>14    </td><td>0     </td><td>AA    </td><td>N787AA</td><td>3     </td><td>JFK   </td><td>LAX   </td><td>368   </td><td>2475  </td><td>11    </td><td>57    </td></tr>\n",
       "\t<tr><th scope=row>7</th><td>4     </td><td>2014  </td><td>1     </td><td>1812  </td><td>-8    </td><td>1927  </td><td>-23   </td><td>0     </td><td>MQ    </td><td>N514MQ</td><td>3486  </td><td>LGA   </td><td>BNA   </td><td>113   </td><td>764   </td><td>18    </td><td>12    </td></tr>\n",
       "\t<tr><th scope=row>8</th><td>4     </td><td>2014  </td><td>1     </td><td>1812  </td><td>-8    </td><td>1949  </td><td>-11   </td><td>0     </td><td>MQ    </td><td>N543MQ</td><td>3501  </td><td>LGA   </td><td>RDU   </td><td>71    </td><td>431   </td><td>18    </td><td>12    </td></tr>\n",
       "\t<tr><th scope=row>9</th><td>5     </td><td>2014  </td><td>1     </td><td>1743  </td><td>43    </td><td>1955  </td><td>5     </td><td>0     </td><td>AA    </td><td>N3ELAA</td><td>45    </td><td>JFK   </td><td>LAS   </td><td>288   </td><td>2248  </td><td>17    </td><td>43    </td></tr>\n",
       "\t<tr><th scope=row>10</th><td>5     </td><td>2014  </td><td>1     </td><td>759   </td><td>-1    </td><td>1057  </td><td>-38   </td><td>0     </td><td>AA    </td><td>N789AA</td><td>59    </td><td>JFK   </td><td>SFO   </td><td>330   </td><td>2586  </td><td>7     </td><td>59    </td></tr>\n",
       "\t<tr><th scope=row>11</th><td>6     </td><td>2014  </td><td>1     </td><td>851   </td><td>-9    </td><td>1205  </td><td>-5    </td><td>0     </td><td>AA    </td><td>N787AA</td><td>1     </td><td>JFK   </td><td>LAX   </td><td>324   </td><td>2475  </td><td>8     </td><td>51    </td></tr>\n",
       "\t<tr><th scope=row>12</th><td>6     </td><td>2014  </td><td>1     </td><td>1220  </td><td>-10   </td><td>1522  </td><td>-13   </td><td>0     </td><td>AA    </td><td>N795AA</td><td>3     </td><td>JFK   </td><td>LAX   </td><td>329   </td><td>2475  </td><td>12    </td><td>20    </td></tr>\n",
       "\t<tr><th scope=row>13</th><td>7     </td><td>2014  </td><td>1     </td><td>727   </td><td>-3    </td><td>1043  </td><td>-2    </td><td>0     </td><td>VX    </td><td>N361VA</td><td>11    </td><td>JFK   </td><td>SFO   </td><td>343   </td><td>2586  </td><td>7     </td><td>27    </td></tr>\n",
       "\t<tr><th scope=row>14</th><td>7     </td><td>2014  </td><td>1     </td><td>904   </td><td>-6    </td><td>1201  </td><td>-14   </td><td>0     </td><td>VX    </td><td>N836VA</td><td>161   </td><td>EWR   </td><td>LAX   </td><td>320   </td><td>2454  </td><td>9     </td><td>4     </td></tr>\n",
       "\t<tr><th scope=row>15</th><td>8     </td><td>2014  </td><td>1     </td><td>822   </td><td>-3    </td><td>925   </td><td>-5    </td><td>0     </td><td>AA    </td><td>N3GDAA</td><td>84    </td><td>JFK   </td><td>BOS   </td><td>40    </td><td>187   </td><td>8     </td><td>22    </td></tr>\n",
       "\t<tr><th scope=row>16</th><td>8     </td><td>2014  </td><td>1     </td><td>1549  </td><td>19    </td><td>2000  </td><td>55    </td><td>0     </td><td>AA    </td><td>N783AA</td><td>85    </td><td>JFK   </td><td>SFO   </td><td>373   </td><td>2586  </td><td>15    </td><td>49    </td></tr>\n",
       "\t<tr><th scope=row>17</th><td>9     </td><td>2014  </td><td>1     </td><td>851   </td><td>-9    </td><td>1144  </td><td>-26   </td><td>0     </td><td>AA    </td><td>N794AA</td><td>1     </td><td>JFK   </td><td>LAX   </td><td>325   </td><td>2475  </td><td>8     </td><td>51    </td></tr>\n",
       "\t<tr><th scope=row>18</th><td>9     </td><td>2014  </td><td>1     </td><td>1223  </td><td>-7    </td><td>1509  </td><td>-21   </td><td>0     </td><td>AA    </td><td>N798AA</td><td>3     </td><td>JFK   </td><td>LAX   </td><td>320   </td><td>2475  </td><td>12    </td><td>23    </td></tr>\n",
       "\t<tr><th scope=row>19</th><td>10    </td><td>2014  </td><td>1     </td><td>1412  </td><td>-5    </td><td>1551  </td><td>-15   </td><td>0     </td><td>EV    </td><td>N12567</td><td>4100  </td><td>EWR   </td><td>MEM   </td><td>140   </td><td>946   </td><td>14    </td><td>12    </td></tr>\n",
       "\t<tr><th scope=row>20</th><td>10    </td><td>2014  </td><td>1     </td><td>1243  </td><td>-7    </td><td>1351  </td><td>-21   </td><td>0     </td><td>EV    </td><td>N13538</td><td>4104  </td><td>EWR   </td><td>BNA   </td><td>109   </td><td>748   </td><td>12    </td><td>43    </td></tr>\n",
       "</tbody>\n",
       "</table>\n"
      ],
      "text/latex": [
       "\\begin{tabular}{r|lllllllllllllllll}\n",
       "  & month & year & day & dep\\_time & dep\\_delay & arr\\_time & arr\\_delay & cancelled & carrier & tailnum & flight & origin & dest & air\\_time & distance & hour & min\\\\\n",
       "\\hline\n",
       "\t1 & 1      & 2014   & 1      & 914    & 14     & 1238   & 13     & 0      & AA     & N338AA & 1      & JFK    & LAX    & 359    & 2475   & 9      & 14    \\\\\n",
       "\t2 & 1      & 2014   & 1      & 1157   & -3     & 1523   & 13     & 0      & AA     & N335AA & 3      & JFK    & LAX    & 363    & 2475   & 11     & 57    \\\\\n",
       "\t3 & 2      & 2014   & 1      & 859    & -1     & 1226   & 1      & 0      & AA     & N783AA & 1      & JFK    & LAX    & 358    & 2475   & 8      & 59    \\\\\n",
       "\t4 & 2      & 2014   & 1      & 1155   & -5     & 1528   & 3      & 0      & AA     & N784AA & 3      & JFK    & LAX    & 358    & 2475   & 11     & 55    \\\\\n",
       "\t5 & 3      & 2014   & 1      & 849    & -11    & 1306   & 36     & 0      & AA     & N784AA & 1      & JFK    & LAX    & 375    & 2475   & 8      & 49    \\\\\n",
       "\t6 & 3      & 2014   & 1      & 1157   & -3     & 1529   & 14     & 0      & AA     & N787AA & 3      & JFK    & LAX    & 368    & 2475   & 11     & 57    \\\\\n",
       "\t7 & 4      & 2014   & 1      & 1812   & -8     & 1927   & -23    & 0      & MQ     & N514MQ & 3486   & LGA    & BNA    & 113    & 764    & 18     & 12    \\\\\n",
       "\t8 & 4      & 2014   & 1      & 1812   & -8     & 1949   & -11    & 0      & MQ     & N543MQ & 3501   & LGA    & RDU    & 71     & 431    & 18     & 12    \\\\\n",
       "\t9 & 5      & 2014   & 1      & 1743   & 43     & 1955   & 5      & 0      & AA     & N3ELAA & 45     & JFK    & LAS    & 288    & 2248   & 17     & 43    \\\\\n",
       "\t10 & 5      & 2014   & 1      & 759    & -1     & 1057   & -38    & 0      & AA     & N789AA & 59     & JFK    & SFO    & 330    & 2586   & 7      & 59    \\\\\n",
       "\t11 & 6      & 2014   & 1      & 851    & -9     & 1205   & -5     & 0      & AA     & N787AA & 1      & JFK    & LAX    & 324    & 2475   & 8      & 51    \\\\\n",
       "\t12 & 6      & 2014   & 1      & 1220   & -10    & 1522   & -13    & 0      & AA     & N795AA & 3      & JFK    & LAX    & 329    & 2475   & 12     & 20    \\\\\n",
       "\t13 & 7      & 2014   & 1      & 727    & -3     & 1043   & -2     & 0      & VX     & N361VA & 11     & JFK    & SFO    & 343    & 2586   & 7      & 27    \\\\\n",
       "\t14 & 7      & 2014   & 1      & 904    & -6     & 1201   & -14    & 0      & VX     & N836VA & 161    & EWR    & LAX    & 320    & 2454   & 9      & 4     \\\\\n",
       "\t15 & 8      & 2014   & 1      & 822    & -3     & 925    & -5     & 0      & AA     & N3GDAA & 84     & JFK    & BOS    & 40     & 187    & 8      & 22    \\\\\n",
       "\t16 & 8      & 2014   & 1      & 1549   & 19     & 2000   & 55     & 0      & AA     & N783AA & 85     & JFK    & SFO    & 373    & 2586   & 15     & 49    \\\\\n",
       "\t17 & 9      & 2014   & 1      & 851    & -9     & 1144   & -26    & 0      & AA     & N794AA & 1      & JFK    & LAX    & 325    & 2475   & 8      & 51    \\\\\n",
       "\t18 & 9      & 2014   & 1      & 1223   & -7     & 1509   & -21    & 0      & AA     & N798AA & 3      & JFK    & LAX    & 320    & 2475   & 12     & 23    \\\\\n",
       "\t19 & 10     & 2014   & 1      & 1412   & -5     & 1551   & -15    & 0      & EV     & N12567 & 4100   & EWR    & MEM    & 140    & 946    & 14     & 12    \\\\\n",
       "\t20 & 10     & 2014   & 1      & 1243   & -7     & 1351   & -21    & 0      & EV     & N13538 & 4104   & EWR    & BNA    & 109    & 748    & 12     & 43    \\\\\n",
       "\\end{tabular}\n"
      ],
      "text/plain": [
       "   month year day dep_time dep_delay arr_time arr_delay cancelled carrier\n",
       "1      1 2014   1      914        14     1238        13         0      AA\n",
       "2      1 2014   1     1157        -3     1523        13         0      AA\n",
       "3      2 2014   1      859        -1     1226         1         0      AA\n",
       "4      2 2014   1     1155        -5     1528         3         0      AA\n",
       "5      3 2014   1      849       -11     1306        36         0      AA\n",
       "6      3 2014   1     1157        -3     1529        14         0      AA\n",
       "7      4 2014   1     1812        -8     1927       -23         0      MQ\n",
       "8      4 2014   1     1812        -8     1949       -11         0      MQ\n",
       "9      5 2014   1     1743        43     1955         5         0      AA\n",
       "10     5 2014   1      759        -1     1057       -38         0      AA\n",
       "11     6 2014   1      851        -9     1205        -5         0      AA\n",
       "12     6 2014   1     1220       -10     1522       -13         0      AA\n",
       "13     7 2014   1      727        -3     1043        -2         0      VX\n",
       "14     7 2014   1      904        -6     1201       -14         0      VX\n",
       "15     8 2014   1      822        -3      925        -5         0      AA\n",
       "16     8 2014   1     1549        19     2000        55         0      AA\n",
       "17     9 2014   1      851        -9     1144       -26         0      AA\n",
       "18     9 2014   1     1223        -7     1509       -21         0      AA\n",
       "19    10 2014   1     1412        -5     1551       -15         0      EV\n",
       "20    10 2014   1     1243        -7     1351       -21         0      EV\n",
       "   tailnum flight origin dest air_time distance hour min\n",
       "1   N338AA      1    JFK  LAX      359     2475    9  14\n",
       "2   N335AA      3    JFK  LAX      363     2475   11  57\n",
       "3   N783AA      1    JFK  LAX      358     2475    8  59\n",
       "4   N784AA      3    JFK  LAX      358     2475   11  55\n",
       "5   N784AA      1    JFK  LAX      375     2475    8  49\n",
       "6   N787AA      3    JFK  LAX      368     2475   11  57\n",
       "7   N514MQ   3486    LGA  BNA      113      764   18  12\n",
       "8   N543MQ   3501    LGA  RDU       71      431   18  12\n",
       "9   N3ELAA     45    JFK  LAS      288     2248   17  43\n",
       "10  N789AA     59    JFK  SFO      330     2586    7  59\n",
       "11  N787AA      1    JFK  LAX      324     2475    8  51\n",
       "12  N795AA      3    JFK  LAX      329     2475   12  20\n",
       "13  N361VA     11    JFK  SFO      343     2586    7  27\n",
       "14  N836VA    161    EWR  LAX      320     2454    9   4\n",
       "15  N3GDAA     84    JFK  BOS       40      187    8  22\n",
       "16  N783AA     85    JFK  SFO      373     2586   15  49\n",
       "17  N794AA      1    JFK  LAX      325     2475    8  51\n",
       "18  N798AA      3    JFK  LAX      320     2475   12  23\n",
       "19  N12567   4100    EWR  MEM      140      946   14  12\n",
       "20  N13538   4104    EWR  BNA      109      748   12  43"
      ]
     },
     "metadata": {},
     "output_type": "display_data"
    }
   ],
   "source": [
    "#返回每个月的前两行\n",
    "ans <- flights[, head(.SD, 2), by=month]\n",
    "ans\n",
    "#对每组数据，head(.SD, 2)返回的data.table同时也是个list。所以不需要用 .() 包围起来。"
   ]
  },
  {
   "cell_type": "markdown",
   "metadata": {},
   "source": [
    "### 合并分组后的每组数据（组内不再分多个变量）"
   ]
  },
  {
   "cell_type": "code",
   "execution_count": 21,
   "metadata": {
    "collapsed": false
   },
   "outputs": [
    {
     "data": {
      "text/html": [
       "<table>\n",
       "<thead><tr><th></th><th scope=col>ID</th><th scope=col>val</th></tr></thead>\n",
       "<tbody>\n",
       "\t<tr><th scope=row>1</th><td>b</td><td>1</td></tr>\n",
       "\t<tr><th scope=row>2</th><td>b</td><td>2</td></tr>\n",
       "\t<tr><th scope=row>3</th><td>b</td><td>3</td></tr>\n",
       "\t<tr><th scope=row>4</th><td>b</td><td>7</td></tr>\n",
       "\t<tr><th scope=row>5</th><td>b</td><td>8</td></tr>\n",
       "\t<tr><th scope=row>6</th><td>b</td><td>9</td></tr>\n",
       "\t<tr><th scope=row>7</th><td>a</td><td>4</td></tr>\n",
       "\t<tr><th scope=row>8</th><td>a</td><td>5</td></tr>\n",
       "\t<tr><th scope=row>9</th><td>a </td><td>10</td></tr>\n",
       "\t<tr><th scope=row>10</th><td>a </td><td>11</td></tr>\n",
       "\t<tr><th scope=row>11</th><td>c</td><td>6</td></tr>\n",
       "\t<tr><th scope=row>12</th><td>c </td><td>12</td></tr>\n",
       "</tbody>\n",
       "</table>\n"
      ],
      "text/latex": [
       "\\begin{tabular}{r|ll}\n",
       "  & ID & val\\\\\n",
       "\\hline\n",
       "\t1 & b & 1\\\\\n",
       "\t2 & b & 2\\\\\n",
       "\t3 & b & 3\\\\\n",
       "\t4 & b & 7\\\\\n",
       "\t5 & b & 8\\\\\n",
       "\t6 & b & 9\\\\\n",
       "\t7 & a & 4\\\\\n",
       "\t8 & a & 5\\\\\n",
       "\t9 & a  & 10\\\\\n",
       "\t10 & a  & 11\\\\\n",
       "\t11 & c & 6\\\\\n",
       "\t12 & c  & 12\\\\\n",
       "\\end{tabular}\n"
      ],
      "text/plain": [
       "   ID val\n",
       "1   b   1\n",
       "2   b   2\n",
       "3   b   3\n",
       "4   b   7\n",
       "5   b   8\n",
       "6   b   9\n",
       "7   a   4\n",
       "8   a   5\n",
       "9   a  10\n",
       "10  a  11\n",
       "11  c   6\n",
       "12  c  12"
      ]
     },
     "metadata": {},
     "output_type": "display_data"
    }
   ],
   "source": [
    "DT[, .(val = c(a,b)), by=ID] #返回长度为12"
   ]
  },
  {
   "cell_type": "code",
   "execution_count": 22,
   "metadata": {
    "collapsed": false
   },
   "outputs": [
    {
     "data": {
      "text/html": [
       "<table>\n",
       "<thead><tr><th></th><th scope=col>ID</th><th scope=col>val</th></tr></thead>\n",
       "<tbody>\n",
       "\t<tr><th scope=row>1</th><td>b</td><td>1</td><td>2</td><td>3</td><td>7</td><td>8</td><td>9</td></tr>\n",
       "\t<tr><th scope=row>2</th><td>a </td><td>4 </td><td>5 </td><td>10</td><td>11</td></tr>\n",
       "\t<tr><th scope=row>3</th><td>c </td><td>6 </td><td>12</td></tr>\n",
       "</tbody>\n",
       "</table>\n"
      ],
      "text/latex": [
       "\\begin{tabular}{r|ll}\n",
       "  & ID & val\\\\\n",
       "\\hline\n",
       "\t1 & b & 1 & 2 & 3 & 7 & 8 & 9\\\\\n",
       "\t2 & a  & 4  & 5  & 10 & 11\\\\\n",
       "\t3 & c  & 6  & 12\\\\\n",
       "\\end{tabular}\n"
      ],
      "text/plain": [
       "  ID              val\n",
       "1  b 1, 2, 3, 7, 8, 9\n",
       "2  a     4, 5, 10, 11\n",
       "3  c            6, 12"
      ]
     },
     "metadata": {},
     "output_type": "display_data"
    }
   ],
   "source": [
    "#把每组数据作为一列向量（横排\n",
    "DT[, .(val = list(c(a,b))), by=ID] #返回长度为3（3个list"
   ]
  },
  {
   "cell_type": "markdown",
   "metadata": {},
   "source": [
    "## 总结\n",
    "\n",
    "### 参数i\n",
    "* 类似于data.frame，我们可以subset行，我们能将列当做变量来引用。 \n",
    "\n",
    "* 我们可以使用order()排序。\n",
    "\n",
    "### 参数j\n",
    "* 以data.table的形式选取列：DT[, .(colA, colB)]。\n",
    "* 以data.frame的形式选取列：DT[, c(\"colA\", \"colB\"), with=FALSE]。\n",
    "* 按列进行计算：DT[, .(sum(colA), mean(colB))]。\n",
    "* 如果需要命名：DT[, .(sA =sum(colA), mB = mean(colB))]。\n",
    "* 和i共同使用：DT[colA > value, sum(colB)]。\n",
    "\n",
    "### 参数by\n",
    "* 通过by，我们可以指定列，或者列名，甚至表达式，进行分组。\n",
    "* by可以指定多个列，也可以指定表达式。\n",
    "* 我们可以用 keyby，对分组的结果自动排序。\n",
    "* 我们可以在参数j中指定 .SD 和 .SDcols，对复数的列进行操作。例如：   \n",
    "  1.把函数fun 应用到所有 .SDcols指定的列上，同时对参数by指定的列进行分组：DT[, lapply(.SD, fun), by=., .SDcols=...]。 \n",
    "  2.返回每组册前两行：DT[, head(.SD, 2), by=.]。\n",
    "  3.三个参数联合使用：DT[col > val, head(.SD, 1), by=.]。"
   ]
  },
  {
   "cell_type": "code",
   "execution_count": null,
   "metadata": {
    "collapsed": true
   },
   "outputs": [],
   "source": []
  }
 ],
 "metadata": {
  "kernelspec": {
   "display_name": "R",
   "language": "R",
   "name": "ir"
  },
  "language_info": {
   "codemirror_mode": "r",
   "file_extension": ".r",
   "mimetype": "text/x-r-source",
   "name": "R",
   "pygments_lexer": "r",
   "version": "3.3.1"
  }
 },
 "nbformat": 4,
 "nbformat_minor": 0
}

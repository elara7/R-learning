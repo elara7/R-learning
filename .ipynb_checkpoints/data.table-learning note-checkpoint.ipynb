{
 "cells": [
  {
   "cell_type": "code",
   "execution_count": 1,
   "metadata": {
    "collapsed": true
   },
   "outputs": [],
   "source": [
    "library(data.table)"
   ]
  },
  {
   "cell_type": "code",
   "execution_count": 2,
   "metadata": {
    "collapsed": true
   },
   "outputs": [],
   "source": [
    "# 载入数据 fread来源于data.table包\n",
    "flights <- fread(\"flights14.csv\")"
   ]
  },
  {
   "cell_type": "code",
   "execution_count": 3,
   "metadata": {
    "collapsed": false
   },
   "outputs": [
    {
     "data": {
      "text/html": [
       "<table>\n",
       "<thead><tr><th></th><th scope=col>year</th><th scope=col>month</th><th scope=col>day</th><th scope=col>dep_time</th><th scope=col>dep_delay</th><th scope=col>arr_time</th><th scope=col>arr_delay</th><th scope=col>cancelled</th><th scope=col>carrier</th><th scope=col>tailnum</th><th scope=col>flight</th><th scope=col>origin</th><th scope=col>dest</th><th scope=col>air_time</th><th scope=col>distance</th><th scope=col>hour</th><th scope=col>min</th></tr></thead>\n",
       "<tbody>\n",
       "\t<tr><th scope=row>1</th><td>2014  </td><td>1     </td><td>1     </td><td>914   </td><td>14    </td><td>1238  </td><td>13    </td><td>0     </td><td>AA    </td><td>N338AA</td><td>1     </td><td>JFK   </td><td>LAX   </td><td>359   </td><td>2475  </td><td>9     </td><td>14    </td></tr>\n",
       "\t<tr><th scope=row>2</th><td>2014  </td><td>1     </td><td>1     </td><td>1157  </td><td>-3    </td><td>1523  </td><td>13    </td><td>0     </td><td>AA    </td><td>N335AA</td><td>3     </td><td>JFK   </td><td>LAX   </td><td>363   </td><td>2475  </td><td>11    </td><td>57    </td></tr>\n",
       "\t<tr><th scope=row>3</th><td>2014  </td><td>1     </td><td>1     </td><td>1902  </td><td>2     </td><td>2224  </td><td>9     </td><td>0     </td><td>AA    </td><td>N327AA</td><td>21    </td><td>JFK   </td><td>LAX   </td><td>351   </td><td>2475  </td><td>19    </td><td>2     </td></tr>\n",
       "\t<tr><th scope=row>4</th><td>2014  </td><td>1     </td><td>1     </td><td>722   </td><td>-8    </td><td>1014  </td><td>-26   </td><td>0     </td><td>AA    </td><td>N3EHAA</td><td>29    </td><td>LGA   </td><td>PBI   </td><td>157   </td><td>1035  </td><td>7     </td><td>22    </td></tr>\n",
       "\t<tr><th scope=row>5</th><td>2014  </td><td>1     </td><td>1     </td><td>1347  </td><td>2     </td><td>1706  </td><td>1     </td><td>0     </td><td>AA    </td><td>N319AA</td><td>117   </td><td>JFK   </td><td>LAX   </td><td>350   </td><td>2475  </td><td>13    </td><td>47    </td></tr>\n",
       "\t<tr><th scope=row>6</th><td>2014  </td><td>1     </td><td>1     </td><td>1824  </td><td>4     </td><td>2145  </td><td>0     </td><td>0     </td><td>AA    </td><td>N3DEAA</td><td>119   </td><td>EWR   </td><td>LAX   </td><td>339   </td><td>2454  </td><td>18    </td><td>24    </td></tr>\n",
       "</tbody>\n",
       "</table>\n"
      ],
      "text/latex": [
       "\\begin{tabular}{r|lllllllllllllllll}\n",
       "  & year & month & day & dep\\_time & dep\\_delay & arr\\_time & arr\\_delay & cancelled & carrier & tailnum & flight & origin & dest & air\\_time & distance & hour & min\\\\\n",
       "\\hline\n",
       "\t1 & 2014   & 1      & 1      & 914    & 14     & 1238   & 13     & 0      & AA     & N338AA & 1      & JFK    & LAX    & 359    & 2475   & 9      & 14    \\\\\n",
       "\t2 & 2014   & 1      & 1      & 1157   & -3     & 1523   & 13     & 0      & AA     & N335AA & 3      & JFK    & LAX    & 363    & 2475   & 11     & 57    \\\\\n",
       "\t3 & 2014   & 1      & 1      & 1902   & 2      & 2224   & 9      & 0      & AA     & N327AA & 21     & JFK    & LAX    & 351    & 2475   & 19     & 2     \\\\\n",
       "\t4 & 2014   & 1      & 1      & 722    & -8     & 1014   & -26    & 0      & AA     & N3EHAA & 29     & LGA    & PBI    & 157    & 1035   & 7      & 22    \\\\\n",
       "\t5 & 2014   & 1      & 1      & 1347   & 2      & 1706   & 1      & 0      & AA     & N319AA & 117    & JFK    & LAX    & 350    & 2475   & 13     & 47    \\\\\n",
       "\t6 & 2014   & 1      & 1      & 1824   & 4      & 2145   & 0      & 0      & AA     & N3DEAA & 119    & EWR    & LAX    & 339    & 2454   & 18     & 24    \\\\\n",
       "\\end{tabular}\n"
      ],
      "text/plain": [
       "  year month day dep_time dep_delay arr_time arr_delay cancelled carrier\n",
       "1 2014     1   1      914        14     1238        13         0      AA\n",
       "2 2014     1   1     1157        -3     1523        13         0      AA\n",
       "3 2014     1   1     1902         2     2224         9         0      AA\n",
       "4 2014     1   1      722        -8     1014       -26         0      AA\n",
       "5 2014     1   1     1347         2     1706         1         0      AA\n",
       "6 2014     1   1     1824         4     2145         0         0      AA\n",
       "  tailnum flight origin dest air_time distance hour min\n",
       "1  N338AA      1    JFK  LAX      359     2475    9  14\n",
       "2  N335AA      3    JFK  LAX      363     2475   11  57\n",
       "3  N327AA     21    JFK  LAX      351     2475   19   2\n",
       "4  N3EHAA     29    LGA  PBI      157     1035    7  22\n",
       "5  N319AA    117    JFK  LAX      350     2475   13  47\n",
       "6  N3DEAA    119    EWR  LAX      339     2454   18  24"
      ]
     },
     "metadata": {},
     "output_type": "display_data"
    }
   ],
   "source": [
    "head(flights)"
   ]
  },
  {
   "cell_type": "code",
   "execution_count": 4,
   "metadata": {
    "collapsed": false
   },
   "outputs": [
    {
     "data": {
      "text/html": [
       "<ol class=list-inline>\n",
       "\t<li>253316</li>\n",
       "\t<li>17</li>\n",
       "</ol>\n"
      ],
      "text/latex": [
       "\\begin{enumerate*}\n",
       "\\item 253316\n",
       "\\item 17\n",
       "\\end{enumerate*}\n"
      ],
      "text/markdown": [
       "1. 253316\n",
       "2. 17\n",
       "\n",
       "\n"
      ],
      "text/plain": [
       "[1] 253316     17"
      ]
     },
     "metadata": {},
     "output_type": "display_data"
    }
   ],
   "source": [
    "dim(flights)"
   ]
  },
  {
   "cell_type": "markdown",
   "metadata": {
    "collapsed": true
   },
   "source": [
    "## 基础\n",
    "\n",
    "### 创建data.table"
   ]
  },
  {
   "cell_type": "code",
   "execution_count": 5,
   "metadata": {
    "collapsed": true
   },
   "outputs": [],
   "source": [
    "#类似data.frame，也可以as.data.table\n",
    "DT = data.table( ID = c(\"b\",\"b\",\"b\",\"a\",\"a\",\"c\"), a=1:6 , b = 7:12, c=13:18)"
   ]
  },
  {
   "cell_type": "code",
   "execution_count": 6,
   "metadata": {
    "collapsed": false
   },
   "outputs": [
    {
     "data": {
      "text/html": [
       "<table>\n",
       "<thead><tr><th></th><th scope=col>ID</th><th scope=col>a</th><th scope=col>b</th><th scope=col>c</th></tr></thead>\n",
       "<tbody>\n",
       "\t<tr><th scope=row>1</th><td>b </td><td>1 </td><td>7 </td><td>13</td></tr>\n",
       "\t<tr><th scope=row>2</th><td>b </td><td>2 </td><td>8 </td><td>14</td></tr>\n",
       "\t<tr><th scope=row>3</th><td>b </td><td>3 </td><td>9 </td><td>15</td></tr>\n",
       "\t<tr><th scope=row>4</th><td>a </td><td>4 </td><td>10</td><td>16</td></tr>\n",
       "\t<tr><th scope=row>5</th><td>a </td><td>5 </td><td>11</td><td>17</td></tr>\n",
       "\t<tr><th scope=row>6</th><td>c </td><td>6 </td><td>12</td><td>18</td></tr>\n",
       "</tbody>\n",
       "</table>\n"
      ],
      "text/latex": [
       "\\begin{tabular}{r|llll}\n",
       "  & ID & a & b & c\\\\\n",
       "\\hline\n",
       "\t1 & b  & 1  & 7  & 13\\\\\n",
       "\t2 & b  & 2  & 8  & 14\\\\\n",
       "\t3 & b  & 3  & 9  & 15\\\\\n",
       "\t4 & a  & 4  & 10 & 16\\\\\n",
       "\t5 & a  & 5  & 11 & 17\\\\\n",
       "\t6 & c  & 6  & 12 & 18\\\\\n",
       "\\end{tabular}\n"
      ],
      "text/plain": [
       "  ID a  b  c\n",
       "1  b 1  7 13\n",
       "2  b 2  8 14\n",
       "3  b 3  9 15\n",
       "4  a 4 10 16\n",
       "5  a 5 11 17\n",
       "6  c 6 12 18"
      ]
     },
     "metadata": {},
     "output_type": "display_data"
    }
   ],
   "source": [
    "DT"
   ]
  },
  {
   "cell_type": "code",
   "execution_count": 7,
   "metadata": {
    "collapsed": false
   },
   "outputs": [
    {
     "data": {
      "text/html": [
       "\"character\""
      ],
      "text/latex": [
       "\"character\""
      ],
      "text/markdown": [
       "\"character\""
      ],
      "text/plain": [
       "[1] \"character\""
      ]
     },
     "metadata": {},
     "output_type": "display_data"
    }
   ],
   "source": [
    "# 字符串默认不再是因子\n",
    "class(DT$ID)"
   ]
  },
  {
   "cell_type": "code",
   "execution_count": 8,
   "metadata": {
    "collapsed": false
   },
   "outputs": [
    {
     "data": {
      "text/html": [
       "100"
      ],
      "text/latex": [
       "100"
      ],
      "text/markdown": [
       "100"
      ],
      "text/plain": [
       "[1] 100"
      ]
     },
     "metadata": {},
     "output_type": "display_data"
    }
   ],
   "source": [
    "# 修改datatable.print.nrows\"可以修改输入的时候显示多少行，而不会一次性全部显示\n",
    "getOption(\"datatable.print.nrows\")"
   ]
  },
  {
   "cell_type": "markdown",
   "metadata": {},
   "source": [
    "### 基本语法：\n",
    "DT[i, j, by]\n",
    "\n",
    "对于datatable DT，subset第i行，计算j，用by分组\n",
    "\n",
    "subset表示选择行，select表示选择列\n",
    "\n",
    "### subset（行）"
   ]
  },
  {
   "cell_type": "code",
   "execution_count": 9,
   "metadata": {
    "collapsed": false
   },
   "outputs": [
    {
     "data": {
      "text/html": [
       "<table>\n",
       "<thead><tr><th></th><th scope=col>year</th><th scope=col>month</th><th scope=col>day</th><th scope=col>dep_time</th><th scope=col>dep_delay</th><th scope=col>arr_time</th><th scope=col>arr_delay</th><th scope=col>cancelled</th><th scope=col>carrier</th><th scope=col>tailnum</th><th scope=col>flight</th><th scope=col>origin</th><th scope=col>dest</th><th scope=col>air_time</th><th scope=col>distance</th><th scope=col>hour</th><th scope=col>min</th></tr></thead>\n",
       "<tbody>\n",
       "\t<tr><th scope=row>1</th><td>2014  </td><td>6     </td><td>1     </td><td>851   </td><td>-9    </td><td>1205  </td><td>-5    </td><td>0     </td><td>AA    </td><td>N787AA</td><td>1     </td><td>JFK   </td><td>LAX   </td><td>324   </td><td>2475  </td><td>8     </td><td>51    </td></tr>\n",
       "\t<tr><th scope=row>2</th><td>2014  </td><td>6     </td><td>1     </td><td>1220  </td><td>-10   </td><td>1522  </td><td>-13   </td><td>0     </td><td>AA    </td><td>N795AA</td><td>3     </td><td>JFK   </td><td>LAX   </td><td>329   </td><td>2475  </td><td>12    </td><td>20    </td></tr>\n",
       "\t<tr><th scope=row>3</th><td>2014  </td><td>6     </td><td>1     </td><td>718   </td><td>18    </td><td>1014  </td><td>-1    </td><td>0     </td><td>AA    </td><td>N784AA</td><td>9     </td><td>JFK   </td><td>LAX   </td><td>326   </td><td>2475  </td><td>7     </td><td>18    </td></tr>\n",
       "\t<tr><th scope=row>4</th><td>2014  </td><td>6     </td><td>1     </td><td>1024  </td><td>-6    </td><td>1314  </td><td>-16   </td><td>0     </td><td>AA    </td><td>N791AA</td><td>19    </td><td>JFK   </td><td>LAX   </td><td>320   </td><td>2475  </td><td>10    </td><td>24    </td></tr>\n",
       "\t<tr><th scope=row>5</th><td>2014  </td><td>6     </td><td>1     </td><td>1841  </td><td>-4    </td><td>2125  </td><td>-45   </td><td>0     </td><td>AA    </td><td>N790AA</td><td>21    </td><td>JFK   </td><td>LAX   </td><td>326   </td><td>2475  </td><td>18    </td><td>41    </td></tr>\n",
       "\t<tr><th scope=row>6</th><td>2014  </td><td>6     </td><td>1     </td><td>1454  </td><td>-6    </td><td>1757  </td><td>-23   </td><td>0     </td><td>AA    </td><td>N785AA</td><td>117   </td><td>JFK   </td><td>LAX   </td><td>329   </td><td>2475  </td><td>14    </td><td>54    </td></tr>\n",
       "</tbody>\n",
       "</table>\n"
      ],
      "text/latex": [
       "\\begin{tabular}{r|lllllllllllllllll}\n",
       "  & year & month & day & dep\\_time & dep\\_delay & arr\\_time & arr\\_delay & cancelled & carrier & tailnum & flight & origin & dest & air\\_time & distance & hour & min\\\\\n",
       "\\hline\n",
       "\t1 & 2014   & 6      & 1      & 851    & -9     & 1205   & -5     & 0      & AA     & N787AA & 1      & JFK    & LAX    & 324    & 2475   & 8      & 51    \\\\\n",
       "\t2 & 2014   & 6      & 1      & 1220   & -10    & 1522   & -13    & 0      & AA     & N795AA & 3      & JFK    & LAX    & 329    & 2475   & 12     & 20    \\\\\n",
       "\t3 & 2014   & 6      & 1      & 718    & 18     & 1014   & -1     & 0      & AA     & N784AA & 9      & JFK    & LAX    & 326    & 2475   & 7      & 18    \\\\\n",
       "\t4 & 2014   & 6      & 1      & 1024   & -6     & 1314   & -16    & 0      & AA     & N791AA & 19     & JFK    & LAX    & 320    & 2475   & 10     & 24    \\\\\n",
       "\t5 & 2014   & 6      & 1      & 1841   & -4     & 2125   & -45    & 0      & AA     & N790AA & 21     & JFK    & LAX    & 326    & 2475   & 18     & 41    \\\\\n",
       "\t6 & 2014   & 6      & 1      & 1454   & -6     & 1757   & -23    & 0      & AA     & N785AA & 117    & JFK    & LAX    & 329    & 2475   & 14     & 54    \\\\\n",
       "\\end{tabular}\n"
      ],
      "text/plain": [
       "  year month day dep_time dep_delay arr_time arr_delay cancelled carrier\n",
       "1 2014     6   1      851        -9     1205        -5         0      AA\n",
       "2 2014     6   1     1220       -10     1522       -13         0      AA\n",
       "3 2014     6   1      718        18     1014        -1         0      AA\n",
       "4 2014     6   1     1024        -6     1314       -16         0      AA\n",
       "5 2014     6   1     1841        -4     2125       -45         0      AA\n",
       "6 2014     6   1     1454        -6     1757       -23         0      AA\n",
       "  tailnum flight origin dest air_time distance hour min\n",
       "1  N787AA      1    JFK  LAX      324     2475    8  51\n",
       "2  N795AA      3    JFK  LAX      329     2475   12  20\n",
       "3  N784AA      9    JFK  LAX      326     2475    7  18\n",
       "4  N791AA     19    JFK  LAX      320     2475   10  24\n",
       "5  N790AA     21    JFK  LAX      326     2475   18  41\n",
       "6  N785AA    117    JFK  LAX      329     2475   14  54"
      ]
     },
     "metadata": {},
     "output_type": "display_data"
    }
   ],
   "source": [
    "# 选择满足条件的行，很直观\n",
    "ans <- flights[origin == \"JFK\" & month == 6L] #要用双引号！\n",
    "head(ans)\n",
    "# 默认第一个参数传入i，\n",
    "#满足基本语法的写法 ans <- flights[origin == \"JFK\" & month == 6L， ] 也可以"
   ]
  },
  {
   "cell_type": "code",
   "execution_count": 11,
   "metadata": {
    "collapsed": false
   },
   "outputs": [
    {
     "data": {
      "text/html": [
       "<table>\n",
       "<thead><tr><th></th><th scope=col>year</th><th scope=col>month</th><th scope=col>day</th><th scope=col>dep_time</th><th scope=col>dep_delay</th><th scope=col>arr_time</th><th scope=col>arr_delay</th><th scope=col>cancelled</th><th scope=col>carrier</th><th scope=col>tailnum</th><th scope=col>flight</th><th scope=col>origin</th><th scope=col>dest</th><th scope=col>air_time</th><th scope=col>distance</th><th scope=col>hour</th><th scope=col>min</th></tr></thead>\n",
       "<tbody>\n",
       "\t<tr><th scope=row>1</th><td>2014  </td><td>1     </td><td>1     </td><td>914   </td><td>14    </td><td>1238  </td><td>13    </td><td>0     </td><td>AA    </td><td>N338AA</td><td>1     </td><td>JFK   </td><td>LAX   </td><td>359   </td><td>2475  </td><td>9     </td><td>14    </td></tr>\n",
       "\t<tr><th scope=row>2</th><td>2014  </td><td>1     </td><td>1     </td><td>1157  </td><td>-3    </td><td>1523  </td><td>13    </td><td>0     </td><td>AA    </td><td>N335AA</td><td>3     </td><td>JFK   </td><td>LAX   </td><td>363   </td><td>2475  </td><td>11    </td><td>57    </td></tr>\n",
       "</tbody>\n",
       "</table>\n"
      ],
      "text/latex": [
       "\\begin{tabular}{r|lllllllllllllllll}\n",
       "  & year & month & day & dep\\_time & dep\\_delay & arr\\_time & arr\\_delay & cancelled & carrier & tailnum & flight & origin & dest & air\\_time & distance & hour & min\\\\\n",
       "\\hline\n",
       "\t1 & 2014   & 1      & 1      & 914    & 14     & 1238   & 13     & 0      & AA     & N338AA & 1      & JFK    & LAX    & 359    & 2475   & 9      & 14    \\\\\n",
       "\t2 & 2014   & 1      & 1      & 1157   & -3     & 1523   & 13     & 0      & AA     & N335AA & 3      & JFK    & LAX    & 363    & 2475   & 11     & 57    \\\\\n",
       "\\end{tabular}\n"
      ],
      "text/plain": [
       "  year month day dep_time dep_delay arr_time arr_delay cancelled carrier\n",
       "1 2014     1   1      914        14     1238        13         0      AA\n",
       "2 2014     1   1     1157        -3     1523        13         0      AA\n",
       "  tailnum flight origin dest air_time distance hour min\n",
       "1  N338AA      1    JFK  LAX      359     2475    9  14\n",
       "2  N335AA      3    JFK  LAX      363     2475   11  57"
      ]
     },
     "metadata": {},
     "output_type": "display_data"
    }
   ],
   "source": [
    "#获取某行\n",
    "ans <- flights[1:2]\n",
    "ans"
   ]
  },
  {
   "cell_type": "code",
   "execution_count": 13,
   "metadata": {
    "collapsed": false
   },
   "outputs": [
    {
     "data": {
      "text/html": [
       "<table>\n",
       "<thead><tr><th></th><th scope=col>year</th><th scope=col>month</th><th scope=col>day</th><th scope=col>dep_time</th><th scope=col>dep_delay</th><th scope=col>arr_time</th><th scope=col>arr_delay</th><th scope=col>cancelled</th><th scope=col>carrier</th><th scope=col>tailnum</th><th scope=col>flight</th><th scope=col>origin</th><th scope=col>dest</th><th scope=col>air_time</th><th scope=col>distance</th><th scope=col>hour</th><th scope=col>min</th></tr></thead>\n",
       "<tbody>\n",
       "\t<tr><th scope=row>1</th><td>2014  </td><td>1     </td><td>1     </td><td>914   </td><td>14    </td><td>1238  </td><td>13    </td><td>0     </td><td>AA    </td><td>N338AA</td><td>1     </td><td>JFK   </td><td>LAX   </td><td>359   </td><td>2475  </td><td>9     </td><td>14    </td></tr>\n",
       "\t<tr><th scope=row>2</th><td>2014  </td><td>1     </td><td>1     </td><td>722   </td><td>-8    </td><td>1014  </td><td>-26   </td><td>0     </td><td>AA    </td><td>N3EHAA</td><td>29    </td><td>LGA   </td><td>PBI   </td><td>157   </td><td>1035  </td><td>7     </td><td>22    </td></tr>\n",
       "\t<tr><th scope=row>3</th><td>2014  </td><td>1     </td><td>1     </td><td>2133  </td><td>-2    </td><td>37    </td><td>-18   </td><td>0     </td><td>AA    </td><td>N323AA</td><td>185   </td><td>JFK   </td><td>LAX   </td><td>338   </td><td>2475  </td><td>21    </td><td>33    </td></tr>\n",
       "\t<tr><th scope=row>4</th><td>2014  </td><td>1     </td><td>1     </td><td>738   </td><td>-2    </td><td>940   </td><td>15    </td><td>0     </td><td>AA    </td><td>N3GMAA</td><td>307   </td><td>LGA   </td><td>ORD   </td><td>145   </td><td>733   </td><td>7     </td><td>38    </td></tr>\n",
       "</tbody>\n",
       "</table>\n"
      ],
      "text/latex": [
       "\\begin{tabular}{r|lllllllllllllllll}\n",
       "  & year & month & day & dep\\_time & dep\\_delay & arr\\_time & arr\\_delay & cancelled & carrier & tailnum & flight & origin & dest & air\\_time & distance & hour & min\\\\\n",
       "\\hline\n",
       "\t1 & 2014   & 1      & 1      & 914    & 14     & 1238   & 13     & 0      & AA     & N338AA & 1      & JFK    & LAX    & 359    & 2475   & 9      & 14    \\\\\n",
       "\t2 & 2014   & 1      & 1      & 722    & -8     & 1014   & -26    & 0      & AA     & N3EHAA & 29     & LGA    & PBI    & 157    & 1035   & 7      & 22    \\\\\n",
       "\t3 & 2014   & 1      & 1      & 2133   & -2     & 37     & -18    & 0      & AA     & N323AA & 185    & JFK    & LAX    & 338    & 2475   & 21     & 33    \\\\\n",
       "\t4 & 2014   & 1      & 1      & 738    & -2     & 940    & 15     & 0      & AA     & N3GMAA & 307    & LGA    & ORD    & 145    & 733    & 7      & 38    \\\\\n",
       "\\end{tabular}\n"
      ],
      "text/plain": [
       "  year month day dep_time dep_delay arr_time arr_delay cancelled carrier\n",
       "1 2014     1   1      914        14     1238        13         0      AA\n",
       "2 2014     1   1      722        -8     1014       -26         0      AA\n",
       "3 2014     1   1     2133        -2       37       -18         0      AA\n",
       "4 2014     1   1      738        -2      940        15         0      AA\n",
       "  tailnum flight origin dest air_time distance hour min\n",
       "1  N338AA      1    JFK  LAX      359     2475    9  14\n",
       "2  N3EHAA     29    LGA  PBI      157     1035    7  22\n",
       "3  N323AA    185    JFK  LAX      338     2475   21  33\n",
       "4  N3GMAA    307    LGA  ORD      145      733    7  38"
      ]
     },
     "metadata": {},
     "output_type": "display_data"
    }
   ],
   "source": [
    "ans <- flights[c(1,4,7,23)]\n",
    "ans"
   ]
  },
  {
   "cell_type": "markdown",
   "metadata": {},
   "source": [
    "### 排序\n",
    "内置order函数，使用-可以实现降序，比base的order快（16倍）"
   ]
  },
  {
   "cell_type": "code",
   "execution_count": 14,
   "metadata": {
    "collapsed": false
   },
   "outputs": [
    {
     "data": {
      "text/html": [
       "<table>\n",
       "<thead><tr><th></th><th scope=col>year</th><th scope=col>month</th><th scope=col>day</th><th scope=col>dep_time</th><th scope=col>dep_delay</th><th scope=col>arr_time</th><th scope=col>arr_delay</th><th scope=col>cancelled</th><th scope=col>carrier</th><th scope=col>tailnum</th><th scope=col>flight</th><th scope=col>origin</th><th scope=col>dest</th><th scope=col>air_time</th><th scope=col>distance</th><th scope=col>hour</th><th scope=col>min</th></tr></thead>\n",
       "<tbody>\n",
       "\t<tr><th scope=row>1</th><td>2014  </td><td>1     </td><td>5     </td><td>836   </td><td>6     </td><td>1151  </td><td>49    </td><td>0     </td><td>EV    </td><td>N12175</td><td>4419  </td><td>EWR   </td><td>XNA   </td><td>195   </td><td>1131  </td><td>8     </td><td>36    </td></tr>\n",
       "\t<tr><th scope=row>2</th><td>2014  </td><td>1     </td><td>6     </td><td>833   </td><td>7     </td><td>1111  </td><td>13    </td><td>0     </td><td>EV    </td><td>N24128</td><td>4419  </td><td>EWR   </td><td>XNA   </td><td>190   </td><td>1131  </td><td>8     </td><td>33    </td></tr>\n",
       "\t<tr><th scope=row>3</th><td>2014  </td><td>1     </td><td>7     </td><td>811   </td><td>-6    </td><td>1035  </td><td>-13   </td><td>0     </td><td>EV    </td><td>N12142</td><td>4419  </td><td>EWR   </td><td>XNA   </td><td>179   </td><td>1131  </td><td>8     </td><td>11    </td></tr>\n",
       "\t<tr><th scope=row>4</th><td>2014  </td><td>1     </td><td>8     </td><td>810   </td><td>-7    </td><td>1036  </td><td>-12   </td><td>0     </td><td>EV    </td><td>N11193</td><td>4419  </td><td>EWR   </td><td>XNA   </td><td>184   </td><td>1131  </td><td>8     </td><td>10    </td></tr>\n",
       "\t<tr><th scope=row>5</th><td>2014  </td><td>1     </td><td>9     </td><td>833   </td><td>16    </td><td>1055  </td><td>7     </td><td>0     </td><td>EV    </td><td>N14198</td><td>4419  </td><td>EWR   </td><td>XNA   </td><td>181   </td><td>1131  </td><td>8     </td><td>33    </td></tr>\n",
       "\t<tr><th scope=row>6</th><td>2014  </td><td>1     </td><td>13    </td><td>923   </td><td>66    </td><td>1154  </td><td>66    </td><td>0     </td><td>EV    </td><td>N12157</td><td>4419  </td><td>EWR   </td><td>XNA   </td><td>188   </td><td>1131  </td><td>9     </td><td>23    </td></tr>\n",
       "</tbody>\n",
       "</table>\n"
      ],
      "text/latex": [
       "\\begin{tabular}{r|lllllllllllllllll}\n",
       "  & year & month & day & dep\\_time & dep\\_delay & arr\\_time & arr\\_delay & cancelled & carrier & tailnum & flight & origin & dest & air\\_time & distance & hour & min\\\\\n",
       "\\hline\n",
       "\t1 & 2014   & 1      & 5      & 836    & 6      & 1151   & 49     & 0      & EV     & N12175 & 4419   & EWR    & XNA    & 195    & 1131   & 8      & 36    \\\\\n",
       "\t2 & 2014   & 1      & 6      & 833    & 7      & 1111   & 13     & 0      & EV     & N24128 & 4419   & EWR    & XNA    & 190    & 1131   & 8      & 33    \\\\\n",
       "\t3 & 2014   & 1      & 7      & 811    & -6     & 1035   & -13    & 0      & EV     & N12142 & 4419   & EWR    & XNA    & 179    & 1131   & 8      & 11    \\\\\n",
       "\t4 & 2014   & 1      & 8      & 810    & -7     & 1036   & -12    & 0      & EV     & N11193 & 4419   & EWR    & XNA    & 184    & 1131   & 8      & 10    \\\\\n",
       "\t5 & 2014   & 1      & 9      & 833    & 16     & 1055   & 7      & 0      & EV     & N14198 & 4419   & EWR    & XNA    & 181    & 1131   & 8      & 33    \\\\\n",
       "\t6 & 2014   & 1      & 13     & 923    & 66     & 1154   & 66     & 0      & EV     & N12157 & 4419   & EWR    & XNA    & 188    & 1131   & 9      & 23    \\\\\n",
       "\\end{tabular}\n"
      ],
      "text/plain": [
       "  year month day dep_time dep_delay arr_time arr_delay cancelled carrier\n",
       "1 2014     1   5      836         6     1151        49         0      EV\n",
       "2 2014     1   6      833         7     1111        13         0      EV\n",
       "3 2014     1   7      811        -6     1035       -13         0      EV\n",
       "4 2014     1   8      810        -7     1036       -12         0      EV\n",
       "5 2014     1   9      833        16     1055         7         0      EV\n",
       "6 2014     1  13      923        66     1154        66         0      EV\n",
       "  tailnum flight origin dest air_time distance hour min\n",
       "1  N12175   4419    EWR  XNA      195     1131    8  36\n",
       "2  N24128   4419    EWR  XNA      190     1131    8  33\n",
       "3  N12142   4419    EWR  XNA      179     1131    8  11\n",
       "4  N11193   4419    EWR  XNA      184     1131    8  10\n",
       "5  N14198   4419    EWR  XNA      181     1131    8  33\n",
       "6  N12157   4419    EWR  XNA      188     1131    9  23"
      ]
     },
     "metadata": {},
     "output_type": "display_data"
    }
   ],
   "source": [
    "ans <- flights[order( origin, -dest)] #可以写出多个，会按顺序排\n",
    "head(ans)"
   ]
  },
  {
   "cell_type": "markdown",
   "metadata": {},
   "source": [
    "### select列(参数j）"
   ]
  },
  {
   "cell_type": "code",
   "execution_count": 15,
   "metadata": {
    "collapsed": false
   },
   "outputs": [
    {
     "data": {
      "text/html": [
       "<ol class=list-inline>\n",
       "\t<li>13</li>\n",
       "\t<li>13</li>\n",
       "\t<li>9</li>\n",
       "\t<li>-26</li>\n",
       "\t<li>1</li>\n",
       "\t<li>0</li>\n",
       "</ol>\n"
      ],
      "text/latex": [
       "\\begin{enumerate*}\n",
       "\\item 13\n",
       "\\item 13\n",
       "\\item 9\n",
       "\\item -26\n",
       "\\item 1\n",
       "\\item 0\n",
       "\\end{enumerate*}\n"
      ],
      "text/markdown": [
       "1. 13\n",
       "2. 13\n",
       "3. 9\n",
       "4. -26\n",
       "5. 1\n",
       "6. 0\n",
       "\n",
       "\n"
      ],
      "text/plain": [
       "[1]  13  13   9 -26   1   0"
      ]
     },
     "metadata": {},
     "output_type": "display_data"
    }
   ],
   "source": [
    "# 基础语法DT[i, j, by] ，用一个，隔开进入j，选择列\n",
    "ans <- flights[, arr_delay]\n",
    "head(ans)"
   ]
  },
  {
   "cell_type": "code",
   "execution_count": 16,
   "metadata": {
    "collapsed": false
   },
   "outputs": [
    {
     "data": {
      "text/html": [
       "<ol class=list-inline>\n",
       "\t<li>13</li>\n",
       "\t<li>13</li>\n",
       "\t<li>9</li>\n",
       "\t<li>-26</li>\n",
       "</ol>\n"
      ],
      "text/latex": [
       "\\begin{enumerate*}\n",
       "\\item 13\n",
       "\\item 13\n",
       "\\item 9\n",
       "\\item -26\n",
       "\\end{enumerate*}\n"
      ],
      "text/markdown": [
       "1. 13\n",
       "2. 13\n",
       "3. 9\n",
       "4. -26\n",
       "\n",
       "\n"
      ],
      "text/plain": [
       "[1]  13  13   9 -26"
      ]
     },
     "metadata": {},
     "output_type": "display_data"
    }
   ],
   "source": [
    "#如果想指定行和列\n",
    "ans <- flights[1:4 , arr_delay]\n",
    "head(ans)"
   ]
  },
  {
   "cell_type": "code",
   "execution_count": 22,
   "metadata": {
    "collapsed": false
   },
   "outputs": [
    {
     "name": "stdout",
     "output_type": "stream",
     "text": [
      " int [1:4] 13 13 9 -26\n"
     ]
    }
   ],
   "source": [
    "str(ans) #返回向量"
   ]
  },
  {
   "cell_type": "code",
   "execution_count": 23,
   "metadata": {
    "collapsed": false
   },
   "outputs": [
    {
     "data": {
      "text/html": [
       "<table>\n",
       "<thead><tr><th></th><th scope=col>arr_delay</th></tr></thead>\n",
       "<tbody>\n",
       "\t<tr><th scope=row>1</th><td>13</td></tr>\n",
       "\t<tr><th scope=row>2</th><td>13</td></tr>\n",
       "\t<tr><th scope=row>3</th><td>9</td></tr>\n",
       "\t<tr><th scope=row>4</th><td>-26</td></tr>\n",
       "\t<tr><th scope=row>5</th><td>1</td></tr>\n",
       "\t<tr><th scope=row>6</th><td>0</td></tr>\n",
       "</tbody>\n",
       "</table>\n"
      ],
      "text/latex": [
       "\\begin{tabular}{r|l}\n",
       "  & arr\\_delay\\\\\n",
       "\\hline\n",
       "\t1 & 13\\\\\n",
       "\t2 & 13\\\\\n",
       "\t3 & 9\\\\\n",
       "\t4 & -26\\\\\n",
       "\t5 & 1\\\\\n",
       "\t6 & 0\\\\\n",
       "\\end{tabular}\n"
      ],
      "text/plain": [
       "  arr_delay\n",
       "1        13\n",
       "2        13\n",
       "3         9\n",
       "4       -26\n",
       "5         1\n",
       "6         0"
      ]
     },
     "metadata": {},
     "output_type": "display_data"
    }
   ],
   "source": [
    "# 如果想要返回datatable,用list包围列名，或者.()也可以，\n",
    "ans <- flights[, list(arr_delay)]\n",
    "head(ans)"
   ]
  },
  {
   "cell_type": "code",
   "execution_count": 24,
   "metadata": {
    "collapsed": false
   },
   "outputs": [
    {
     "name": "stdout",
     "output_type": "stream",
     "text": [
      "Classes 'data.table' and 'data.frame':\t253316 obs. of  1 variable:\n",
      " $ arr_delay: int  13 13 9 -26 1 0 -18 -14 -17 -14 ...\n",
      " - attr(*, \".internal.selfref\")=<externalptr> \n"
     ]
    }
   ],
   "source": [
    "str(ans)"
   ]
  },
  {
   "cell_type": "code",
   "execution_count": 25,
   "metadata": {
    "collapsed": false
   },
   "outputs": [
    {
     "data": {
      "text/html": [
       "<table>\n",
       "<thead><tr><th></th><th scope=col>arr_delay</th><th scope=col>dep_delay</th></tr></thead>\n",
       "<tbody>\n",
       "\t<tr><th scope=row>1</th><td>13</td><td>14</td></tr>\n",
       "\t<tr><th scope=row>2</th><td>13</td><td>-3</td></tr>\n",
       "\t<tr><th scope=row>3</th><td>9</td><td>2</td></tr>\n",
       "\t<tr><th scope=row>4</th><td>-26</td><td> -8</td></tr>\n",
       "\t<tr><th scope=row>5</th><td>1</td><td>2</td></tr>\n",
       "\t<tr><th scope=row>6</th><td>0</td><td>4</td></tr>\n",
       "</tbody>\n",
       "</table>\n"
      ],
      "text/latex": [
       "\\begin{tabular}{r|ll}\n",
       "  & arr\\_delay & dep\\_delay\\\\\n",
       "\\hline\n",
       "\t1 & 13 & 14\\\\\n",
       "\t2 & 13 & -3\\\\\n",
       "\t3 & 9 & 2\\\\\n",
       "\t4 & -26 &  -8\\\\\n",
       "\t5 & 1 & 2\\\\\n",
       "\t6 & 0 & 4\\\\\n",
       "\\end{tabular}\n"
      ],
      "text/plain": [
       "  arr_delay dep_delay\n",
       "1        13        14\n",
       "2        13        -3\n",
       "3         9         2\n",
       "4       -26        -8\n",
       "5         1         2\n",
       "6         0         4"
      ]
     },
     "metadata": {},
     "output_type": "display_data"
    }
   ],
   "source": [
    "# list()里面可以包含很多个列名\n",
    "ans <- flights[, .(arr_delay, dep_delay)]\n",
    "head(ans)"
   ]
  },
  {
   "cell_type": "code",
   "execution_count": 27,
   "metadata": {
    "collapsed": false
   },
   "outputs": [
    {
     "data": {
      "text/html": [
       "<table>\n",
       "<thead><tr><th></th><th scope=col>delay_arr</th><th scope=col>delay_dep</th></tr></thead>\n",
       "<tbody>\n",
       "\t<tr><th scope=row>1</th><td>13</td><td>14</td></tr>\n",
       "\t<tr><th scope=row>2</th><td>13</td><td>-3</td></tr>\n",
       "\t<tr><th scope=row>3</th><td>9</td><td>2</td></tr>\n",
       "\t<tr><th scope=row>4</th><td>-26</td><td> -8</td></tr>\n",
       "\t<tr><th scope=row>5</th><td>1</td><td>2</td></tr>\n",
       "\t<tr><th scope=row>6</th><td>0</td><td>4</td></tr>\n",
       "</tbody>\n",
       "</table>\n"
      ],
      "text/latex": [
       "\\begin{tabular}{r|ll}\n",
       "  & delay\\_arr & delay\\_dep\\\\\n",
       "\\hline\n",
       "\t1 & 13 & 14\\\\\n",
       "\t2 & 13 & -3\\\\\n",
       "\t3 & 9 & 2\\\\\n",
       "\t4 & -26 &  -8\\\\\n",
       "\t5 & 1 & 2\\\\\n",
       "\t6 & 0 & 4\\\\\n",
       "\\end{tabular}\n"
      ],
      "text/plain": [
       "  delay_arr delay_dep\n",
       "1        13        14\n",
       "2        13        -3\n",
       "3         9         2\n",
       "4       -26        -8\n",
       "5         1         2\n",
       "6         0         4"
      ]
     },
     "metadata": {},
     "output_type": "display_data"
    }
   ],
   "source": [
    "#也支持在select列的时候对列命名\n",
    "ans <- flights[, .(delay_arr = arr_delay, delay_dep = dep_delay)]\n",
    "head(ans)"
   ]
  },
  {
   "cell_type": "code",
   "execution_count": 37,
   "metadata": {
    "collapsed": false
   },
   "outputs": [
    {
     "data": {
      "text/html": [
       "<table>\n",
       "<thead><tr><th></th><th scope=col>arr_delay</th><th scope=col>dep_delay</th></tr></thead>\n",
       "<tbody>\n",
       "\t<tr><th scope=row>1</th><td>13</td><td>14</td></tr>\n",
       "\t<tr><th scope=row>2</th><td>13</td><td>-3</td></tr>\n",
       "\t<tr><th scope=row>3</th><td>9</td><td>2</td></tr>\n",
       "\t<tr><th scope=row>4</th><td>-26</td><td> -8</td></tr>\n",
       "\t<tr><th scope=row>5</th><td>1</td><td>2</td></tr>\n",
       "\t<tr><th scope=row>6</th><td>0</td><td>4</td></tr>\n",
       "</tbody>\n",
       "</table>\n"
      ],
      "text/latex": [
       "\\begin{tabular}{r|ll}\n",
       "  & arr\\_delay & dep\\_delay\\\\\n",
       "\\hline\n",
       "\t1 & 13 & 14\\\\\n",
       "\t2 & 13 & -3\\\\\n",
       "\t3 & 9 & 2\\\\\n",
       "\t4 & -26 &  -8\\\\\n",
       "\t5 & 1 & 2\\\\\n",
       "\t6 & 0 & 4\\\\\n",
       "\\end{tabular}\n"
      ],
      "text/plain": [
       "  arr_delay dep_delay\n",
       "1        13        14\n",
       "2        13        -3\n",
       "3         9         2\n",
       "4       -26        -8\n",
       "5         1         2\n",
       "6         0         4"
      ]
     },
     "metadata": {},
     "output_type": "display_data"
    }
   ],
   "source": [
    "#也可以用with =FALSE 来用列名引用\n",
    "ans <- flights[, c(\"arr_delay\", \"dep_delay\"), with=FALSE]\n",
    "head(ans)"
   ]
  },
  {
   "cell_type": "code",
   "execution_count": 41,
   "metadata": {
    "collapsed": false,
    "scrolled": true
   },
   "outputs": [
    {
     "data": {
      "text/html": [
       "<table>\n",
       "<thead><tr><th></th><th scope=col>year</th><th scope=col>month</th><th scope=col>day</th><th scope=col>dep_time</th><th scope=col>arr_time</th><th scope=col>cancelled</th><th scope=col>carrier</th><th scope=col>tailnum</th><th scope=col>flight</th><th scope=col>origin</th><th scope=col>dest</th><th scope=col>air_time</th><th scope=col>distance</th><th scope=col>hour</th><th scope=col>min</th></tr></thead>\n",
       "<tbody>\n",
       "\t<tr><th scope=row>1</th><td>2014  </td><td>1     </td><td>1     </td><td>914   </td><td>1238  </td><td>0     </td><td>AA    </td><td>N338AA</td><td>1     </td><td>JFK   </td><td>LAX   </td><td>359   </td><td>2475  </td><td>9     </td><td>14    </td></tr>\n",
       "\t<tr><th scope=row>2</th><td>2014  </td><td>1     </td><td>1     </td><td>1157  </td><td>1523  </td><td>0     </td><td>AA    </td><td>N335AA</td><td>3     </td><td>JFK   </td><td>LAX   </td><td>363   </td><td>2475  </td><td>11    </td><td>57    </td></tr>\n",
       "\t<tr><th scope=row>3</th><td>2014  </td><td>1     </td><td>1     </td><td>1902  </td><td>2224  </td><td>0     </td><td>AA    </td><td>N327AA</td><td>21    </td><td>JFK   </td><td>LAX   </td><td>351   </td><td>2475  </td><td>19    </td><td>2     </td></tr>\n",
       "\t<tr><th scope=row>4</th><td>2014  </td><td>1     </td><td>1     </td><td>722   </td><td>1014  </td><td>0     </td><td>AA    </td><td>N3EHAA</td><td>29    </td><td>LGA   </td><td>PBI   </td><td>157   </td><td>1035  </td><td>7     </td><td>22    </td></tr>\n",
       "\t<tr><th scope=row>5</th><td>2014  </td><td>1     </td><td>1     </td><td>1347  </td><td>1706  </td><td>0     </td><td>AA    </td><td>N319AA</td><td>117   </td><td>JFK   </td><td>LAX   </td><td>350   </td><td>2475  </td><td>13    </td><td>47    </td></tr>\n",
       "\t<tr><th scope=row>6</th><td>2014  </td><td>1     </td><td>1     </td><td>1824  </td><td>2145  </td><td>0     </td><td>AA    </td><td>N3DEAA</td><td>119   </td><td>EWR   </td><td>LAX   </td><td>339   </td><td>2454  </td><td>18    </td><td>24    </td></tr>\n",
       "</tbody>\n",
       "</table>\n"
      ],
      "text/latex": [
       "\\begin{tabular}{r|lllllllllllllll}\n",
       "  & year & month & day & dep\\_time & arr\\_time & cancelled & carrier & tailnum & flight & origin & dest & air\\_time & distance & hour & min\\\\\n",
       "\\hline\n",
       "\t1 & 2014   & 1      & 1      & 914    & 1238   & 0      & AA     & N338AA & 1      & JFK    & LAX    & 359    & 2475   & 9      & 14    \\\\\n",
       "\t2 & 2014   & 1      & 1      & 1157   & 1523   & 0      & AA     & N335AA & 3      & JFK    & LAX    & 363    & 2475   & 11     & 57    \\\\\n",
       "\t3 & 2014   & 1      & 1      & 1902   & 2224   & 0      & AA     & N327AA & 21     & JFK    & LAX    & 351    & 2475   & 19     & 2     \\\\\n",
       "\t4 & 2014   & 1      & 1      & 722    & 1014   & 0      & AA     & N3EHAA & 29     & LGA    & PBI    & 157    & 1035   & 7      & 22    \\\\\n",
       "\t5 & 2014   & 1      & 1      & 1347   & 1706   & 0      & AA     & N319AA & 117    & JFK    & LAX    & 350    & 2475   & 13     & 47    \\\\\n",
       "\t6 & 2014   & 1      & 1      & 1824   & 2145   & 0      & AA     & N3DEAA & 119    & EWR    & LAX    & 339    & 2454   & 18     & 24    \\\\\n",
       "\\end{tabular}\n"
      ],
      "text/plain": [
       "  year month day dep_time arr_time cancelled carrier tailnum flight origin dest\n",
       "1 2014     1   1      914     1238         0      AA  N338AA      1    JFK  LAX\n",
       "2 2014     1   1     1157     1523         0      AA  N335AA      3    JFK  LAX\n",
       "3 2014     1   1     1902     2224         0      AA  N327AA     21    JFK  LAX\n",
       "4 2014     1   1      722     1014         0      AA  N3EHAA     29    LGA  PBI\n",
       "5 2014     1   1     1347     1706         0      AA  N319AA    117    JFK  LAX\n",
       "6 2014     1   1     1824     2145         0      AA  N3DEAA    119    EWR  LAX\n",
       "  air_time distance hour min\n",
       "1      359     2475    9  14\n",
       "2      363     2475   11  57\n",
       "3      351     2475   19   2\n",
       "4      157     1035    7  22\n",
       "5      350     2475   13  47\n",
       "6      339     2454   18  24"
      ]
     },
     "metadata": {},
     "output_type": "display_data"
    }
   ],
   "source": [
    "#排除列, with模式关闭条件下，用!或者-\n",
    "ans <- flights[, !c(\"arr_delay\", \"dep_delay\"),with = FALSE]\n",
    "head(ans)"
   ]
  },
  {
   "cell_type": "code",
   "execution_count": 42,
   "metadata": {
    "collapsed": false
   },
   "outputs": [
    {
     "data": {
      "text/html": [
       "<table>\n",
       "<thead><tr><th></th><th scope=col>month</th><th scope=col>day</th><th scope=col>dep_time</th><th scope=col>dep_delay</th><th scope=col>arr_time</th><th scope=col>arr_delay</th><th scope=col>cancelled</th><th scope=col>carrier</th></tr></thead>\n",
       "<tbody>\n",
       "\t<tr><th scope=row>1</th><td>1   </td><td>1   </td><td>914 </td><td>14  </td><td>1238</td><td>13  </td><td>0   </td><td>AA  </td></tr>\n",
       "\t<tr><th scope=row>2</th><td>1   </td><td>1   </td><td>1157</td><td>-3  </td><td>1523</td><td>13  </td><td>0   </td><td>AA  </td></tr>\n",
       "\t<tr><th scope=row>3</th><td>1   </td><td>1   </td><td>1902</td><td>2   </td><td>2224</td><td>9   </td><td>0   </td><td>AA  </td></tr>\n",
       "\t<tr><th scope=row>4</th><td>1   </td><td>1   </td><td>722 </td><td>-8  </td><td>1014</td><td>-26 </td><td>0   </td><td>AA  </td></tr>\n",
       "\t<tr><th scope=row>5</th><td>1   </td><td>1   </td><td>1347</td><td>2   </td><td>1706</td><td>1   </td><td>0   </td><td>AA  </td></tr>\n",
       "\t<tr><th scope=row>6</th><td>1   </td><td>1   </td><td>1824</td><td>4   </td><td>2145</td><td>0   </td><td>0   </td><td>AA  </td></tr>\n",
       "</tbody>\n",
       "</table>\n"
      ],
      "text/latex": [
       "\\begin{tabular}{r|llllllll}\n",
       "  & month & day & dep\\_time & dep\\_delay & arr\\_time & arr\\_delay & cancelled & carrier\\\\\n",
       "\\hline\n",
       "\t1 & 1    & 1    & 914  & 14   & 1238 & 13   & 0    & AA  \\\\\n",
       "\t2 & 1    & 1    & 1157 & -3   & 1523 & 13   & 0    & AA  \\\\\n",
       "\t3 & 1    & 1    & 1902 & 2    & 2224 & 9    & 0    & AA  \\\\\n",
       "\t4 & 1    & 1    & 722  & -8   & 1014 & -26  & 0    & AA  \\\\\n",
       "\t5 & 1    & 1    & 1347 & 2    & 1706 & 1    & 0    & AA  \\\\\n",
       "\t6 & 1    & 1    & 1824 & 4    & 2145 & 0    & 0    & AA  \\\\\n",
       "\\end{tabular}\n"
      ],
      "text/plain": [
       "  month day dep_time dep_delay arr_time arr_delay cancelled carrier\n",
       "1     1   1      914        14     1238        13         0      AA\n",
       "2     1   1     1157        -3     1523        13         0      AA\n",
       "3     1   1     1902         2     2224         9         0      AA\n",
       "4     1   1      722        -8     1014       -26         0      AA\n",
       "5     1   1     1347         2     1706         1         0      AA\n",
       "6     1   1     1824         4     2145         0         0      AA"
      ]
     },
     "metadata": {},
     "output_type": "display_data"
    }
   ],
   "source": [
    "# 选择连续的列\n",
    "ans <- flights[, month:carrier, with = FALSE]\n",
    "head(ans)"
   ]
  },
  {
   "cell_type": "markdown",
   "metadata": {},
   "source": [
    "### 运算（参数j）"
   ]
  },
  {
   "cell_type": "code",
   "execution_count": 29,
   "metadata": {
    "collapsed": false
   },
   "outputs": [
    {
     "data": {
      "text/html": [
       "141814"
      ],
      "text/latex": [
       "141814"
      ],
      "text/markdown": [
       "141814"
      ],
      "text/plain": [
       "[1] 141814"
      ]
     },
     "metadata": {},
     "output_type": "display_data"
    }
   ],
   "source": [
    "#多少航班完全没有延误\n",
    "#对arr_delay和dep_delay求和后，判断是否小于0，把小于0的个数求和\n",
    "ans <- flights[, sum((arr_delay+dep_delay) <0)]\n",
    "ans"
   ]
  },
  {
   "cell_type": "markdown",
   "metadata": {},
   "source": [
    "### 选取（i）且运算（j)"
   ]
  },
  {
   "cell_type": "code",
   "execution_count": 32,
   "metadata": {
    "collapsed": false
   },
   "outputs": [
    {
     "data": {
      "text/html": [
       "<table>\n",
       "<thead><tr><th></th><th scope=col>m_arr</th><th scope=col>m_dep</th></tr></thead>\n",
       "<tbody>\n",
       "\t<tr><th scope=row>1</th><td>5.839349</td><td>9.807884</td></tr>\n",
       "</tbody>\n",
       "</table>\n"
      ],
      "text/latex": [
       "\\begin{tabular}{r|ll}\n",
       "  & m\\_arr & m\\_dep\\\\\n",
       "\\hline\n",
       "\t1 & 5.839349 & 9.807884\\\\\n",
       "\\end{tabular}\n"
      ],
      "text/plain": [
       "     m_arr    m_dep\n",
       "1 5.839349 9.807884"
      ]
     },
     "metadata": {},
     "output_type": "display_data"
    }
   ],
   "source": [
    "#在六月份，从”JFK”机场起飞的航班中，计算起飞和到达的平均延误时间\n",
    "ans <- flights[origin == \"JFK\" & month == 6L, .(m_arr = mean(arr_delay), m_dep = mean(dep_delay))]\n",
    "ans"
   ]
  },
  {
   "cell_type": "code",
   "execution_count": 35,
   "metadata": {
    "collapsed": false
   },
   "outputs": [
    {
     "data": {
      "text/html": [
       "8422"
      ],
      "text/latex": [
       "8422"
      ],
      "text/markdown": [
       "8422"
      ],
      "text/plain": [
       "[1] 8422"
      ]
     },
     "metadata": {},
     "output_type": "display_data"
    }
   ],
   "source": [
    "# 在六月份，从”JFK”机场起飞的航班一共有多少\n",
    "ans <- nrow(flights[origin == \"JFK\" & month == 6L ])\n",
    "ans"
   ]
  },
  {
   "cell_type": "markdown",
   "metadata": {},
   "source": [
    "#### .N（参数j）\n",
    ".N表示计算当前分组中对象的数目"
   ]
  },
  {
   "cell_type": "code",
   "execution_count": 36,
   "metadata": {
    "collapsed": false
   },
   "outputs": [
    {
     "data": {
      "text/html": [
       "8422"
      ],
      "text/latex": [
       "8422"
      ],
      "text/markdown": [
       "8422"
      ],
      "text/plain": [
       "[1] 8422"
      ]
     },
     "metadata": {},
     "output_type": "display_data"
    }
   ],
   "source": [
    "#这样更快\n",
    "ans <- flights[origin == \"JFK\" & month == 6L, .N]\n",
    "ans"
   ]
  },
  {
   "cell_type": "markdown",
   "metadata": {},
   "source": []
  }
 ],
 "metadata": {
  "kernelspec": {
   "display_name": "R",
   "language": "R",
   "name": "ir"
  },
  "language_info": {
   "codemirror_mode": "r",
   "file_extension": ".r",
   "mimetype": "text/x-r-source",
   "name": "R",
   "pygments_lexer": "r",
   "version": "3.3.1"
  }
 },
 "nbformat": 4,
 "nbformat_minor": 0
}

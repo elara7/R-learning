{
 "cells": [
  {
   "cell_type": "code",
   "execution_count": 1,
   "metadata": {
    "collapsed": true
   },
   "outputs": [],
   "source": [
    "library(data.table)"
   ]
  },
  {
   "cell_type": "code",
   "execution_count": 12,
   "metadata": {
    "collapsed": true
   },
   "outputs": [],
   "source": [
    "flights <- fread(\"flights14.csv\")"
   ]
  },
  {
   "cell_type": "markdown",
   "metadata": {},
   "source": [
    "## 主键\n",
    "目的是取代不方便的行名属性\n",
    "\n",
    "### 设置 获取和使用"
   ]
  },
  {
   "cell_type": "code",
   "execution_count": 11,
   "metadata": {
    "collapsed": false
   },
   "outputs": [
    {
     "data": {
      "text/html": [
       "<table>\n",
       "<thead><tr><th></th><th scope=col>year</th><th scope=col>month</th><th scope=col>day</th><th scope=col>dep_time</th><th scope=col>dep_delay</th><th scope=col>arr_time</th><th scope=col>arr_delay</th><th scope=col>cancelled</th><th scope=col>carrier</th><th scope=col>tailnum</th><th scope=col>flight</th><th scope=col>origin</th><th scope=col>dest</th><th scope=col>air_time</th><th scope=col>distance</th><th scope=col>hour</th><th scope=col>min</th></tr></thead>\n",
       "<tbody>\n",
       "\t<tr><th scope=row>1</th><td>2014  </td><td>1     </td><td>1     </td><td>1824  </td><td>4     </td><td>2145  </td><td>0     </td><td>0     </td><td>AA    </td><td>N3DEAA</td><td>119   </td><td>EWR   </td><td>LAX   </td><td>339   </td><td>2454  </td><td>18    </td><td>24    </td></tr>\n",
       "\t<tr><th scope=row>2</th><td>2014  </td><td>1     </td><td>1     </td><td>1655  </td><td>-5    </td><td>2003  </td><td>-17   </td><td>0     </td><td>AA    </td><td>N5CFAA</td><td>172   </td><td>EWR   </td><td>MIA   </td><td>161   </td><td>1085  </td><td>16    </td><td>55    </td></tr>\n",
       "\t<tr><th scope=row>3</th><td>2014  </td><td>1     </td><td>1     </td><td>1611  </td><td>191   </td><td>1910  </td><td>185   </td><td>0     </td><td>AA    </td><td>N471AA</td><td>300   </td><td>EWR   </td><td>DFW   </td><td>214   </td><td>1372  </td><td>16    </td><td>11    </td></tr>\n",
       "\t<tr><th scope=row>4</th><td>2014  </td><td>1     </td><td>1     </td><td>1449  </td><td>-1    </td><td>1753  </td><td>-2    </td><td>0     </td><td>AA    </td><td>N4WNAA</td><td>320   </td><td>EWR   </td><td>DFW   </td><td>214   </td><td>1372  </td><td>14    </td><td>49    </td></tr>\n",
       "\t<tr><th scope=row>5</th><td>2014  </td><td>1     </td><td>1     </td><td>607   </td><td>-3    </td><td>905   </td><td>-10   </td><td>0     </td><td>AA    </td><td>N5DMAA</td><td>1205  </td><td>EWR   </td><td>MIA   </td><td>154   </td><td>1085  </td><td>6     </td><td>7     </td></tr>\n",
       "\t<tr><th scope=row>6</th><td>2014  </td><td>1     </td><td>1     </td><td>949   </td><td>4     </td><td>1243  </td><td>-17   </td><td>0     </td><td>AA    </td><td>N491AA</td><td>1223  </td><td>EWR   </td><td>DFW   </td><td>215   </td><td>1372  </td><td>9     </td><td>49    </td></tr>\n",
       "</tbody>\n",
       "</table>\n"
      ],
      "text/latex": [
       "\\begin{tabular}{r|lllllllllllllllll}\n",
       "  & year & month & day & dep\\_time & dep\\_delay & arr\\_time & arr\\_delay & cancelled & carrier & tailnum & flight & origin & dest & air\\_time & distance & hour & min\\\\\n",
       "\\hline\n",
       "\t1 & 2014   & 1      & 1      & 1824   & 4      & 2145   & 0      & 0      & AA     & N3DEAA & 119    & EWR    & LAX    & 339    & 2454   & 18     & 24    \\\\\n",
       "\t2 & 2014   & 1      & 1      & 1655   & -5     & 2003   & -17    & 0      & AA     & N5CFAA & 172    & EWR    & MIA    & 161    & 1085   & 16     & 55    \\\\\n",
       "\t3 & 2014   & 1      & 1      & 1611   & 191    & 1910   & 185    & 0      & AA     & N471AA & 300    & EWR    & DFW    & 214    & 1372   & 16     & 11    \\\\\n",
       "\t4 & 2014   & 1      & 1      & 1449   & -1     & 1753   & -2     & 0      & AA     & N4WNAA & 320    & EWR    & DFW    & 214    & 1372   & 14     & 49    \\\\\n",
       "\t5 & 2014   & 1      & 1      & 607    & -3     & 905    & -10    & 0      & AA     & N5DMAA & 1205   & EWR    & MIA    & 154    & 1085   & 6      & 7     \\\\\n",
       "\t6 & 2014   & 1      & 1      & 949    & 4      & 1243   & -17    & 0      & AA     & N491AA & 1223   & EWR    & DFW    & 215    & 1372   & 9      & 49    \\\\\n",
       "\\end{tabular}\n"
      ],
      "text/plain": [
       "  year month day dep_time dep_delay arr_time arr_delay cancelled carrier\n",
       "1 2014     1   1     1824         4     2145         0         0      AA\n",
       "2 2014     1   1     1655        -5     2003       -17         0      AA\n",
       "3 2014     1   1     1611       191     1910       185         0      AA\n",
       "4 2014     1   1     1449        -1     1753        -2         0      AA\n",
       "5 2014     1   1      607        -3      905       -10         0      AA\n",
       "6 2014     1   1      949         4     1243       -17         0      AA\n",
       "  tailnum flight origin dest air_time distance hour min\n",
       "1  N3DEAA    119    EWR  LAX      339     2454   18  24\n",
       "2  N5CFAA    172    EWR  MIA      161     1085   16  55\n",
       "3  N471AA    300    EWR  DFW      214     1372   16  11\n",
       "4  N4WNAA    320    EWR  DFW      214     1372   14  49\n",
       "5  N5DMAA   1205    EWR  MIA      154     1085    6   7\n",
       "6  N491AA   1223    EWR  DFW      215     1372    9  49"
      ]
     },
     "metadata": {},
     "output_type": "display_data"
    }
   ],
   "source": [
    "#将 origin列设置为主键\n",
    "setkey(flights, origin)\n",
    "head(flights)\n",
    "# setkeyv(flights, \"origin\")这个函数可以传入字符串作为列名\n",
    "# 设置列后，默认对这个列升序排列\n",
    "# 最多只能有一个主键,但是一个主键内可以有多个列名，或者说不同列可以有相同的主键\n",
    "# 可以在创建data.table的时候就data.table(...,key= )"
   ]
  },
  {
   "cell_type": "code",
   "execution_count": 12,
   "metadata": {
    "collapsed": false
   },
   "outputs": [
    {
     "data": {
      "text/html": [
       "<table>\n",
       "<thead><tr><th></th><th scope=col>year</th><th scope=col>month</th><th scope=col>day</th><th scope=col>dep_time</th><th scope=col>dep_delay</th><th scope=col>arr_time</th><th scope=col>arr_delay</th><th scope=col>cancelled</th><th scope=col>carrier</th><th scope=col>tailnum</th><th scope=col>flight</th><th scope=col>origin</th><th scope=col>dest</th><th scope=col>air_time</th><th scope=col>distance</th><th scope=col>hour</th><th scope=col>min</th></tr></thead>\n",
       "<tbody>\n",
       "\t<tr><th scope=row>1</th><td>2014  </td><td>1     </td><td>1     </td><td>914   </td><td>14    </td><td>1238  </td><td>13    </td><td>0     </td><td>AA    </td><td>N338AA</td><td>1     </td><td>JFK   </td><td>LAX   </td><td>359   </td><td>2475  </td><td>9     </td><td>14    </td></tr>\n",
       "\t<tr><th scope=row>2</th><td>2014  </td><td>1     </td><td>1     </td><td>1157  </td><td>-3    </td><td>1523  </td><td>13    </td><td>0     </td><td>AA    </td><td>N335AA</td><td>3     </td><td>JFK   </td><td>LAX   </td><td>363   </td><td>2475  </td><td>11    </td><td>57    </td></tr>\n",
       "\t<tr><th scope=row>3</th><td>2014  </td><td>1     </td><td>1     </td><td>1902  </td><td>2     </td><td>2224  </td><td>9     </td><td>0     </td><td>AA    </td><td>N327AA</td><td>21    </td><td>JFK   </td><td>LAX   </td><td>351   </td><td>2475  </td><td>19    </td><td>2     </td></tr>\n",
       "\t<tr><th scope=row>4</th><td>2014  </td><td>1     </td><td>1     </td><td>1347  </td><td>2     </td><td>1706  </td><td>1     </td><td>0     </td><td>AA    </td><td>N319AA</td><td>117   </td><td>JFK   </td><td>LAX   </td><td>350   </td><td>2475  </td><td>13    </td><td>47    </td></tr>\n",
       "\t<tr><th scope=row>5</th><td>2014  </td><td>1     </td><td>1     </td><td>2133  </td><td>-2    </td><td>37    </td><td>-18   </td><td>0     </td><td>AA    </td><td>N323AA</td><td>185   </td><td>JFK   </td><td>LAX   </td><td>338   </td><td>2475  </td><td>21    </td><td>33    </td></tr>\n",
       "\t<tr><th scope=row>6</th><td>2014  </td><td>1     </td><td>1     </td><td>1542  </td><td>-3    </td><td>1906  </td><td>-14   </td><td>0     </td><td>AA    </td><td>N328AA</td><td>133   </td><td>JFK   </td><td>LAX   </td><td>356   </td><td>2475  </td><td>15    </td><td>42    </td></tr>\n",
       "</tbody>\n",
       "</table>\n"
      ],
      "text/latex": [
       "\\begin{tabular}{r|lllllllllllllllll}\n",
       "  & year & month & day & dep\\_time & dep\\_delay & arr\\_time & arr\\_delay & cancelled & carrier & tailnum & flight & origin & dest & air\\_time & distance & hour & min\\\\\n",
       "\\hline\n",
       "\t1 & 2014   & 1      & 1      & 914    & 14     & 1238   & 13     & 0      & AA     & N338AA & 1      & JFK    & LAX    & 359    & 2475   & 9      & 14    \\\\\n",
       "\t2 & 2014   & 1      & 1      & 1157   & -3     & 1523   & 13     & 0      & AA     & N335AA & 3      & JFK    & LAX    & 363    & 2475   & 11     & 57    \\\\\n",
       "\t3 & 2014   & 1      & 1      & 1902   & 2      & 2224   & 9      & 0      & AA     & N327AA & 21     & JFK    & LAX    & 351    & 2475   & 19     & 2     \\\\\n",
       "\t4 & 2014   & 1      & 1      & 1347   & 2      & 1706   & 1      & 0      & AA     & N319AA & 117    & JFK    & LAX    & 350    & 2475   & 13     & 47    \\\\\n",
       "\t5 & 2014   & 1      & 1      & 2133   & -2     & 37     & -18    & 0      & AA     & N323AA & 185    & JFK    & LAX    & 338    & 2475   & 21     & 33    \\\\\n",
       "\t6 & 2014   & 1      & 1      & 1542   & -3     & 1906   & -14    & 0      & AA     & N328AA & 133    & JFK    & LAX    & 356    & 2475   & 15     & 42    \\\\\n",
       "\\end{tabular}\n"
      ],
      "text/plain": [
       "  year month day dep_time dep_delay arr_time arr_delay cancelled carrier\n",
       "1 2014     1   1      914        14     1238        13         0      AA\n",
       "2 2014     1   1     1157        -3     1523        13         0      AA\n",
       "3 2014     1   1     1902         2     2224         9         0      AA\n",
       "4 2014     1   1     1347         2     1706         1         0      AA\n",
       "5 2014     1   1     2133        -2       37       -18         0      AA\n",
       "6 2014     1   1     1542        -3     1906       -14         0      AA\n",
       "  tailnum flight origin dest air_time distance hour min\n",
       "1  N338AA      1    JFK  LAX      359     2475    9  14\n",
       "2  N335AA      3    JFK  LAX      363     2475   11  57\n",
       "3  N327AA     21    JFK  LAX      351     2475   19   2\n",
       "4  N319AA    117    JFK  LAX      350     2475   13  47\n",
       "5  N323AA    185    JFK  LAX      338     2475   21  33\n",
       "6  N328AA    133    JFK  LAX      356     2475   15  42"
      ]
     },
     "metadata": {},
     "output_type": "display_data"
    }
   ],
   "source": [
    "# 设置主键后就可以直接[.(\"xxx\")]来subset主键列满足xxx的行\n",
    "head(flights[.(\"JFK\")])\n",
    "# 这里主键的内容是str，可以省略.()，用flights[\"JFK\"]\n",
    "# 可以根据需要subset多个值 flights[c(\"JFK\", \"LGA\")]"
   ]
  },
  {
   "cell_type": "code",
   "execution_count": 13,
   "metadata": {
    "collapsed": false
   },
   "outputs": [
    {
     "data": {
      "text/html": [
       "\"origin\""
      ],
      "text/latex": [
       "\"origin\""
      ],
      "text/markdown": [
       "\"origin\""
      ],
      "text/plain": [
       "[1] \"origin\""
      ]
     },
     "metadata": {},
     "output_type": "display_data"
    }
   ],
   "source": [
    "# 查询当前主键\n",
    "key(flights)"
   ]
  },
  {
   "cell_type": "markdown",
   "metadata": {},
   "source": [
    "### 主键和多个列"
   ]
  },
  {
   "cell_type": "code",
   "execution_count": 13,
   "metadata": {
    "collapsed": true
   },
   "outputs": [],
   "source": [
    "#将 origin列 和 dest列 都设置为主键\n",
    "# 会先按origin再按dest排序\n",
    "setkey(flights ,origin, dest)"
   ]
  },
  {
   "cell_type": "code",
   "execution_count": 14,
   "metadata": {
    "collapsed": false
   },
   "outputs": [
    {
     "data": {
      "text/html": [
       "<ol class=list-inline>\n",
       "\t<li>\"origin\"</li>\n",
       "\t<li>\"dest\"</li>\n",
       "</ol>\n"
      ],
      "text/latex": [
       "\\begin{enumerate*}\n",
       "\\item \"origin\"\n",
       "\\item \"dest\"\n",
       "\\end{enumerate*}\n"
      ],
      "text/markdown": [
       "1. \"origin\"\n",
       "2. \"dest\"\n",
       "\n",
       "\n"
      ],
      "text/plain": [
       "[1] \"origin\" \"dest\"  "
      ]
     },
     "metadata": {},
     "output_type": "display_data"
    }
   ],
   "source": [
    "key(flights)"
   ]
  },
  {
   "cell_type": "code",
   "execution_count": 11,
   "metadata": {
    "collapsed": false
   },
   "outputs": [
    {
     "data": {
      "text/html": [
       "<table>\n",
       "<thead><tr><th></th><th scope=col>year</th><th scope=col>month</th><th scope=col>day</th><th scope=col>dep_time</th><th scope=col>dep_delay</th><th scope=col>arr_time</th><th scope=col>arr_delay</th><th scope=col>cancelled</th><th scope=col>carrier</th><th scope=col>tailnum</th><th scope=col>flight</th><th scope=col>origin</th><th scope=col>dest</th><th scope=col>air_time</th><th scope=col>distance</th><th scope=col>hour</th><th scope=col>min</th></tr></thead>\n",
       "<tbody>\n",
       "\t<tr><th scope=row>1</th><td>2014  </td><td>1     </td><td>1     </td><td>1509  </td><td>-1    </td><td>1828  </td><td>-17   </td><td>0     </td><td>AA    </td><td>N5FJAA</td><td>145   </td><td>JFK   </td><td>MIA   </td><td>161   </td><td>1089  </td><td>15    </td><td>9     </td></tr>\n",
       "\t<tr><th scope=row>2</th><td>2014  </td><td>1     </td><td>1     </td><td>917   </td><td>7     </td><td>1227  </td><td>-8    </td><td>0     </td><td>AA    </td><td>N5DWAA</td><td>1085  </td><td>JFK   </td><td>MIA   </td><td>166   </td><td>1089  </td><td>9     </td><td>17    </td></tr>\n",
       "\t<tr><th scope=row>3</th><td>2014  </td><td>1     </td><td>1     </td><td>1227  </td><td>2     </td><td>1534  </td><td>-1    </td><td>0     </td><td>AA    </td><td>N635AA</td><td>1697  </td><td>JFK   </td><td>MIA   </td><td>164   </td><td>1089  </td><td>12    </td><td>27    </td></tr>\n",
       "\t<tr><th scope=row>4</th><td>2014  </td><td>1     </td><td>1     </td><td>546   </td><td>6     </td><td>853   </td><td>3     </td><td>0     </td><td>AA    </td><td>N5CGAA</td><td>2243  </td><td>JFK   </td><td>MIA   </td><td>157   </td><td>1089  </td><td>5     </td><td>46    </td></tr>\n",
       "\t<tr><th scope=row>5</th><td>2014  </td><td>1     </td><td>1     </td><td>1736  </td><td>6     </td><td>2043  </td><td>-12   </td><td>0     </td><td>AA    </td><td>N397AA</td><td>2351  </td><td>JFK   </td><td>MIA   </td><td>154   </td><td>1089  </td><td>17    </td><td>36    </td></tr>\n",
       "\t<tr><th scope=row>6</th><td>2014  </td><td>1     </td><td>1     </td><td>1641  </td><td>16    </td><td>1938  </td><td>-7    </td><td>0     </td><td>DL    </td><td>N316US</td><td>428   </td><td>JFK   </td><td>MIA   </td><td>156   </td><td>1089  </td><td>16    </td><td>41    </td></tr>\n",
       "</tbody>\n",
       "</table>\n"
      ],
      "text/latex": [
       "\\begin{tabular}{r|lllllllllllllllll}\n",
       "  & year & month & day & dep\\_time & dep\\_delay & arr\\_time & arr\\_delay & cancelled & carrier & tailnum & flight & origin & dest & air\\_time & distance & hour & min\\\\\n",
       "\\hline\n",
       "\t1 & 2014   & 1      & 1      & 1509   & -1     & 1828   & -17    & 0      & AA     & N5FJAA & 145    & JFK    & MIA    & 161    & 1089   & 15     & 9     \\\\\n",
       "\t2 & 2014   & 1      & 1      & 917    & 7      & 1227   & -8     & 0      & AA     & N5DWAA & 1085   & JFK    & MIA    & 166    & 1089   & 9      & 17    \\\\\n",
       "\t3 & 2014   & 1      & 1      & 1227   & 2      & 1534   & -1     & 0      & AA     & N635AA & 1697   & JFK    & MIA    & 164    & 1089   & 12     & 27    \\\\\n",
       "\t4 & 2014   & 1      & 1      & 546    & 6      & 853    & 3      & 0      & AA     & N5CGAA & 2243   & JFK    & MIA    & 157    & 1089   & 5      & 46    \\\\\n",
       "\t5 & 2014   & 1      & 1      & 1736   & 6      & 2043   & -12    & 0      & AA     & N397AA & 2351   & JFK    & MIA    & 154    & 1089   & 17     & 36    \\\\\n",
       "\t6 & 2014   & 1      & 1      & 1641   & 16     & 1938   & -7     & 0      & DL     & N316US & 428    & JFK    & MIA    & 156    & 1089   & 16     & 41    \\\\\n",
       "\\end{tabular}\n"
      ],
      "text/plain": [
       "  year month day dep_time dep_delay arr_time arr_delay cancelled carrier\n",
       "1 2014     1   1     1509        -1     1828       -17         0      AA\n",
       "2 2014     1   1      917         7     1227        -8         0      AA\n",
       "3 2014     1   1     1227         2     1534        -1         0      AA\n",
       "4 2014     1   1      546         6      853         3         0      AA\n",
       "5 2014     1   1     1736         6     2043       -12         0      AA\n",
       "6 2014     1   1     1641        16     1938        -7         0      DL\n",
       "  tailnum flight origin dest air_time distance hour min\n",
       "1  N5FJAA    145    JFK  MIA      161     1089   15   9\n",
       "2  N5DWAA   1085    JFK  MIA      166     1089    9  17\n",
       "3  N635AA   1697    JFK  MIA      164     1089   12  27\n",
       "4  N5CGAA   2243    JFK  MIA      157     1089    5  46\n",
       "5  N397AA   2351    JFK  MIA      154     1089   17  36\n",
       "6  N316US    428    JFK  MIA      156     1089   16  41"
      ]
     },
     "metadata": {},
     "output_type": "display_data"
    }
   ],
   "source": [
    "#subset所有满足条件 origin是”JFK”、dest是”MIA”的行\n",
    "head(flights[.(\"JFK\", \"MIA\")])"
   ]
  },
  {
   "cell_type": "code",
   "execution_count": 12,
   "metadata": {
    "collapsed": false
   },
   "outputs": [
    {
     "data": {
      "text/html": [
       "<table>\n",
       "<thead><tr><th></th><th scope=col>year</th><th scope=col>month</th><th scope=col>day</th><th scope=col>dep_time</th><th scope=col>dep_delay</th><th scope=col>arr_time</th><th scope=col>arr_delay</th><th scope=col>cancelled</th><th scope=col>carrier</th><th scope=col>tailnum</th><th scope=col>flight</th><th scope=col>origin</th><th scope=col>dest</th><th scope=col>air_time</th><th scope=col>distance</th><th scope=col>hour</th><th scope=col>min</th></tr></thead>\n",
       "<tbody>\n",
       "\t<tr><th scope=row>1</th><td>2014  </td><td>1     </td><td>1     </td><td>1655  </td><td>-5    </td><td>2003  </td><td>-17   </td><td>0     </td><td>AA    </td><td>N5CFAA</td><td>172   </td><td>EWR   </td><td>MIA   </td><td>161   </td><td>1085  </td><td>16    </td><td>55    </td></tr>\n",
       "\t<tr><th scope=row>2</th><td>2014  </td><td>1     </td><td>1     </td><td>607   </td><td>-3    </td><td>905   </td><td>-10   </td><td>0     </td><td>AA    </td><td>N5DMAA</td><td>1205  </td><td>EWR   </td><td>MIA   </td><td>154   </td><td>1085  </td><td>6     </td><td>7     </td></tr>\n",
       "\t<tr><th scope=row>3</th><td>2014  </td><td>1     </td><td>1     </td><td>1125  </td><td>-5    </td><td>1427  </td><td>-8    </td><td>0     </td><td>AA    </td><td>N3AGAA</td><td>1623  </td><td>EWR   </td><td>MIA   </td><td>157   </td><td>1085  </td><td>11    </td><td>25    </td></tr>\n",
       "\t<tr><th scope=row>4</th><td>2014  </td><td>1     </td><td>1     </td><td>1533  </td><td>43    </td><td>1840  </td><td>42    </td><td>0     </td><td>UA    </td><td>N491UA</td><td>244   </td><td>EWR   </td><td>MIA   </td><td>155   </td><td>1085  </td><td>15    </td><td>33    </td></tr>\n",
       "\t<tr><th scope=row>5</th><td>2014  </td><td>1     </td><td>1     </td><td>2130  </td><td>60    </td><td>29    </td><td>49    </td><td>0     </td><td>UA    </td><td>N476UA</td><td>308   </td><td>EWR   </td><td>MIA   </td><td>162   </td><td>1085  </td><td>21    </td><td>30    </td></tr>\n",
       "\t<tr><th scope=row>6</th><td>2014  </td><td>1     </td><td>1     </td><td>849   </td><td>5     </td><td>1141  </td><td>-22   </td><td>0     </td><td>UA    </td><td>N401UA</td><td>446   </td><td>EWR   </td><td>MIA   </td><td>154   </td><td>1085  </td><td>8     </td><td>49    </td></tr>\n",
       "</tbody>\n",
       "</table>\n"
      ],
      "text/latex": [
       "\\begin{tabular}{r|lllllllllllllllll}\n",
       "  & year & month & day & dep\\_time & dep\\_delay & arr\\_time & arr\\_delay & cancelled & carrier & tailnum & flight & origin & dest & air\\_time & distance & hour & min\\\\\n",
       "\\hline\n",
       "\t1 & 2014   & 1      & 1      & 1655   & -5     & 2003   & -17    & 0      & AA     & N5CFAA & 172    & EWR    & MIA    & 161    & 1085   & 16     & 55    \\\\\n",
       "\t2 & 2014   & 1      & 1      & 607    & -3     & 905    & -10    & 0      & AA     & N5DMAA & 1205   & EWR    & MIA    & 154    & 1085   & 6      & 7     \\\\\n",
       "\t3 & 2014   & 1      & 1      & 1125   & -5     & 1427   & -8     & 0      & AA     & N3AGAA & 1623   & EWR    & MIA    & 157    & 1085   & 11     & 25    \\\\\n",
       "\t4 & 2014   & 1      & 1      & 1533   & 43     & 1840   & 42     & 0      & UA     & N491UA & 244    & EWR    & MIA    & 155    & 1085   & 15     & 33    \\\\\n",
       "\t5 & 2014   & 1      & 1      & 2130   & 60     & 29     & 49     & 0      & UA     & N476UA & 308    & EWR    & MIA    & 162    & 1085   & 21     & 30    \\\\\n",
       "\t6 & 2014   & 1      & 1      & 849    & 5      & 1141   & -22    & 0      & UA     & N401UA & 446    & EWR    & MIA    & 154    & 1085   & 8      & 49    \\\\\n",
       "\\end{tabular}\n"
      ],
      "text/plain": [
       "  year month day dep_time dep_delay arr_time arr_delay cancelled carrier\n",
       "1 2014     1   1     1655        -5     2003       -17         0      AA\n",
       "2 2014     1   1      607        -3      905       -10         0      AA\n",
       "3 2014     1   1     1125        -5     1427        -8         0      AA\n",
       "4 2014     1   1     1533        43     1840        42         0      UA\n",
       "5 2014     1   1     2130        60       29        49         0      UA\n",
       "6 2014     1   1      849         5     1141       -22         0      UA\n",
       "  tailnum flight origin dest air_time distance hour min\n",
       "1  N5CFAA    172    EWR  MIA      161     1085   16  55\n",
       "2  N5DMAA   1205    EWR  MIA      154     1085    6   7\n",
       "3  N3AGAA   1623    EWR  MIA      157     1085   11  25\n",
       "4  N491UA    244    EWR  MIA      155     1085   15  33\n",
       "5  N476UA    308    EWR  MIA      162     1085   21  30\n",
       "6  N401UA    446    EWR  MIA      154     1085    8  49"
      ]
     },
     "metadata": {},
     "output_type": "display_data"
    }
   ],
   "source": [
    "#subset所有仅仅满足条件dest是”MIA”的行\n",
    "head(flights[.(unique(origin), \"MIA\")])\n",
    "# 主键要全都写入，不需要限定条件的用unique()，即所有值都获取"
   ]
  },
  {
   "cell_type": "code",
   "execution_count": 13,
   "metadata": {
    "collapsed": false
   },
   "outputs": [
    {
     "data": {
      "text/html": [
       "<table>\n",
       "<thead><tr><th></th><th scope=col>year</th><th scope=col>month</th><th scope=col>day</th><th scope=col>dep_time</th><th scope=col>dep_delay</th><th scope=col>arr_time</th><th scope=col>arr_delay</th><th scope=col>cancelled</th><th scope=col>carrier</th><th scope=col>tailnum</th><th scope=col>flight</th><th scope=col>origin</th><th scope=col>dest</th><th scope=col>air_time</th><th scope=col>distance</th><th scope=col>hour</th><th scope=col>min</th></tr></thead>\n",
       "<tbody>\n",
       "\t<tr><th scope=row>1</th><td>NA </td><td>NA </td><td>NA </td><td>NA </td><td>NA </td><td>NA </td><td>NA </td><td>NA </td><td>NA </td><td>NA </td><td>NA </td><td>MIA</td><td>NA </td><td>NA </td><td>NA </td><td>NA </td><td>NA </td></tr>\n",
       "</tbody>\n",
       "</table>\n"
      ],
      "text/latex": [
       "\\begin{tabular}{r|lllllllllllllllll}\n",
       "  & year & month & day & dep\\_time & dep\\_delay & arr\\_time & arr\\_delay & cancelled & carrier & tailnum & flight & origin & dest & air\\_time & distance & hour & min\\\\\n",
       "\\hline\n",
       "\t1 & NA  & NA  & NA  & NA  & NA  & NA  & NA  & NA  & NA  & NA  & NA  & MIA & NA  & NA  & NA  & NA  & NA \\\\\n",
       "\\end{tabular}\n"
      ],
      "text/plain": [
       "  year month day dep_time dep_delay arr_time arr_delay cancelled carrier\n",
       "1   NA    NA  NA       NA        NA       NA        NA        NA    <NA>\n",
       "  tailnum flight origin dest air_time distance hour min\n",
       "1    <NA>     NA    MIA <NA>       NA       NA   NA  NA"
      ]
     },
     "metadata": {},
     "output_type": "display_data"
    }
   ],
   "source": [
    "head(flights[\"MIA\"])## 不能跳过第一个主键列名"
   ]
  },
  {
   "cell_type": "code",
   "execution_count": 14,
   "metadata": {
    "collapsed": false
   },
   "outputs": [
    {
     "data": {
      "text/html": [
       "<table>\n",
       "<thead><tr><th></th><th scope=col>year</th><th scope=col>month</th><th scope=col>day</th><th scope=col>dep_time</th><th scope=col>dep_delay</th><th scope=col>arr_time</th><th scope=col>arr_delay</th><th scope=col>cancelled</th><th scope=col>carrier</th><th scope=col>tailnum</th><th scope=col>flight</th><th scope=col>origin</th><th scope=col>dest</th><th scope=col>air_time</th><th scope=col>distance</th><th scope=col>hour</th><th scope=col>min</th></tr></thead>\n",
       "<tbody>\n",
       "\t<tr><th scope=row>1</th><td>2014  </td><td>1     </td><td>1     </td><td>2011  </td><td>10    </td><td>2308  </td><td>4     </td><td>0     </td><td>B6    </td><td>N766JB</td><td>65    </td><td>JFK   </td><td>ABQ   </td><td>280   </td><td>1826  </td><td>20    </td><td>11    </td></tr>\n",
       "\t<tr><th scope=row>2</th><td>2014  </td><td>1     </td><td>2     </td><td>2215  </td><td>134   </td><td>145   </td><td>161   </td><td>0     </td><td>B6    </td><td>N507JB</td><td>65    </td><td>JFK   </td><td>ABQ   </td><td>252   </td><td>1826  </td><td>22    </td><td>15    </td></tr>\n",
       "\t<tr><th scope=row>3</th><td>2014  </td><td>1     </td><td>7     </td><td>2006  </td><td>6     </td><td>2314  </td><td>6     </td><td>0     </td><td>B6    </td><td>N652JB</td><td>65    </td><td>JFK   </td><td>ABQ   </td><td>269   </td><td>1826  </td><td>20    </td><td>6     </td></tr>\n",
       "\t<tr><th scope=row>4</th><td>2014  </td><td>1     </td><td>8     </td><td>2009  </td><td>15    </td><td>2252  </td><td>-15   </td><td>0     </td><td>B6    </td><td>N613JB</td><td>65    </td><td>JFK   </td><td>ABQ   </td><td>259   </td><td>1826  </td><td>20    </td><td>9     </td></tr>\n",
       "\t<tr><th scope=row>5</th><td>2014  </td><td>1     </td><td>9     </td><td>2039  </td><td>45    </td><td>2339  </td><td>32    </td><td>0     </td><td>B6    </td><td>N598JB</td><td>65    </td><td>JFK   </td><td>ABQ   </td><td>267   </td><td>1826  </td><td>20    </td><td>39    </td></tr>\n",
       "\t<tr><th scope=row>6</th><td>2014  </td><td>1     </td><td>10    </td><td>2029  </td><td>35    </td><td>2326  </td><td>19    </td><td>0     </td><td>B6    </td><td>N519JB</td><td>65    </td><td>JFK   </td><td>ABQ   </td><td>269   </td><td>1826  </td><td>20    </td><td>29    </td></tr>\n",
       "</tbody>\n",
       "</table>\n"
      ],
      "text/latex": [
       "\\begin{tabular}{r|lllllllllllllllll}\n",
       "  & year & month & day & dep\\_time & dep\\_delay & arr\\_time & arr\\_delay & cancelled & carrier & tailnum & flight & origin & dest & air\\_time & distance & hour & min\\\\\n",
       "\\hline\n",
       "\t1 & 2014   & 1      & 1      & 2011   & 10     & 2308   & 4      & 0      & B6     & N766JB & 65     & JFK    & ABQ    & 280    & 1826   & 20     & 11    \\\\\n",
       "\t2 & 2014   & 1      & 2      & 2215   & 134    & 145    & 161    & 0      & B6     & N507JB & 65     & JFK    & ABQ    & 252    & 1826   & 22     & 15    \\\\\n",
       "\t3 & 2014   & 1      & 7      & 2006   & 6      & 2314   & 6      & 0      & B6     & N652JB & 65     & JFK    & ABQ    & 269    & 1826   & 20     & 6     \\\\\n",
       "\t4 & 2014   & 1      & 8      & 2009   & 15     & 2252   & -15    & 0      & B6     & N613JB & 65     & JFK    & ABQ    & 259    & 1826   & 20     & 9     \\\\\n",
       "\t5 & 2014   & 1      & 9      & 2039   & 45     & 2339   & 32     & 0      & B6     & N598JB & 65     & JFK    & ABQ    & 267    & 1826   & 20     & 39    \\\\\n",
       "\t6 & 2014   & 1      & 10     & 2029   & 35     & 2326   & 19     & 0      & B6     & N519JB & 65     & JFK    & ABQ    & 269    & 1826   & 20     & 29    \\\\\n",
       "\\end{tabular}\n"
      ],
      "text/plain": [
       "  year month day dep_time dep_delay arr_time arr_delay cancelled carrier\n",
       "1 2014     1   1     2011        10     2308         4         0      B6\n",
       "2 2014     1   2     2215       134      145       161         0      B6\n",
       "3 2014     1   7     2006         6     2314         6         0      B6\n",
       "4 2014     1   8     2009        15     2252       -15         0      B6\n",
       "5 2014     1   9     2039        45     2339        32         0      B6\n",
       "6 2014     1  10     2029        35     2326        19         0      B6\n",
       "  tailnum flight origin dest air_time distance hour min\n",
       "1  N766JB     65    JFK  ABQ      280     1826   20  11\n",
       "2  N507JB     65    JFK  ABQ      252     1826   22  15\n",
       "3  N652JB     65    JFK  ABQ      269     1826   20   6\n",
       "4  N613JB     65    JFK  ABQ      259     1826   20   9\n",
       "5  N598JB     65    JFK  ABQ      267     1826   20  39\n",
       "6  N519JB     65    JFK  ABQ      269     1826   20  29"
      ]
     },
     "metadata": {},
     "output_type": "display_data"
    }
   ],
   "source": [
    "head(flights[\"JFK\"]) #但是可以跳过第二个"
   ]
  },
  {
   "cell_type": "markdown",
   "metadata": {},
   "source": [
    "## 主键与参数j， 参数by一起使用"
   ]
  },
  {
   "cell_type": "code",
   "execution_count": 18,
   "metadata": {
    "collapsed": false,
    "scrolled": true
   },
   "outputs": [
    {
     "data": {
      "text/html": [
       "<table>\n",
       "<thead><tr><th></th><th scope=col>arr_delay</th></tr></thead>\n",
       "<tbody>\n",
       "\t<tr><th scope=row>1</th><td>1</td></tr>\n",
       "\t<tr><th scope=row>2</th><td>14</td></tr>\n",
       "\t<tr><th scope=row>3</th><td>-17</td></tr>\n",
       "\t<tr><th scope=row>4</th><td>-4</td></tr>\n",
       "\t<tr><th scope=row>5</th><td>-12</td></tr>\n",
       "\t<tr><th scope=row>6</th><td>94</td></tr>\n",
       "</tbody>\n",
       "</table>\n"
      ],
      "text/latex": [
       "\\begin{tabular}{r|l}\n",
       "  & arr\\_delay\\\\\n",
       "\\hline\n",
       "\t1 & 1\\\\\n",
       "\t2 & 14\\\\\n",
       "\t3 & -17\\\\\n",
       "\t4 & -4\\\\\n",
       "\t5 & -12\\\\\n",
       "\t6 & 94\\\\\n",
       "\\end{tabular}\n"
      ],
      "text/plain": [
       "  arr_delay\n",
       "1         1\n",
       "2        14\n",
       "3       -17\n",
       "4        -4\n",
       "5       -12\n",
       "6        94"
      ]
     },
     "metadata": {},
     "output_type": "display_data"
    }
   ],
   "source": [
    "#返回符合 origin = “LGA” 和 dest = “TPA”这两个条件的 arr_delay列\n",
    "head(flights[.(\"LGA\", \"TPA\"), .(arr_delay)])\n",
    "#flights[.(\"LGA\", \"TPA\"), \"arr_delay\", with=FALSE] 也可以"
   ]
  },
  {
   "cell_type": "markdown",
   "metadata": {},
   "source": [
    "### Chaining表达式 "
   ]
  },
  {
   "cell_type": "code",
   "execution_count": 19,
   "metadata": {
    "collapsed": false
   },
   "outputs": [
    {
     "data": {
      "text/html": [
       "<table>\n",
       "<thead><tr><th></th><th scope=col>arr_delay</th></tr></thead>\n",
       "<tbody>\n",
       "\t<tr><th scope=row>1</th><td>486</td></tr>\n",
       "\t<tr><th scope=row>2</th><td>380</td></tr>\n",
       "\t<tr><th scope=row>3</th><td>351</td></tr>\n",
       "\t<tr><th scope=row>4</th><td>318</td></tr>\n",
       "\t<tr><th scope=row>5</th><td>300</td></tr>\n",
       "\t<tr><th scope=row>6</th><td>270</td></tr>\n",
       "</tbody>\n",
       "</table>\n"
      ],
      "text/latex": [
       "\\begin{tabular}{r|l}\n",
       "  & arr\\_delay\\\\\n",
       "\\hline\n",
       "\t1 & 486\\\\\n",
       "\t2 & 380\\\\\n",
       "\t3 & 351\\\\\n",
       "\t4 & 318\\\\\n",
       "\t5 & 300\\\\\n",
       "\t6 & 270\\\\\n",
       "\\end{tabular}\n"
      ],
      "text/plain": [
       "  arr_delay\n",
       "1       486\n",
       "2       380\n",
       "3       351\n",
       "4       318\n",
       "5       300\n",
       "6       270"
      ]
     },
     "metadata": {},
     "output_type": "display_data"
    }
   ],
   "source": [
    "#在上面的基础上，将结果用chaining表达式按降序排列\n",
    "head(flights[.(\"LGA\", \"TPA\"), .(arr_delay)][order(-arr_delay)])"
   ]
  },
  {
   "cell_type": "markdown",
   "metadata": {},
   "source": [
    "### 在参数j里运算"
   ]
  },
  {
   "cell_type": "code",
   "execution_count": 20,
   "metadata": {
    "collapsed": false
   },
   "outputs": [
    {
     "data": {
      "text/html": [
       "486"
      ],
      "text/latex": [
       "486"
      ],
      "text/markdown": [
       "486"
      ],
      "text/plain": [
       "[1] 486"
      ]
     },
     "metadata": {},
     "output_type": "display_data"
    }
   ],
   "source": [
    "#找出符合 origin = “LGA” 和 dest = “TPA”这两个条件的航班的最大到达延误时间\n",
    "flights[.(\"LGA\", \"TPA\"), max(arr_delay)]"
   ]
  },
  {
   "cell_type": "markdown",
   "metadata": {},
   "source": [
    "### 在参数j里使用操作符”:=“来sub-assign"
   ]
  },
  {
   "cell_type": "code",
   "execution_count": 6,
   "metadata": {
    "collapsed": false
   },
   "outputs": [
    {
     "data": {
      "text/html": [
       "\"hour\""
      ],
      "text/latex": [
       "\"hour\""
      ],
      "text/markdown": [
       "\"hour\""
      ],
      "text/plain": [
       "[1] \"hour\""
      ]
     },
     "metadata": {},
     "output_type": "display_data"
    }
   ],
   "source": [
    "#把24点全部替换成0点\n",
    "setkey(flights, hour)\n",
    "key(flights)"
   ]
  },
  {
   "cell_type": "code",
   "execution_count": 7,
   "metadata": {
    "collapsed": false
   },
   "outputs": [
    {
     "data": {
      "text/html": [
       "<table>\n",
       "<thead><tr><th></th><th scope=col>year</th><th scope=col>month</th><th scope=col>day</th><th scope=col>dep_time</th><th scope=col>dep_delay</th><th scope=col>arr_time</th><th scope=col>arr_delay</th><th scope=col>cancelled</th><th scope=col>carrier</th><th scope=col>tailnum</th><th scope=col>flight</th><th scope=col>origin</th><th scope=col>dest</th><th scope=col>air_time</th><th scope=col>distance</th><th scope=col>hour</th><th scope=col>min</th></tr></thead>\n",
       "<tbody>\n",
       "\t<tr><th scope=row>1</th><td>2014  </td><td>1     </td><td>1     </td><td>6     </td><td>7     </td><td>450   </td><td>13    </td><td>0     </td><td>B6    </td><td>N521JB</td><td>839   </td><td>JFK   </td><td>BQN   </td><td>198   </td><td>1576  </td><td>0     </td><td>6     </td></tr>\n",
       "\t<tr><th scope=row>2</th><td>2014  </td><td>1     </td><td>1     </td><td>15    </td><td>16    </td><td>453   </td><td>8     </td><td>0     </td><td>B6    </td><td>N580JB</td><td>745   </td><td>JFK   </td><td>PSE   </td><td>200   </td><td>1617  </td><td>0     </td><td>15    </td></tr>\n",
       "\t<tr><th scope=row>3</th><td>2014  </td><td>1     </td><td>1     </td><td>15    </td><td>110   </td><td>327   </td><td>116   </td><td>0     </td><td>B6    </td><td>N645JB</td><td>623   </td><td>JFK   </td><td>LAX   </td><td>349   </td><td>2475  </td><td>0     </td><td>15    </td></tr>\n",
       "\t<tr><th scope=row>4</th><td>2014  </td><td>1     </td><td>2     </td><td>5     </td><td>150   </td><td>339   </td><td>164   </td><td>0     </td><td>AA    </td><td>N335AA</td><td>185   </td><td>JFK   </td><td>LAX   </td><td>335   </td><td>2475  </td><td>0     </td><td>5     </td></tr>\n",
       "\t<tr><th scope=row>5</th><td>2014  </td><td>1     </td><td>2     </td><td>3     </td><td>197   </td><td>452   </td><td>294   </td><td>0     </td><td>B6    </td><td>N806JB</td><td>329   </td><td>JFK   </td><td>RSW   </td><td>196   </td><td>1074  </td><td>0     </td><td>3     </td></tr>\n",
       "\t<tr><th scope=row>6</th><td>2014  </td><td>1     </td><td>3     </td><td>18    </td><td>88    </td><td>125   </td><td>89    </td><td>0     </td><td>B6    </td><td>N306JB</td><td>1816  </td><td>JFK   </td><td>SYR   </td><td>46    </td><td>209   </td><td>0     </td><td>18    </td></tr>\n",
       "</tbody>\n",
       "</table>\n"
      ],
      "text/latex": [
       "\\begin{tabular}{r|lllllllllllllllll}\n",
       "  & year & month & day & dep\\_time & dep\\_delay & arr\\_time & arr\\_delay & cancelled & carrier & tailnum & flight & origin & dest & air\\_time & distance & hour & min\\\\\n",
       "\\hline\n",
       "\t1 & 2014   & 1      & 1      & 6      & 7      & 450    & 13     & 0      & B6     & N521JB & 839    & JFK    & BQN    & 198    & 1576   & 0      & 6     \\\\\n",
       "\t2 & 2014   & 1      & 1      & 15     & 16     & 453    & 8      & 0      & B6     & N580JB & 745    & JFK    & PSE    & 200    & 1617   & 0      & 15    \\\\\n",
       "\t3 & 2014   & 1      & 1      & 15     & 110    & 327    & 116    & 0      & B6     & N645JB & 623    & JFK    & LAX    & 349    & 2475   & 0      & 15    \\\\\n",
       "\t4 & 2014   & 1      & 2      & 5      & 150    & 339    & 164    & 0      & AA     & N335AA & 185    & JFK    & LAX    & 335    & 2475   & 0      & 5     \\\\\n",
       "\t5 & 2014   & 1      & 2      & 3      & 197    & 452    & 294    & 0      & B6     & N806JB & 329    & JFK    & RSW    & 196    & 1074   & 0      & 3     \\\\\n",
       "\t6 & 2014   & 1      & 3      & 18     & 88     & 125    & 89     & 0      & B6     & N306JB & 1816   & JFK    & SYR    & 46     & 209    & 0      & 18    \\\\\n",
       "\\end{tabular}\n"
      ],
      "text/plain": [
       "  year month day dep_time dep_delay arr_time arr_delay cancelled carrier\n",
       "1 2014     1   1        6         7      450        13         0      B6\n",
       "2 2014     1   1       15        16      453         8         0      B6\n",
       "3 2014     1   1       15       110      327       116         0      B6\n",
       "4 2014     1   2        5       150      339       164         0      AA\n",
       "5 2014     1   2        3       197      452       294         0      B6\n",
       "6 2014     1   3       18        88      125        89         0      B6\n",
       "  tailnum flight origin dest air_time distance hour min\n",
       "1  N521JB    839    JFK  BQN      198     1576    0   6\n",
       "2  N580JB    745    JFK  PSE      200     1617    0  15\n",
       "3  N645JB    623    JFK  LAX      349     2475    0  15\n",
       "4  N335AA    185    JFK  LAX      335     2475    0   5\n",
       "5  N806JB    329    JFK  RSW      196     1074    0   3\n",
       "6  N306JB   1816    JFK  SYR       46      209    0  18"
      ]
     },
     "metadata": {},
     "output_type": "display_data"
    }
   ],
   "source": [
    "head(flights[.(24), hour := 0L])"
   ]
  },
  {
   "cell_type": "code",
   "execution_count": 8,
   "metadata": {
    "collapsed": false
   },
   "outputs": [
    {
     "data": {
      "text/plain": [
       "NULL"
      ]
     },
     "metadata": {},
     "output_type": "display_data"
    }
   ],
   "source": [
    "key(flights) #修改了键值以后，主键被去除"
   ]
  },
  {
   "cell_type": "code",
   "execution_count": 9,
   "metadata": {
    "collapsed": false
   },
   "outputs": [
    {
     "data": {
      "text/html": [
       "<ol class=list-inline>\n",
       "\t<li>0</li>\n",
       "\t<li>1</li>\n",
       "\t<li>2</li>\n",
       "\t<li>3</li>\n",
       "\t<li>4</li>\n",
       "\t<li>5</li>\n",
       "\t<li>6</li>\n",
       "\t<li>7</li>\n",
       "\t<li>8</li>\n",
       "\t<li>9</li>\n",
       "\t<li>10</li>\n",
       "\t<li>11</li>\n",
       "\t<li>12</li>\n",
       "\t<li>13</li>\n",
       "\t<li>14</li>\n",
       "\t<li>15</li>\n",
       "\t<li>16</li>\n",
       "\t<li>17</li>\n",
       "\t<li>18</li>\n",
       "\t<li>19</li>\n",
       "\t<li>20</li>\n",
       "\t<li>21</li>\n",
       "\t<li>22</li>\n",
       "\t<li>23</li>\n",
       "</ol>\n"
      ],
      "text/latex": [
       "\\begin{enumerate*}\n",
       "\\item 0\n",
       "\\item 1\n",
       "\\item 2\n",
       "\\item 3\n",
       "\\item 4\n",
       "\\item 5\n",
       "\\item 6\n",
       "\\item 7\n",
       "\\item 8\n",
       "\\item 9\n",
       "\\item 10\n",
       "\\item 11\n",
       "\\item 12\n",
       "\\item 13\n",
       "\\item 14\n",
       "\\item 15\n",
       "\\item 16\n",
       "\\item 17\n",
       "\\item 18\n",
       "\\item 19\n",
       "\\item 20\n",
       "\\item 21\n",
       "\\item 22\n",
       "\\item 23\n",
       "\\end{enumerate*}\n"
      ],
      "text/markdown": [
       "1. 0\n",
       "2. 1\n",
       "3. 2\n",
       "4. 3\n",
       "5. 4\n",
       "6. 5\n",
       "7. 6\n",
       "8. 7\n",
       "9. 8\n",
       "10. 9\n",
       "11. 10\n",
       "12. 11\n",
       "13. 12\n",
       "14. 13\n",
       "15. 14\n",
       "16. 15\n",
       "17. 16\n",
       "18. 17\n",
       "19. 18\n",
       "20. 19\n",
       "21. 20\n",
       "22. 21\n",
       "23. 22\n",
       "24. 23\n",
       "\n",
       "\n"
      ],
      "text/plain": [
       " [1]  0  1  2  3  4  5  6  7  8  9 10 11 12 13 14 15 16 17 18 19 20 21 22 23"
      ]
     },
     "metadata": {},
     "output_type": "display_data"
    }
   ],
   "source": [
    "flights[, sort(unique(hour))]"
   ]
  },
  {
   "cell_type": "markdown",
   "metadata": {},
   "source": [
    "### 用参数by聚合"
   ]
  },
  {
   "cell_type": "code",
   "execution_count": 15,
   "metadata": {
    "collapsed": false
   },
   "outputs": [
    {
     "data": {
      "text/html": [
       "<ol class=list-inline>\n",
       "\t<li>\"origin\"</li>\n",
       "\t<li>\"dest\"</li>\n",
       "</ol>\n"
      ],
      "text/latex": [
       "\\begin{enumerate*}\n",
       "\\item \"origin\"\n",
       "\\item \"dest\"\n",
       "\\end{enumerate*}\n"
      ],
      "text/markdown": [
       "1. \"origin\"\n",
       "2. \"dest\"\n",
       "\n",
       "\n"
      ],
      "text/plain": [
       "[1] \"origin\" \"dest\"  "
      ]
     },
     "metadata": {},
     "output_type": "display_data"
    }
   ],
   "source": [
    "setkey(flights, origin, dest)\n",
    "key(flights)"
   ]
  },
  {
   "cell_type": "code",
   "execution_count": 17,
   "metadata": {
    "collapsed": false
   },
   "outputs": [
    {
     "data": {
      "text/html": [
       "<table>\n",
       "<thead><tr><th></th><th scope=col>month</th><th scope=col>V1</th></tr></thead>\n",
       "<tbody>\n",
       "\t<tr><th scope=row>1</th><td>  1</td><td>881</td></tr>\n",
       "\t<tr><th scope=row>2</th><td>   2</td><td>1014</td></tr>\n",
       "\t<tr><th scope=row>3</th><td>  3</td><td>920</td></tr>\n",
       "\t<tr><th scope=row>4</th><td>   4</td><td>1241</td></tr>\n",
       "\t<tr><th scope=row>5</th><td>  5</td><td>853</td></tr>\n",
       "\t<tr><th scope=row>6</th><td>  6</td><td>798</td></tr>\n",
       "\t<tr><th scope=row>7</th><td>  7</td><td>926</td></tr>\n",
       "\t<tr><th scope=row>8</th><td>  8</td><td>772</td></tr>\n",
       "\t<tr><th scope=row>9</th><td>  9</td><td>553</td></tr>\n",
       "\t<tr><th scope=row>10</th><td> 10</td><td>848</td></tr>\n",
       "</tbody>\n",
       "</table>\n"
      ],
      "text/latex": [
       "\\begin{tabular}{r|ll}\n",
       "  & month & V1\\\\\n",
       "\\hline\n",
       "\t1 &   1 & 881\\\\\n",
       "\t2 &    2 & 1014\\\\\n",
       "\t3 &   3 & 920\\\\\n",
       "\t4 &    4 & 1241\\\\\n",
       "\t5 &   5 & 853\\\\\n",
       "\t6 &   6 & 798\\\\\n",
       "\t7 &   7 & 926\\\\\n",
       "\t8 &   8 & 772\\\\\n",
       "\t9 &   9 & 553\\\\\n",
       "\t10 &  10 & 848\\\\\n",
       "\\end{tabular}\n"
      ],
      "text/plain": [
       "   month   V1\n",
       "1      1  881\n",
       "2      2 1014\n",
       "3      3  920\n",
       "4      4 1241\n",
       "5      5  853\n",
       "6      6  798\n",
       "7      7  926\n",
       "8      8  772\n",
       "9      9  553\n",
       "10    10  848"
      ]
     },
     "metadata": {},
     "output_type": "display_data"
    }
   ],
   "source": [
    "#获取每个月从“JFK”起飞的航班的最大起飞延误时间，按月排序\n",
    "# 可以跳过第二个主键列名\n",
    "# 注意如果用keyby，则会自动使得month成为主键\n",
    "ans <- flights[\"JFK\", max(dep_delay), keyby=month]\n",
    "ans"
   ]
  },
  {
   "cell_type": "code",
   "execution_count": 18,
   "metadata": {
    "collapsed": false
   },
   "outputs": [
    {
     "data": {
      "text/html": [
       "\"month\""
      ],
      "text/latex": [
       "\"month\""
      ],
      "text/markdown": [
       "\"month\""
      ],
      "text/plain": [
       "[1] \"month\""
      ]
     },
     "metadata": {},
     "output_type": "display_data"
    }
   ],
   "source": [
    "key(ans)"
   ]
  },
  {
   "cell_type": "code",
   "execution_count": 19,
   "metadata": {
    "collapsed": false
   },
   "outputs": [
    {
     "data": {
      "text/html": [
       "<table>\n",
       "<thead><tr><th></th><th scope=col>month</th><th scope=col>V1</th></tr></thead>\n",
       "<tbody>\n",
       "\t<tr><th scope=row>1</th><td>  1</td><td>881</td></tr>\n",
       "\t<tr><th scope=row>2</th><td>   2</td><td>1014</td></tr>\n",
       "\t<tr><th scope=row>3</th><td>  3</td><td>920</td></tr>\n",
       "\t<tr><th scope=row>4</th><td>   4</td><td>1241</td></tr>\n",
       "\t<tr><th scope=row>5</th><td>  5</td><td>853</td></tr>\n",
       "\t<tr><th scope=row>6</th><td>  6</td><td>798</td></tr>\n",
       "\t<tr><th scope=row>7</th><td>  7</td><td>926</td></tr>\n",
       "\t<tr><th scope=row>8</th><td>  8</td><td>772</td></tr>\n",
       "\t<tr><th scope=row>9</th><td>  9</td><td>553</td></tr>\n",
       "\t<tr><th scope=row>10</th><td> 10</td><td>848</td></tr>\n",
       "</tbody>\n",
       "</table>\n"
      ],
      "text/latex": [
       "\\begin{tabular}{r|ll}\n",
       "  & month & V1\\\\\n",
       "\\hline\n",
       "\t1 &   1 & 881\\\\\n",
       "\t2 &    2 & 1014\\\\\n",
       "\t3 &   3 & 920\\\\\n",
       "\t4 &    4 & 1241\\\\\n",
       "\t5 &   5 & 853\\\\\n",
       "\t6 &   6 & 798\\\\\n",
       "\t7 &   7 & 926\\\\\n",
       "\t8 &   8 & 772\\\\\n",
       "\t9 &   9 & 553\\\\\n",
       "\t10 &  10 & 848\\\\\n",
       "\\end{tabular}\n"
      ],
      "text/plain": [
       "   month   V1\n",
       "1      1  881\n",
       "2      2 1014\n",
       "3      3  920\n",
       "4      4 1241\n",
       "5      5  853\n",
       "6      6  798\n",
       "7      7  926\n",
       "8      8  772\n",
       "9      9  553\n",
       "10    10  848"
      ]
     },
     "metadata": {},
     "output_type": "display_data"
    }
   ],
   "source": [
    "#如果用的是by，则运算后默认取消主键\n",
    "setkey(flights, origin, dest)\n",
    "ans <- flights[\"JFK\", max(dep_delay), by=month]\n",
    "ans"
   ]
  },
  {
   "cell_type": "code",
   "execution_count": 20,
   "metadata": {
    "collapsed": false
   },
   "outputs": [
    {
     "data": {
      "text/plain": [
       "NULL"
      ]
     },
     "metadata": {},
     "output_type": "display_data"
    }
   ],
   "source": [
    "key(ans)"
   ]
  },
  {
   "cell_type": "markdown",
   "metadata": {},
   "source": [
    "## mult和nomatch\n",
    "### mult\n",
    "mult参数有3种取值，first，last，all (注意是str)，返回所有满足条件的第一行，最后一行，或全部"
   ]
  },
  {
   "cell_type": "code",
   "execution_count": 9,
   "metadata": {
    "collapsed": false
   },
   "outputs": [
    {
     "data": {
      "text/html": [
       "<table>\n",
       "<thead><tr><th></th><th scope=col>year</th><th scope=col>month</th><th scope=col>day</th><th scope=col>dep_time</th><th scope=col>dep_delay</th><th scope=col>arr_time</th><th scope=col>arr_delay</th><th scope=col>cancelled</th><th scope=col>carrier</th><th scope=col>tailnum</th><th scope=col>flight</th><th scope=col>origin</th><th scope=col>dest</th><th scope=col>air_time</th><th scope=col>distance</th><th scope=col>hour</th><th scope=col>min</th></tr></thead>\n",
       "<tbody>\n",
       "\t<tr><th scope=row>1</th><td>2014  </td><td>1     </td><td>1     </td><td>1509  </td><td>-1    </td><td>1828  </td><td>-17   </td><td>0     </td><td>AA    </td><td>N5FJAA</td><td>145   </td><td>JFK   </td><td>MIA   </td><td>161   </td><td>1089  </td><td>15    </td><td>9     </td></tr>\n",
       "</tbody>\n",
       "</table>\n"
      ],
      "text/latex": [
       "\\begin{tabular}{r|lllllllllllllllll}\n",
       "  & year & month & day & dep\\_time & dep\\_delay & arr\\_time & arr\\_delay & cancelled & carrier & tailnum & flight & origin & dest & air\\_time & distance & hour & min\\\\\n",
       "\\hline\n",
       "\t1 & 2014   & 1      & 1      & 1509   & -1     & 1828   & -17    & 0      & AA     & N5FJAA & 145    & JFK    & MIA    & 161    & 1089   & 15     & 9     \\\\\n",
       "\\end{tabular}\n"
      ],
      "text/plain": [
       "  year month day dep_time dep_delay arr_time arr_delay cancelled carrier\n",
       "1 2014     1   1     1509        -1     1828       -17         0      AA\n",
       "  tailnum flight origin dest air_time distance hour min\n",
       "1  N5FJAA    145    JFK  MIA      161     1089   15   9"
      ]
     },
     "metadata": {},
     "output_type": "display_data"
    }
   ],
   "source": [
    "#获取符合origin = “JFK” 且 dest = “MIA”的数据的第一行\n",
    "flights[.(\"JFK\", \"MIA\"), mult=\"first\"]"
   ]
  },
  {
   "cell_type": "code",
   "execution_count": 15,
   "metadata": {
    "collapsed": false
   },
   "outputs": [
    {
     "data": {
      "text/html": [
       "<table>\n",
       "<thead><tr><th></th><th scope=col>year</th><th scope=col>month</th><th scope=col>day</th><th scope=col>dep_time</th><th scope=col>dep_delay</th><th scope=col>arr_time</th><th scope=col>arr_delay</th><th scope=col>cancelled</th><th scope=col>carrier</th><th scope=col>tailnum</th><th scope=col>flight</th><th scope=col>origin</th><th scope=col>dest</th><th scope=col>air_time</th><th scope=col>distance</th><th scope=col>hour</th><th scope=col>min</th></tr></thead>\n",
       "<tbody>\n",
       "\t<tr><th scope=row>1</th><td>2014  </td><td>10    </td><td>31    </td><td>625   </td><td>-5    </td><td>829   </td><td>-11   </td><td>0     </td><td>MQ    </td><td>N501MQ</td><td>3547  </td><td>LGA   </td><td>XNA   </td><td>165   </td><td>1147  </td><td>6     </td><td>25    </td></tr>\n",
       "\t<tr><th scope=row>2</th><td>NA </td><td>NA </td><td>NA </td><td>NA </td><td>NA </td><td>NA </td><td>NA </td><td>NA </td><td>NA </td><td>NA </td><td>NA </td><td>JFK</td><td>XNA</td><td>NA </td><td>NA </td><td>NA </td><td>NA </td></tr>\n",
       "\t<tr><th scope=row>3</th><td>2014  </td><td>10    </td><td>31    </td><td>634   </td><td>-2    </td><td>834   </td><td>-25   </td><td>0     </td><td>EV    </td><td>N17138</td><td>4419  </td><td>EWR   </td><td>XNA   </td><td>160   </td><td>1131  </td><td>6     </td><td>34    </td></tr>\n",
       "</tbody>\n",
       "</table>\n"
      ],
      "text/latex": [
       "\\begin{tabular}{r|lllllllllllllllll}\n",
       "  & year & month & day & dep\\_time & dep\\_delay & arr\\_time & arr\\_delay & cancelled & carrier & tailnum & flight & origin & dest & air\\_time & distance & hour & min\\\\\n",
       "\\hline\n",
       "\t1 & 2014   & 10     & 31     & 625    & -5     & 829    & -11    & 0      & MQ     & N501MQ & 3547   & LGA    & XNA    & 165    & 1147   & 6      & 25    \\\\\n",
       "\t2 & NA  & NA  & NA  & NA  & NA  & NA  & NA  & NA  & NA  & NA  & NA  & JFK & XNA & NA  & NA  & NA  & NA \\\\\n",
       "\t3 & 2014   & 10     & 31     & 634    & -2     & 834    & -25    & 0      & EV     & N17138 & 4419   & EWR    & XNA    & 160    & 1131   & 6      & 34    \\\\\n",
       "\\end{tabular}\n"
      ],
      "text/plain": [
       "  year month day dep_time dep_delay arr_time arr_delay cancelled carrier\n",
       "1 2014    10  31      625        -5      829       -11         0      MQ\n",
       "2   NA    NA  NA       NA        NA       NA        NA        NA    <NA>\n",
       "3 2014    10  31      634        -2      834       -25         0      EV\n",
       "  tailnum flight origin dest air_time distance hour min\n",
       "1  N501MQ   3547    LGA  XNA      165     1147    6  25\n",
       "2    <NA>     NA    JFK  XNA       NA       NA   NA  NA\n",
       "3  N17138   4419    EWR  XNA      160     1131    6  34"
      ]
     },
     "metadata": {},
     "output_type": "display_data"
    }
   ],
   "source": [
    "#获取符合origin = “LGA”或”JFK”或”EWR” 且 dest = “XNA”的数据的最后一行\n",
    "flights[.(c(\"LGA\", \"JFK\", \"EWR\"), \"XNA\"), mult = \"last\"]\n",
    "# NA是因为JFK,XNA同时成立的条目不存在"
   ]
  },
  {
   "cell_type": "markdown",
   "metadata": {},
   "source": [
    "### nomatch"
   ]
  },
  {
   "cell_type": "code",
   "execution_count": 16,
   "metadata": {
    "collapsed": false
   },
   "outputs": [
    {
     "data": {
      "text/html": [
       "<table>\n",
       "<thead><tr><th></th><th scope=col>year</th><th scope=col>month</th><th scope=col>day</th><th scope=col>dep_time</th><th scope=col>dep_delay</th><th scope=col>arr_time</th><th scope=col>arr_delay</th><th scope=col>cancelled</th><th scope=col>carrier</th><th scope=col>tailnum</th><th scope=col>flight</th><th scope=col>origin</th><th scope=col>dest</th><th scope=col>air_time</th><th scope=col>distance</th><th scope=col>hour</th><th scope=col>min</th></tr></thead>\n",
       "<tbody>\n",
       "\t<tr><th scope=row>1</th><td>2014  </td><td>10    </td><td>31    </td><td>625   </td><td>-5    </td><td>829   </td><td>-11   </td><td>0     </td><td>MQ    </td><td>N501MQ</td><td>3547  </td><td>LGA   </td><td>XNA   </td><td>165   </td><td>1147  </td><td>6     </td><td>25    </td></tr>\n",
       "\t<tr><th scope=row>2</th><td>2014  </td><td>10    </td><td>31    </td><td>634   </td><td>-2    </td><td>834   </td><td>-25   </td><td>0     </td><td>EV    </td><td>N17138</td><td>4419  </td><td>EWR   </td><td>XNA   </td><td>160   </td><td>1131  </td><td>6     </td><td>34    </td></tr>\n",
       "</tbody>\n",
       "</table>\n"
      ],
      "text/latex": [
       "\\begin{tabular}{r|lllllllllllllllll}\n",
       "  & year & month & day & dep\\_time & dep\\_delay & arr\\_time & arr\\_delay & cancelled & carrier & tailnum & flight & origin & dest & air\\_time & distance & hour & min\\\\\n",
       "\\hline\n",
       "\t1 & 2014   & 10     & 31     & 625    & -5     & 829    & -11    & 0      & MQ     & N501MQ & 3547   & LGA    & XNA    & 165    & 1147   & 6      & 25    \\\\\n",
       "\t2 & 2014   & 10     & 31     & 634    & -2     & 834    & -25    & 0      & EV     & N17138 & 4419   & EWR    & XNA    & 160    & 1131   & 6      & 34    \\\\\n",
       "\\end{tabular}\n"
      ],
      "text/plain": [
       "  year month day dep_time dep_delay arr_time arr_delay cancelled carrier\n",
       "1 2014    10  31      625        -5      829       -11         0      MQ\n",
       "2 2014    10  31      634        -2      834       -25         0      EV\n",
       "  tailnum flight origin dest air_time distance hour min\n",
       "1  N501MQ   3547    LGA  XNA      165     1147    6  25\n",
       "2  N17138   4419    EWR  XNA      160     1131    6  34"
      ]
     },
     "metadata": {},
     "output_type": "display_data"
    }
   ],
   "source": [
    "# 用于指定遇到NA如何返回，默认是NA，0L为跳过\n",
    "flights[.(c(\"LGA\", \"JFK\", \"EWR\"), \"XNA\"), mult=\"last\", nomatch = 0L]"
   ]
  },
  {
   "cell_type": "markdown",
   "metadata": {},
   "source": [
    "## 二分法搜索vs向量扫描"
   ]
  },
  {
   "cell_type": "markdown",
   "metadata": {},
   "source": [
    "主键做法可以和普通做法得到相同效果，但是，快几百倍。\n",
    "因为主键会先进行排序，所以可以用二分法进行搜索，比全盘的向量扫描快很多\n"
   ]
  }
 ],
 "metadata": {
  "anaconda-cloud": {},
  "kernelspec": {
   "display_name": "R",
   "language": "R",
   "name": "ir"
  },
  "language_info": {
   "codemirror_mode": "r",
   "file_extension": ".r",
   "mimetype": "text/x-r-source",
   "name": "R",
   "pygments_lexer": "r",
   "version": "3.3.1"
  }
 },
 "nbformat": 4,
 "nbformat_minor": 0
}

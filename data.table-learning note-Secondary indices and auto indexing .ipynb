{
 "cells": [
  {
   "cell_type": "code",
   "execution_count": 1,
   "metadata": {
    "collapsed": false
   },
   "outputs": [
    {
     "data": {
      "text/html": [
       "<table>\n",
       "<thead><tr><th></th><th scope=col>year</th><th scope=col>month</th><th scope=col>day</th><th scope=col>dep_time</th><th scope=col>dep_delay</th><th scope=col>arr_time</th><th scope=col>arr_delay</th><th scope=col>cancelled</th><th scope=col>carrier</th><th scope=col>tailnum</th><th scope=col>flight</th><th scope=col>origin</th><th scope=col>dest</th><th scope=col>air_time</th><th scope=col>distance</th><th scope=col>hour</th><th scope=col>min</th></tr></thead>\n",
       "<tbody>\n",
       "\t<tr><th scope=row>1</th><td>2014  </td><td>1     </td><td>1     </td><td>914   </td><td>14    </td><td>1238  </td><td>13    </td><td>0     </td><td>AA    </td><td>N338AA</td><td>1     </td><td>JFK   </td><td>LAX   </td><td>359   </td><td>2475  </td><td>9     </td><td>14    </td></tr>\n",
       "\t<tr><th scope=row>2</th><td>2014  </td><td>1     </td><td>1     </td><td>1157  </td><td>-3    </td><td>1523  </td><td>13    </td><td>0     </td><td>AA    </td><td>N335AA</td><td>3     </td><td>JFK   </td><td>LAX   </td><td>363   </td><td>2475  </td><td>11    </td><td>57    </td></tr>\n",
       "\t<tr><th scope=row>3</th><td>2014  </td><td>1     </td><td>1     </td><td>1902  </td><td>2     </td><td>2224  </td><td>9     </td><td>0     </td><td>AA    </td><td>N327AA</td><td>21    </td><td>JFK   </td><td>LAX   </td><td>351   </td><td>2475  </td><td>19    </td><td>2     </td></tr>\n",
       "\t<tr><th scope=row>4</th><td>2014  </td><td>1     </td><td>1     </td><td>722   </td><td>-8    </td><td>1014  </td><td>-26   </td><td>0     </td><td>AA    </td><td>N3EHAA</td><td>29    </td><td>LGA   </td><td>PBI   </td><td>157   </td><td>1035  </td><td>7     </td><td>22    </td></tr>\n",
       "\t<tr><th scope=row>5</th><td>2014  </td><td>1     </td><td>1     </td><td>1347  </td><td>2     </td><td>1706  </td><td>1     </td><td>0     </td><td>AA    </td><td>N319AA</td><td>117   </td><td>JFK   </td><td>LAX   </td><td>350   </td><td>2475  </td><td>13    </td><td>47    </td></tr>\n",
       "\t<tr><th scope=row>6</th><td>2014  </td><td>1     </td><td>1     </td><td>1824  </td><td>4     </td><td>2145  </td><td>0     </td><td>0     </td><td>AA    </td><td>N3DEAA</td><td>119   </td><td>EWR   </td><td>LAX   </td><td>339   </td><td>2454  </td><td>18    </td><td>24    </td></tr>\n",
       "</tbody>\n",
       "</table>\n"
      ],
      "text/latex": [
       "\\begin{tabular}{r|lllllllllllllllll}\n",
       "  & year & month & day & dep\\_time & dep\\_delay & arr\\_time & arr\\_delay & cancelled & carrier & tailnum & flight & origin & dest & air\\_time & distance & hour & min\\\\\n",
       "\\hline\n",
       "\t1 & 2014   & 1      & 1      & 914    & 14     & 1238   & 13     & 0      & AA     & N338AA & 1      & JFK    & LAX    & 359    & 2475   & 9      & 14    \\\\\n",
       "\t2 & 2014   & 1      & 1      & 1157   & -3     & 1523   & 13     & 0      & AA     & N335AA & 3      & JFK    & LAX    & 363    & 2475   & 11     & 57    \\\\\n",
       "\t3 & 2014   & 1      & 1      & 1902   & 2      & 2224   & 9      & 0      & AA     & N327AA & 21     & JFK    & LAX    & 351    & 2475   & 19     & 2     \\\\\n",
       "\t4 & 2014   & 1      & 1      & 722    & -8     & 1014   & -26    & 0      & AA     & N3EHAA & 29     & LGA    & PBI    & 157    & 1035   & 7      & 22    \\\\\n",
       "\t5 & 2014   & 1      & 1      & 1347   & 2      & 1706   & 1      & 0      & AA     & N319AA & 117    & JFK    & LAX    & 350    & 2475   & 13     & 47    \\\\\n",
       "\t6 & 2014   & 1      & 1      & 1824   & 4      & 2145   & 0      & 0      & AA     & N3DEAA & 119    & EWR    & LAX    & 339    & 2454   & 18     & 24    \\\\\n",
       "\\end{tabular}\n"
      ],
      "text/plain": [
       "  year month day dep_time dep_delay arr_time arr_delay cancelled carrier\n",
       "1 2014     1   1      914        14     1238        13         0      AA\n",
       "2 2014     1   1     1157        -3     1523        13         0      AA\n",
       "3 2014     1   1     1902         2     2224         9         0      AA\n",
       "4 2014     1   1      722        -8     1014       -26         0      AA\n",
       "5 2014     1   1     1347         2     1706         1         0      AA\n",
       "6 2014     1   1     1824         4     2145         0         0      AA\n",
       "  tailnum flight origin dest air_time distance hour min\n",
       "1  N338AA      1    JFK  LAX      359     2475    9  14\n",
       "2  N335AA      3    JFK  LAX      363     2475   11  57\n",
       "3  N327AA     21    JFK  LAX      351     2475   19   2\n",
       "4  N3EHAA     29    LGA  PBI      157     1035    7  22\n",
       "5  N319AA    117    JFK  LAX      350     2475   13  47\n",
       "6  N3DEAA    119    EWR  LAX      339     2454   18  24"
      ]
     },
     "metadata": {},
     "output_type": "display_data"
    }
   ],
   "source": [
    "library(\"data.table\")\n",
    "flights <- fread(\"flights14.csv\")\n",
    "head(flights)"
   ]
  },
  {
   "cell_type": "markdown",
   "metadata": {},
   "source": [
    "## 二级索引\n",
    "类似主键但是不会在内存里对整个data.table重新排序，新建一个index属性计算某列顺序，一个data.table可以有多个二级索引"
   ]
  },
  {
   "cell_type": "code",
   "execution_count": 2,
   "metadata": {
    "collapsed": true
   },
   "outputs": [],
   "source": [
    "#将origin列设置为该data.table的二级索引\n",
    "setindex(flights, origin)\n",
    "#set2keyv(flights, \"origin\") \n",
    "#set2key不会对key列重新排序\n",
    "#set2key(flights, NULL)会删除所有二级索引"
   ]
  },
  {
   "cell_type": "code",
   "execution_count": 3,
   "metadata": {
    "collapsed": false,
    "scrolled": true
   },
   "outputs": [
    {
     "data": {
      "text/html": [
       "<table>\n",
       "<thead><tr><th></th><th scope=col>year</th><th scope=col>month</th><th scope=col>day</th><th scope=col>dep_time</th><th scope=col>dep_delay</th><th scope=col>arr_time</th><th scope=col>arr_delay</th><th scope=col>cancelled</th><th scope=col>carrier</th><th scope=col>tailnum</th><th scope=col>flight</th><th scope=col>origin</th><th scope=col>dest</th><th scope=col>air_time</th><th scope=col>distance</th><th scope=col>hour</th><th scope=col>min</th></tr></thead>\n",
       "<tbody>\n",
       "\t<tr><th scope=row>1</th><td>2014  </td><td>1     </td><td>1     </td><td>914   </td><td>14    </td><td>1238  </td><td>13    </td><td>0     </td><td>AA    </td><td>N338AA</td><td>1     </td><td>JFK   </td><td>LAX   </td><td>359   </td><td>2475  </td><td>9     </td><td>14    </td></tr>\n",
       "\t<tr><th scope=row>2</th><td>2014  </td><td>1     </td><td>1     </td><td>1157  </td><td>-3    </td><td>1523  </td><td>13    </td><td>0     </td><td>AA    </td><td>N335AA</td><td>3     </td><td>JFK   </td><td>LAX   </td><td>363   </td><td>2475  </td><td>11    </td><td>57    </td></tr>\n",
       "\t<tr><th scope=row>3</th><td>2014  </td><td>1     </td><td>1     </td><td>1902  </td><td>2     </td><td>2224  </td><td>9     </td><td>0     </td><td>AA    </td><td>N327AA</td><td>21    </td><td>JFK   </td><td>LAX   </td><td>351   </td><td>2475  </td><td>19    </td><td>2     </td></tr>\n",
       "\t<tr><th scope=row>4</th><td>2014  </td><td>1     </td><td>1     </td><td>722   </td><td>-8    </td><td>1014  </td><td>-26   </td><td>0     </td><td>AA    </td><td>N3EHAA</td><td>29    </td><td>LGA   </td><td>PBI   </td><td>157   </td><td>1035  </td><td>7     </td><td>22    </td></tr>\n",
       "\t<tr><th scope=row>5</th><td>2014  </td><td>1     </td><td>1     </td><td>1347  </td><td>2     </td><td>1706  </td><td>1     </td><td>0     </td><td>AA    </td><td>N319AA</td><td>117   </td><td>JFK   </td><td>LAX   </td><td>350   </td><td>2475  </td><td>13    </td><td>47    </td></tr>\n",
       "\t<tr><th scope=row>6</th><td>2014  </td><td>1     </td><td>1     </td><td>1824  </td><td>4     </td><td>2145  </td><td>0     </td><td>0     </td><td>AA    </td><td>N3DEAA</td><td>119   </td><td>EWR   </td><td>LAX   </td><td>339   </td><td>2454  </td><td>18    </td><td>24    </td></tr>\n",
       "</tbody>\n",
       "</table>\n"
      ],
      "text/latex": [
       "\\begin{tabular}{r|lllllllllllllllll}\n",
       "  & year & month & day & dep\\_time & dep\\_delay & arr\\_time & arr\\_delay & cancelled & carrier & tailnum & flight & origin & dest & air\\_time & distance & hour & min\\\\\n",
       "\\hline\n",
       "\t1 & 2014   & 1      & 1      & 914    & 14     & 1238   & 13     & 0      & AA     & N338AA & 1      & JFK    & LAX    & 359    & 2475   & 9      & 14    \\\\\n",
       "\t2 & 2014   & 1      & 1      & 1157   & -3     & 1523   & 13     & 0      & AA     & N335AA & 3      & JFK    & LAX    & 363    & 2475   & 11     & 57    \\\\\n",
       "\t3 & 2014   & 1      & 1      & 1902   & 2      & 2224   & 9      & 0      & AA     & N327AA & 21     & JFK    & LAX    & 351    & 2475   & 19     & 2     \\\\\n",
       "\t4 & 2014   & 1      & 1      & 722    & -8     & 1014   & -26    & 0      & AA     & N3EHAA & 29     & LGA    & PBI    & 157    & 1035   & 7      & 22    \\\\\n",
       "\t5 & 2014   & 1      & 1      & 1347   & 2      & 1706   & 1      & 0      & AA     & N319AA & 117    & JFK    & LAX    & 350    & 2475   & 13     & 47    \\\\\n",
       "\t6 & 2014   & 1      & 1      & 1824   & 4      & 2145   & 0      & 0      & AA     & N3DEAA & 119    & EWR    & LAX    & 339    & 2454   & 18     & 24    \\\\\n",
       "\\end{tabular}\n"
      ],
      "text/plain": [
       "  year month day dep_time dep_delay arr_time arr_delay cancelled carrier\n",
       "1 2014     1   1      914        14     1238        13         0      AA\n",
       "2 2014     1   1     1157        -3     1523        13         0      AA\n",
       "3 2014     1   1     1902         2     2224         9         0      AA\n",
       "4 2014     1   1      722        -8     1014       -26         0      AA\n",
       "5 2014     1   1     1347         2     1706         1         0      AA\n",
       "6 2014     1   1     1824         4     2145         0         0      AA\n",
       "  tailnum flight origin dest air_time distance hour min\n",
       "1  N338AA      1    JFK  LAX      359     2475    9  14\n",
       "2  N335AA      3    JFK  LAX      363     2475   11  57\n",
       "3  N327AA     21    JFK  LAX      351     2475   19   2\n",
       "4  N3EHAA     29    LGA  PBI      157     1035    7  22\n",
       "5  N319AA    117    JFK  LAX      350     2475   13  47\n",
       "6  N3DEAA    119    EWR  LAX      339     2454   18  24"
      ]
     },
     "metadata": {},
     "output_type": "display_data"
    }
   ],
   "source": [
    "head(flights)"
   ]
  },
  {
   "cell_type": "code",
   "execution_count": 4,
   "metadata": {
    "collapsed": false
   },
   "outputs": [
    {
     "data": {
      "text/html": [
       "<ol class=list-inline>\n",
       "\t<li>\"names\"</li>\n",
       "\t<li>\"row.names\"</li>\n",
       "\t<li>\"class\"</li>\n",
       "\t<li>\".internal.selfref\"</li>\n",
       "</ol>\n"
      ],
      "text/latex": [
       "\\begin{enumerate*}\n",
       "\\item \"names\"\n",
       "\\item \"row.names\"\n",
       "\\item \"class\"\n",
       "\\item \".internal.selfref\"\n",
       "\\end{enumerate*}\n"
      ],
      "text/markdown": [
       "1. \"names\"\n",
       "2. \"row.names\"\n",
       "3. \"class\"\n",
       "4. \".internal.selfref\"\n",
       "\n",
       "\n"
      ],
      "text/plain": [
       "[1] \"names\"             \"row.names\"         \"class\"            \n",
       "[4] \".internal.selfref\""
      ]
     },
     "metadata": {},
     "output_type": "display_data"
    }
   ],
   "source": [
    "names(attributes(flights))"
   ]
  },
  {
   "cell_type": "code",
   "execution_count": 1,
   "metadata": {
    "collapsed": true
   },
   "outputs": [],
   "source": [
    "#indices(flights)\n",
    "## [1] \"origin\"\n",
    "\n",
    "#setindex(flights, origin, dest)\n",
    "#ndices(flights)\n",
    "## [1] \"origin\"       \"origin__dest\"\n",
    "#函数indices()返回一个data.table所有的二级索引。如果该data.table没有二级索引，那么返回NULL\n",
    "#我们对 origin列,dest列创建了另一个二级索引的时候，我们没有丢掉之前创建的第一个二级索引。也就是说，我们可以创建多个二级索引。"
   ]
  },
  {
   "cell_type": "markdown",
   "metadata": {},
   "source": [
    "### 目的\n",
    "解决setkey主键方法的重排序费时问题\n",
    "\n",
    "解决主键只有一个的问题，以及计算后主键会取消的问题"
   ]
  },
  {
   "cell_type": "markdown",
   "metadata": {},
   "source": [
    "## 参数on"
   ]
  },
  {
   "cell_type": "code",
   "execution_count": 7,
   "metadata": {
    "collapsed": false
   },
   "outputs": [],
   "source": [
    "#subset所有origin是“JFK”的行\n",
    "head(flights[\"JFK\", on = \"origin\"])"
   ]
  },
  {
   "cell_type": "code",
   "execution_count": null,
   "metadata": {
    "collapsed": true
   },
   "outputs": [],
   "source": []
  }
 ],
 "metadata": {
  "anaconda-cloud": {},
  "kernelspec": {
   "display_name": "R",
   "language": "R",
   "name": "ir"
  },
  "language_info": {
   "codemirror_mode": "r",
   "file_extension": ".r",
   "mimetype": "text/x-r-source",
   "name": "R",
   "pygments_lexer": "r",
   "version": "3.3.1"
  }
 },
 "nbformat": 4,
 "nbformat_minor": 0
}

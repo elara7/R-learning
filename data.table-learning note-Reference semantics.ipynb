{
 "cells": [
  {
   "cell_type": "markdown",
   "metadata": {
    "collapsed": true
   },
   "source": [
    "## 语义引用\n",
    "\n",
    "目的：直接在原始数据上进行增加，删除和更新列\n",
    "\n",
    "原始的data.frame的处理会进行深度拷贝。"
   ]
  },
  {
   "cell_type": "code",
   "execution_count": 1,
   "metadata": {
    "collapsed": true
   },
   "outputs": [],
   "source": [
    "library(data.table)\n",
    "flights <- fread(\"flights14.csv\")"
   ]
  },
  {
   "cell_type": "code",
   "execution_count": 2,
   "metadata": {
    "collapsed": false
   },
   "outputs": [
    {
     "data": {
      "text/html": [
       "<table>\n",
       "<thead><tr><th></th><th scope=col>year</th><th scope=col>month</th><th scope=col>day</th><th scope=col>dep_time</th><th scope=col>dep_delay</th><th scope=col>arr_time</th><th scope=col>arr_delay</th><th scope=col>cancelled</th><th scope=col>carrier</th><th scope=col>tailnum</th><th scope=col>flight</th><th scope=col>origin</th><th scope=col>dest</th><th scope=col>air_time</th><th scope=col>distance</th><th scope=col>hour</th><th scope=col>min</th></tr></thead>\n",
       "<tbody>\n",
       "\t<tr><th scope=row>1</th><td>2014  </td><td>1     </td><td>1     </td><td>914   </td><td>14    </td><td>1238  </td><td>13    </td><td>0     </td><td>AA    </td><td>N338AA</td><td>1     </td><td>JFK   </td><td>LAX   </td><td>359   </td><td>2475  </td><td>9     </td><td>14    </td></tr>\n",
       "\t<tr><th scope=row>2</th><td>2014  </td><td>1     </td><td>1     </td><td>1157  </td><td>-3    </td><td>1523  </td><td>13    </td><td>0     </td><td>AA    </td><td>N335AA</td><td>3     </td><td>JFK   </td><td>LAX   </td><td>363   </td><td>2475  </td><td>11    </td><td>57    </td></tr>\n",
       "\t<tr><th scope=row>3</th><td>2014  </td><td>1     </td><td>1     </td><td>1902  </td><td>2     </td><td>2224  </td><td>9     </td><td>0     </td><td>AA    </td><td>N327AA</td><td>21    </td><td>JFK   </td><td>LAX   </td><td>351   </td><td>2475  </td><td>19    </td><td>2     </td></tr>\n",
       "\t<tr><th scope=row>4</th><td>2014  </td><td>1     </td><td>1     </td><td>722   </td><td>-8    </td><td>1014  </td><td>-26   </td><td>0     </td><td>AA    </td><td>N3EHAA</td><td>29    </td><td>LGA   </td><td>PBI   </td><td>157   </td><td>1035  </td><td>7     </td><td>22    </td></tr>\n",
       "\t<tr><th scope=row>5</th><td>2014  </td><td>1     </td><td>1     </td><td>1347  </td><td>2     </td><td>1706  </td><td>1     </td><td>0     </td><td>AA    </td><td>N319AA</td><td>117   </td><td>JFK   </td><td>LAX   </td><td>350   </td><td>2475  </td><td>13    </td><td>47    </td></tr>\n",
       "\t<tr><th scope=row>6</th><td>2014  </td><td>1     </td><td>1     </td><td>1824  </td><td>4     </td><td>2145  </td><td>0     </td><td>0     </td><td>AA    </td><td>N3DEAA</td><td>119   </td><td>EWR   </td><td>LAX   </td><td>339   </td><td>2454  </td><td>18    </td><td>24    </td></tr>\n",
       "</tbody>\n",
       "</table>\n"
      ],
      "text/latex": [
       "\\begin{tabular}{r|lllllllllllllllll}\n",
       "  & year & month & day & dep\\_time & dep\\_delay & arr\\_time & arr\\_delay & cancelled & carrier & tailnum & flight & origin & dest & air\\_time & distance & hour & min\\\\\n",
       "\\hline\n",
       "\t1 & 2014   & 1      & 1      & 914    & 14     & 1238   & 13     & 0      & AA     & N338AA & 1      & JFK    & LAX    & 359    & 2475   & 9      & 14    \\\\\n",
       "\t2 & 2014   & 1      & 1      & 1157   & -3     & 1523   & 13     & 0      & AA     & N335AA & 3      & JFK    & LAX    & 363    & 2475   & 11     & 57    \\\\\n",
       "\t3 & 2014   & 1      & 1      & 1902   & 2      & 2224   & 9      & 0      & AA     & N327AA & 21     & JFK    & LAX    & 351    & 2475   & 19     & 2     \\\\\n",
       "\t4 & 2014   & 1      & 1      & 722    & -8     & 1014   & -26    & 0      & AA     & N3EHAA & 29     & LGA    & PBI    & 157    & 1035   & 7      & 22    \\\\\n",
       "\t5 & 2014   & 1      & 1      & 1347   & 2      & 1706   & 1      & 0      & AA     & N319AA & 117    & JFK    & LAX    & 350    & 2475   & 13     & 47    \\\\\n",
       "\t6 & 2014   & 1      & 1      & 1824   & 4      & 2145   & 0      & 0      & AA     & N3DEAA & 119    & EWR    & LAX    & 339    & 2454   & 18     & 24    \\\\\n",
       "\\end{tabular}\n"
      ],
      "text/plain": [
       "  year month day dep_time dep_delay arr_time arr_delay cancelled carrier\n",
       "1 2014     1   1      914        14     1238        13         0      AA\n",
       "2 2014     1   1     1157        -3     1523        13         0      AA\n",
       "3 2014     1   1     1902         2     2224         9         0      AA\n",
       "4 2014     1   1      722        -8     1014       -26         0      AA\n",
       "5 2014     1   1     1347         2     1706         1         0      AA\n",
       "6 2014     1   1     1824         4     2145         0         0      AA\n",
       "  tailnum flight origin dest air_time distance hour min\n",
       "1  N338AA      1    JFK  LAX      359     2475    9  14\n",
       "2  N335AA      3    JFK  LAX      363     2475   11  57\n",
       "3  N327AA     21    JFK  LAX      351     2475   19   2\n",
       "4  N3EHAA     29    LGA  PBI      157     1035    7  22\n",
       "5  N319AA    117    JFK  LAX      350     2475   13  47\n",
       "6  N3DEAA    119    EWR  LAX      339     2454   18  24"
      ]
     },
     "metadata": {},
     "output_type": "display_data"
    }
   ],
   "source": [
    "head(flights)"
   ]
  },
  {
   "cell_type": "code",
   "execution_count": 3,
   "metadata": {
    "collapsed": false
   },
   "outputs": [
    {
     "data": {
      "text/html": [
       "<table>\n",
       "<thead><tr><th></th><th scope=col>ID</th><th scope=col>a</th><th scope=col>b</th><th scope=col>c</th></tr></thead>\n",
       "<tbody>\n",
       "\t<tr><th scope=row>1</th><td>b </td><td>1 </td><td>7 </td><td>13</td></tr>\n",
       "\t<tr><th scope=row>2</th><td>b </td><td>2 </td><td>8 </td><td>14</td></tr>\n",
       "\t<tr><th scope=row>3</th><td>b </td><td>3 </td><td>9 </td><td>15</td></tr>\n",
       "\t<tr><th scope=row>4</th><td>a </td><td>4 </td><td>10</td><td>16</td></tr>\n",
       "\t<tr><th scope=row>5</th><td>a </td><td>5 </td><td>11</td><td>17</td></tr>\n",
       "\t<tr><th scope=row>6</th><td>c </td><td>6 </td><td>12</td><td>18</td></tr>\n",
       "</tbody>\n",
       "</table>\n"
      ],
      "text/latex": [
       "\\begin{tabular}{r|llll}\n",
       "  & ID & a & b & c\\\\\n",
       "\\hline\n",
       "\t1 & b  & 1  & 7  & 13\\\\\n",
       "\t2 & b  & 2  & 8  & 14\\\\\n",
       "\t3 & b  & 3  & 9  & 15\\\\\n",
       "\t4 & a  & 4  & 10 & 16\\\\\n",
       "\t5 & a  & 5  & 11 & 17\\\\\n",
       "\t6 & c  & 6  & 12 & 18\\\\\n",
       "\\end{tabular}\n"
      ],
      "text/plain": [
       "  ID a  b  c\n",
       "1  b 1  7 13\n",
       "2  b 2  8 14\n",
       "3  b 3  9 15\n",
       "4  a 4 10 16\n",
       "5  a 5 11 17\n",
       "6  c 6 12 18"
      ]
     },
     "metadata": {},
     "output_type": "display_data"
    }
   ],
   "source": [
    "DF = data.frame(ID = c(\"b\",\"b\",\"b\",\"a\",\"a\",\"c\"), a = 1:6, b = 7:12, c=13:18)\n",
    "DF"
   ]
  },
  {
   "cell_type": "markdown",
   "metadata": {},
   "source": [
    "### 操作符 “：=”\n",
    "\n",
    "用法：\n",
    "\n",
    "A. 等式\n",
    "\n",
    "多个列\n",
    "\n",
    "DT[, c(\"colA\", \"colB\", ...) := list(valA, valB, ...) ]\n",
    "\n",
    "单个列\n",
    "\n",
    "DT[, colA := valA]\n",
    "\n",
    "B. 函数\n",
    "\n",
    "DT[, `:=`(colA =ValA, colB = ValB, ...)]\n",
    "\n",
    "col是列名，val是要带入的值。col不存在则新建\n",
    "\n",
    ":= 没有返回值，在j参数中可用。这里没有涉及赋值，而是更新\n",
    "\n",
    "### 添加，更新与删除\n",
    "#### 添加"
   ]
  },
  {
   "cell_type": "code",
   "execution_count": 4,
   "metadata": {
    "collapsed": false,
    "scrolled": true
   },
   "outputs": [
    {
     "data": {
      "text/html": [
       "<table>\n",
       "<thead><tr><th></th><th scope=col>year</th><th scope=col>month</th><th scope=col>day</th><th scope=col>dep_time</th><th scope=col>dep_delay</th><th scope=col>arr_time</th><th scope=col>arr_delay</th><th scope=col>cancelled</th><th scope=col>carrier</th><th scope=col>tailnum</th><th scope=col>flight</th><th scope=col>origin</th><th scope=col>dest</th><th scope=col>air_time</th><th scope=col>distance</th><th scope=col>hour</th><th scope=col>min</th><th scope=col>speed</th><th scope=col>delay</th></tr></thead>\n",
       "<tbody>\n",
       "\t<tr><th scope=row>1</th><td>2014            </td><td>1               </td><td>1               </td><td>914             </td><td>14              </td><td>1238            </td><td>13              </td><td>0               </td><td>AA              </td><td>N338AA          </td><td>1               </td><td>JFK             </td><td>LAX             </td><td>359             </td><td>2475            </td><td>9               </td><td>14              </td><td>413.649025069638</td><td>27              </td></tr>\n",
       "\t<tr><th scope=row>2</th><td>2014            </td><td>1               </td><td>1               </td><td>1157            </td><td>-3              </td><td>1523            </td><td>13              </td><td>0               </td><td>AA              </td><td>N335AA          </td><td>3               </td><td>JFK             </td><td>LAX             </td><td>363             </td><td>2475            </td><td>11              </td><td>57              </td><td>409.090909090909</td><td>10              </td></tr>\n",
       "\t<tr><th scope=row>3</th><td>2014            </td><td>1               </td><td>1               </td><td>1902            </td><td>2               </td><td>2224            </td><td>9               </td><td>0               </td><td>AA              </td><td>N327AA          </td><td>21              </td><td>JFK             </td><td>LAX             </td><td>351             </td><td>2475            </td><td>19              </td><td>2               </td><td>423.076923076923</td><td>11              </td></tr>\n",
       "\t<tr><th scope=row>4</th><td>2014            </td><td>1               </td><td>1               </td><td>722             </td><td>-8              </td><td>1014            </td><td>-26             </td><td>0               </td><td>AA              </td><td>N3EHAA          </td><td>29              </td><td>LGA             </td><td>PBI             </td><td>157             </td><td>1035            </td><td>7               </td><td>22              </td><td>395.541401273885</td><td>-34             </td></tr>\n",
       "\t<tr><th scope=row>5</th><td>2014            </td><td>1               </td><td>1               </td><td>1347            </td><td>2               </td><td>1706            </td><td>1               </td><td>0               </td><td>AA              </td><td>N319AA          </td><td>117             </td><td>JFK             </td><td>LAX             </td><td>350             </td><td>2475            </td><td>13              </td><td>47              </td><td>424.285714285714</td><td>3               </td></tr>\n",
       "\t<tr><th scope=row>6</th><td>2014            </td><td>1               </td><td>1               </td><td>1824            </td><td>4               </td><td>2145            </td><td>0               </td><td>0               </td><td>AA              </td><td>N3DEAA          </td><td>119             </td><td>EWR             </td><td>LAX             </td><td>339             </td><td>2454            </td><td>18              </td><td>24              </td><td>434.336283185841</td><td>4               </td></tr>\n",
       "</tbody>\n",
       "</table>\n"
      ],
      "text/latex": [
       "\\begin{tabular}{r|lllllllllllllllllll}\n",
       "  & year & month & day & dep\\_time & dep\\_delay & arr\\_time & arr\\_delay & cancelled & carrier & tailnum & flight & origin & dest & air\\_time & distance & hour & min & speed & delay\\\\\n",
       "\\hline\n",
       "\t1 & 2014             & 1                & 1                & 914              & 14               & 1238             & 13               & 0                & AA               & N338AA           & 1                & JFK              & LAX              & 359              & 2475             & 9                & 14               & 413.649025069638 & 27              \\\\\n",
       "\t2 & 2014             & 1                & 1                & 1157             & -3               & 1523             & 13               & 0                & AA               & N335AA           & 3                & JFK              & LAX              & 363              & 2475             & 11               & 57               & 409.090909090909 & 10              \\\\\n",
       "\t3 & 2014             & 1                & 1                & 1902             & 2                & 2224             & 9                & 0                & AA               & N327AA           & 21               & JFK              & LAX              & 351              & 2475             & 19               & 2                & 423.076923076923 & 11              \\\\\n",
       "\t4 & 2014             & 1                & 1                & 722              & -8               & 1014             & -26              & 0                & AA               & N3EHAA           & 29               & LGA              & PBI              & 157              & 1035             & 7                & 22               & 395.541401273885 & -34             \\\\\n",
       "\t5 & 2014             & 1                & 1                & 1347             & 2                & 1706             & 1                & 0                & AA               & N319AA           & 117              & JFK              & LAX              & 350              & 2475             & 13               & 47               & 424.285714285714 & 3               \\\\\n",
       "\t6 & 2014             & 1                & 1                & 1824             & 4                & 2145             & 0                & 0                & AA               & N3DEAA           & 119              & EWR              & LAX              & 339              & 2454             & 18               & 24               & 434.336283185841 & 4               \\\\\n",
       "\\end{tabular}\n"
      ],
      "text/plain": [
       "  year month day dep_time dep_delay arr_time arr_delay cancelled carrier\n",
       "1 2014     1   1      914        14     1238        13         0      AA\n",
       "2 2014     1   1     1157        -3     1523        13         0      AA\n",
       "3 2014     1   1     1902         2     2224         9         0      AA\n",
       "4 2014     1   1      722        -8     1014       -26         0      AA\n",
       "5 2014     1   1     1347         2     1706         1         0      AA\n",
       "6 2014     1   1     1824         4     2145         0         0      AA\n",
       "  tailnum flight origin dest air_time distance hour min    speed delay\n",
       "1  N338AA      1    JFK  LAX      359     2475    9  14 413.6490    27\n",
       "2  N335AA      3    JFK  LAX      363     2475   11  57 409.0909    10\n",
       "3  N327AA     21    JFK  LAX      351     2475   19   2 423.0769    11\n",
       "4  N3EHAA     29    LGA  PBI      157     1035    7  22 395.5414   -34\n",
       "5  N319AA    117    JFK  LAX      350     2475   13  47 424.2857     3\n",
       "6  N3DEAA    119    EWR  LAX      339     2454   18  24 434.3363     4"
      ]
     },
     "metadata": {},
     "output_type": "display_data"
    }
   ],
   "source": [
    "#对每次航班，添加 speed 和 total delay 两列\n",
    "head(flights[, ':='(speed = distance / (air_time/60), delay = arr_delay+dep_delay)])"
   ]
  },
  {
   "cell_type": "code",
   "execution_count": 5,
   "metadata": {
    "collapsed": false,
    "scrolled": true
   },
   "outputs": [
    {
     "data": {
      "text/html": [
       "<table>\n",
       "<thead><tr><th></th><th scope=col>year</th><th scope=col>month</th><th scope=col>day</th><th scope=col>dep_time</th><th scope=col>dep_delay</th><th scope=col>arr_time</th><th scope=col>arr_delay</th><th scope=col>cancelled</th><th scope=col>carrier</th><th scope=col>tailnum</th><th scope=col>flight</th><th scope=col>origin</th><th scope=col>dest</th><th scope=col>air_time</th><th scope=col>distance</th><th scope=col>hour</th><th scope=col>min</th><th scope=col>speed</th><th scope=col>delay</th></tr></thead>\n",
       "<tbody>\n",
       "\t<tr><th scope=row>1</th><td>2014            </td><td>1               </td><td>1               </td><td>914             </td><td>14              </td><td>1238            </td><td>13              </td><td>0               </td><td>AA              </td><td>N338AA          </td><td>1               </td><td>JFK             </td><td>LAX             </td><td>359             </td><td>2475            </td><td>9               </td><td>14              </td><td>413.649025069638</td><td>27              </td></tr>\n",
       "\t<tr><th scope=row>2</th><td>2014            </td><td>1               </td><td>1               </td><td>1157            </td><td>-3              </td><td>1523            </td><td>13              </td><td>0               </td><td>AA              </td><td>N335AA          </td><td>3               </td><td>JFK             </td><td>LAX             </td><td>363             </td><td>2475            </td><td>11              </td><td>57              </td><td>409.090909090909</td><td>10              </td></tr>\n",
       "\t<tr><th scope=row>3</th><td>2014            </td><td>1               </td><td>1               </td><td>1902            </td><td>2               </td><td>2224            </td><td>9               </td><td>0               </td><td>AA              </td><td>N327AA          </td><td>21              </td><td>JFK             </td><td>LAX             </td><td>351             </td><td>2475            </td><td>19              </td><td>2               </td><td>423.076923076923</td><td>11              </td></tr>\n",
       "\t<tr><th scope=row>4</th><td>2014            </td><td>1               </td><td>1               </td><td>722             </td><td>-8              </td><td>1014            </td><td>-26             </td><td>0               </td><td>AA              </td><td>N3EHAA          </td><td>29              </td><td>LGA             </td><td>PBI             </td><td>157             </td><td>1035            </td><td>7               </td><td>22              </td><td>395.541401273885</td><td>-34             </td></tr>\n",
       "\t<tr><th scope=row>5</th><td>2014            </td><td>1               </td><td>1               </td><td>1347            </td><td>2               </td><td>1706            </td><td>1               </td><td>0               </td><td>AA              </td><td>N319AA          </td><td>117             </td><td>JFK             </td><td>LAX             </td><td>350             </td><td>2475            </td><td>13              </td><td>47              </td><td>424.285714285714</td><td>3               </td></tr>\n",
       "\t<tr><th scope=row>6</th><td>2014            </td><td>1               </td><td>1               </td><td>1824            </td><td>4               </td><td>2145            </td><td>0               </td><td>0               </td><td>AA              </td><td>N3DEAA          </td><td>119             </td><td>EWR             </td><td>LAX             </td><td>339             </td><td>2454            </td><td>18              </td><td>24              </td><td>434.336283185841</td><td>4               </td></tr>\n",
       "</tbody>\n",
       "</table>\n"
      ],
      "text/latex": [
       "\\begin{tabular}{r|lllllllllllllllllll}\n",
       "  & year & month & day & dep\\_time & dep\\_delay & arr\\_time & arr\\_delay & cancelled & carrier & tailnum & flight & origin & dest & air\\_time & distance & hour & min & speed & delay\\\\\n",
       "\\hline\n",
       "\t1 & 2014             & 1                & 1                & 914              & 14               & 1238             & 13               & 0                & AA               & N338AA           & 1                & JFK              & LAX              & 359              & 2475             & 9                & 14               & 413.649025069638 & 27              \\\\\n",
       "\t2 & 2014             & 1                & 1                & 1157             & -3               & 1523             & 13               & 0                & AA               & N335AA           & 3                & JFK              & LAX              & 363              & 2475             & 11               & 57               & 409.090909090909 & 10              \\\\\n",
       "\t3 & 2014             & 1                & 1                & 1902             & 2                & 2224             & 9                & 0                & AA               & N327AA           & 21               & JFK              & LAX              & 351              & 2475             & 19               & 2                & 423.076923076923 & 11              \\\\\n",
       "\t4 & 2014             & 1                & 1                & 722              & -8               & 1014             & -26              & 0                & AA               & N3EHAA           & 29               & LGA              & PBI              & 157              & 1035             & 7                & 22               & 395.541401273885 & -34             \\\\\n",
       "\t5 & 2014             & 1                & 1                & 1347             & 2                & 1706             & 1                & 0                & AA               & N319AA           & 117              & JFK              & LAX              & 350              & 2475             & 13               & 47               & 424.285714285714 & 3               \\\\\n",
       "\t6 & 2014             & 1                & 1                & 1824             & 4                & 2145             & 0                & 0                & AA               & N3DEAA           & 119              & EWR              & LAX              & 339              & 2454             & 18               & 24               & 434.336283185841 & 4               \\\\\n",
       "\\end{tabular}\n"
      ],
      "text/plain": [
       "  year month day dep_time dep_delay arr_time arr_delay cancelled carrier\n",
       "1 2014     1   1      914        14     1238        13         0      AA\n",
       "2 2014     1   1     1157        -3     1523        13         0      AA\n",
       "3 2014     1   1     1902         2     2224         9         0      AA\n",
       "4 2014     1   1      722        -8     1014       -26         0      AA\n",
       "5 2014     1   1     1347         2     1706         1         0      AA\n",
       "6 2014     1   1     1824         4     2145         0         0      AA\n",
       "  tailnum flight origin dest air_time distance hour min    speed delay\n",
       "1  N338AA      1    JFK  LAX      359     2475    9  14 413.6490    27\n",
       "2  N335AA      3    JFK  LAX      363     2475   11  57 409.0909    10\n",
       "3  N327AA     21    JFK  LAX      351     2475   19   2 423.0769    11\n",
       "4  N3EHAA     29    LGA  PBI      157     1035    7  22 395.5414   -34\n",
       "5  N319AA    117    JFK  LAX      350     2475   13  47 424.2857     3\n",
       "6  N3DEAA    119    EWR  LAX      339     2454   18  24 434.3363     4"
      ]
     },
     "metadata": {},
     "output_type": "display_data"
    }
   ],
   "source": [
    "flights <- fread(\"flights14.csv\")# 还原\n",
    "head(flights[, c(\"speed\", \"delay\") := list(distance / (air_time/60), arr_delay+dep_delay)])"
   ]
  },
  {
   "cell_type": "markdown",
   "metadata": {},
   "source": [
    "#### 更新"
   ]
  },
  {
   "cell_type": "code",
   "execution_count": 6,
   "metadata": {
    "collapsed": false
   },
   "outputs": [
    {
     "data": {
      "text/html": [
       "<ol class=list-inline>\n",
       "\t<li>0</li>\n",
       "\t<li>1</li>\n",
       "\t<li>2</li>\n",
       "\t<li>3</li>\n",
       "\t<li>4</li>\n",
       "\t<li>5</li>\n",
       "\t<li>6</li>\n",
       "\t<li>7</li>\n",
       "\t<li>8</li>\n",
       "\t<li>9</li>\n",
       "\t<li>10</li>\n",
       "\t<li>11</li>\n",
       "\t<li>12</li>\n",
       "\t<li>13</li>\n",
       "\t<li>14</li>\n",
       "\t<li>15</li>\n",
       "\t<li>16</li>\n",
       "\t<li>17</li>\n",
       "\t<li>18</li>\n",
       "\t<li>19</li>\n",
       "\t<li>20</li>\n",
       "\t<li>21</li>\n",
       "\t<li>22</li>\n",
       "\t<li>23</li>\n",
       "\t<li>24</li>\n",
       "</ol>\n"
      ],
      "text/latex": [
       "\\begin{enumerate*}\n",
       "\\item 0\n",
       "\\item 1\n",
       "\\item 2\n",
       "\\item 3\n",
       "\\item 4\n",
       "\\item 5\n",
       "\\item 6\n",
       "\\item 7\n",
       "\\item 8\n",
       "\\item 9\n",
       "\\item 10\n",
       "\\item 11\n",
       "\\item 12\n",
       "\\item 13\n",
       "\\item 14\n",
       "\\item 15\n",
       "\\item 16\n",
       "\\item 17\n",
       "\\item 18\n",
       "\\item 19\n",
       "\\item 20\n",
       "\\item 21\n",
       "\\item 22\n",
       "\\item 23\n",
       "\\item 24\n",
       "\\end{enumerate*}\n"
      ],
      "text/markdown": [
       "1. 0\n",
       "2. 1\n",
       "3. 2\n",
       "4. 3\n",
       "5. 4\n",
       "6. 5\n",
       "7. 6\n",
       "8. 7\n",
       "9. 8\n",
       "10. 9\n",
       "11. 10\n",
       "12. 11\n",
       "13. 12\n",
       "14. 13\n",
       "15. 14\n",
       "16. 15\n",
       "17. 16\n",
       "18. 17\n",
       "19. 18\n",
       "20. 19\n",
       "21. 20\n",
       "22. 21\n",
       "23. 22\n",
       "24. 23\n",
       "25. 24\n",
       "\n",
       "\n"
      ],
      "text/plain": [
       " [1]  0  1  2  3  4  5  6  7  8  9 10 11 12 13 14 15 16 17 18 19 20 21 22 23 24"
      ]
     },
     "metadata": {},
     "output_type": "display_data"
    }
   ],
   "source": [
    "flights[, sort(unique(hour))]"
   ]
  },
  {
   "cell_type": "code",
   "execution_count": 7,
   "metadata": {
    "collapsed": false,
    "scrolled": true
   },
   "outputs": [
    {
     "data": {
      "text/html": [
       "<table>\n",
       "<thead><tr><th></th><th scope=col>year</th><th scope=col>month</th><th scope=col>day</th><th scope=col>dep_time</th><th scope=col>dep_delay</th><th scope=col>arr_time</th><th scope=col>arr_delay</th><th scope=col>cancelled</th><th scope=col>carrier</th><th scope=col>tailnum</th><th scope=col>flight</th><th scope=col>origin</th><th scope=col>dest</th><th scope=col>air_time</th><th scope=col>distance</th><th scope=col>hour</th><th scope=col>min</th><th scope=col>speed</th><th scope=col>delay</th></tr></thead>\n",
       "<tbody>\n",
       "\t<tr><th scope=row>1</th><td>2014            </td><td>1               </td><td>1               </td><td>914             </td><td>14              </td><td>1238            </td><td>13              </td><td>0               </td><td>AA              </td><td>N338AA          </td><td>1               </td><td>JFK             </td><td>LAX             </td><td>359             </td><td>2475            </td><td>9               </td><td>14              </td><td>413.649025069638</td><td>27              </td></tr>\n",
       "\t<tr><th scope=row>2</th><td>2014            </td><td>1               </td><td>1               </td><td>1157            </td><td>-3              </td><td>1523            </td><td>13              </td><td>0               </td><td>AA              </td><td>N335AA          </td><td>3               </td><td>JFK             </td><td>LAX             </td><td>363             </td><td>2475            </td><td>11              </td><td>57              </td><td>409.090909090909</td><td>10              </td></tr>\n",
       "\t<tr><th scope=row>3</th><td>2014            </td><td>1               </td><td>1               </td><td>1902            </td><td>2               </td><td>2224            </td><td>9               </td><td>0               </td><td>AA              </td><td>N327AA          </td><td>21              </td><td>JFK             </td><td>LAX             </td><td>351             </td><td>2475            </td><td>19              </td><td>2               </td><td>423.076923076923</td><td>11              </td></tr>\n",
       "\t<tr><th scope=row>4</th><td>2014            </td><td>1               </td><td>1               </td><td>722             </td><td>-8              </td><td>1014            </td><td>-26             </td><td>0               </td><td>AA              </td><td>N3EHAA          </td><td>29              </td><td>LGA             </td><td>PBI             </td><td>157             </td><td>1035            </td><td>7               </td><td>22              </td><td>395.541401273885</td><td>-34             </td></tr>\n",
       "\t<tr><th scope=row>5</th><td>2014            </td><td>1               </td><td>1               </td><td>1347            </td><td>2               </td><td>1706            </td><td>1               </td><td>0               </td><td>AA              </td><td>N319AA          </td><td>117             </td><td>JFK             </td><td>LAX             </td><td>350             </td><td>2475            </td><td>13              </td><td>47              </td><td>424.285714285714</td><td>3               </td></tr>\n",
       "\t<tr><th scope=row>6</th><td>2014            </td><td>1               </td><td>1               </td><td>1824            </td><td>4               </td><td>2145            </td><td>0               </td><td>0               </td><td>AA              </td><td>N3DEAA          </td><td>119             </td><td>EWR             </td><td>LAX             </td><td>339             </td><td>2454            </td><td>18              </td><td>24              </td><td>434.336283185841</td><td>4               </td></tr>\n",
       "</tbody>\n",
       "</table>\n"
      ],
      "text/latex": [
       "\\begin{tabular}{r|lllllllllllllllllll}\n",
       "  & year & month & day & dep\\_time & dep\\_delay & arr\\_time & arr\\_delay & cancelled & carrier & tailnum & flight & origin & dest & air\\_time & distance & hour & min & speed & delay\\\\\n",
       "\\hline\n",
       "\t1 & 2014             & 1                & 1                & 914              & 14               & 1238             & 13               & 0                & AA               & N338AA           & 1                & JFK              & LAX              & 359              & 2475             & 9                & 14               & 413.649025069638 & 27              \\\\\n",
       "\t2 & 2014             & 1                & 1                & 1157             & -3               & 1523             & 13               & 0                & AA               & N335AA           & 3                & JFK              & LAX              & 363              & 2475             & 11               & 57               & 409.090909090909 & 10              \\\\\n",
       "\t3 & 2014             & 1                & 1                & 1902             & 2                & 2224             & 9                & 0                & AA               & N327AA           & 21               & JFK              & LAX              & 351              & 2475             & 19               & 2                & 423.076923076923 & 11              \\\\\n",
       "\t4 & 2014             & 1                & 1                & 722              & -8               & 1014             & -26              & 0                & AA               & N3EHAA           & 29               & LGA              & PBI              & 157              & 1035             & 7                & 22               & 395.541401273885 & -34             \\\\\n",
       "\t5 & 2014             & 1                & 1                & 1347             & 2                & 1706             & 1                & 0                & AA               & N319AA           & 117              & JFK              & LAX              & 350              & 2475             & 13               & 47               & 424.285714285714 & 3               \\\\\n",
       "\t6 & 2014             & 1                & 1                & 1824             & 4                & 2145             & 0                & 0                & AA               & N3DEAA           & 119              & EWR              & LAX              & 339              & 2454             & 18               & 24               & 434.336283185841 & 4               \\\\\n",
       "\\end{tabular}\n"
      ],
      "text/plain": [
       "  year month day dep_time dep_delay arr_time arr_delay cancelled carrier\n",
       "1 2014     1   1      914        14     1238        13         0      AA\n",
       "2 2014     1   1     1157        -3     1523        13         0      AA\n",
       "3 2014     1   1     1902         2     2224         9         0      AA\n",
       "4 2014     1   1      722        -8     1014       -26         0      AA\n",
       "5 2014     1   1     1347         2     1706         1         0      AA\n",
       "6 2014     1   1     1824         4     2145         0         0      AA\n",
       "  tailnum flight origin dest air_time distance hour min    speed delay\n",
       "1  N338AA      1    JFK  LAX      359     2475    9  14 413.6490    27\n",
       "2  N335AA      3    JFK  LAX      363     2475   11  57 409.0909    10\n",
       "3  N327AA     21    JFK  LAX      351     2475   19   2 423.0769    11\n",
       "4  N3EHAA     29    LGA  PBI      157     1035    7  22 395.5414   -34\n",
       "5  N319AA    117    JFK  LAX      350     2475   13  47 424.2857     3\n",
       "6  N3DEAA    119    EWR  LAX      339     2454   18  24 434.3363     4"
      ]
     },
     "metadata": {},
     "output_type": "display_data"
    }
   ],
   "source": [
    "# 0点和24点应该是一样的，要把所有24更新成0\n",
    "head(flights[hour == 24L, hour := 0L])"
   ]
  },
  {
   "cell_type": "code",
   "execution_count": 8,
   "metadata": {
    "collapsed": false
   },
   "outputs": [
    {
     "data": {
      "text/html": [
       "<ol class=list-inline>\n",
       "\t<li>0</li>\n",
       "\t<li>1</li>\n",
       "\t<li>2</li>\n",
       "\t<li>3</li>\n",
       "\t<li>4</li>\n",
       "\t<li>5</li>\n",
       "\t<li>6</li>\n",
       "\t<li>7</li>\n",
       "\t<li>8</li>\n",
       "\t<li>9</li>\n",
       "\t<li>10</li>\n",
       "\t<li>11</li>\n",
       "\t<li>12</li>\n",
       "\t<li>13</li>\n",
       "\t<li>14</li>\n",
       "\t<li>15</li>\n",
       "\t<li>16</li>\n",
       "\t<li>17</li>\n",
       "\t<li>18</li>\n",
       "\t<li>19</li>\n",
       "\t<li>20</li>\n",
       "\t<li>21</li>\n",
       "\t<li>22</li>\n",
       "\t<li>23</li>\n",
       "</ol>\n"
      ],
      "text/latex": [
       "\\begin{enumerate*}\n",
       "\\item 0\n",
       "\\item 1\n",
       "\\item 2\n",
       "\\item 3\n",
       "\\item 4\n",
       "\\item 5\n",
       "\\item 6\n",
       "\\item 7\n",
       "\\item 8\n",
       "\\item 9\n",
       "\\item 10\n",
       "\\item 11\n",
       "\\item 12\n",
       "\\item 13\n",
       "\\item 14\n",
       "\\item 15\n",
       "\\item 16\n",
       "\\item 17\n",
       "\\item 18\n",
       "\\item 19\n",
       "\\item 20\n",
       "\\item 21\n",
       "\\item 22\n",
       "\\item 23\n",
       "\\end{enumerate*}\n"
      ],
      "text/markdown": [
       "1. 0\n",
       "2. 1\n",
       "3. 2\n",
       "4. 3\n",
       "5. 4\n",
       "6. 5\n",
       "7. 6\n",
       "8. 7\n",
       "9. 8\n",
       "10. 9\n",
       "11. 10\n",
       "12. 11\n",
       "13. 12\n",
       "14. 13\n",
       "15. 14\n",
       "16. 15\n",
       "17. 16\n",
       "18. 17\n",
       "19. 18\n",
       "20. 19\n",
       "21. 20\n",
       "22. 21\n",
       "23. 22\n",
       "24. 23\n",
       "\n",
       "\n"
      ],
      "text/plain": [
       " [1]  0  1  2  3  4  5  6  7  8  9 10 11 12 13 14 15 16 17 18 19 20 21 22 23"
      ]
     },
     "metadata": {},
     "output_type": "display_data"
    }
   ],
   "source": [
    "flights[, sort(unique(hour))]"
   ]
  },
  {
   "cell_type": "markdown",
   "metadata": {},
   "source": [
    "实际在R中，:=没有返回值，需要flights[hour == 24L, hour := 0L][]来查看结果\n",
    "\n",
    "#### 删除"
   ]
  },
  {
   "cell_type": "code",
   "execution_count": 10,
   "metadata": {
    "collapsed": false
   },
   "outputs": [
    {
     "data": {
      "text/html": [
       "<table>\n",
       "<thead><tr><th></th><th scope=col>year</th><th scope=col>month</th><th scope=col>day</th><th scope=col>dep_time</th><th scope=col>dep_delay</th><th scope=col>arr_time</th><th scope=col>arr_delay</th><th scope=col>cancelled</th><th scope=col>carrier</th><th scope=col>tailnum</th><th scope=col>flight</th><th scope=col>origin</th><th scope=col>dest</th><th scope=col>air_time</th><th scope=col>distance</th><th scope=col>hour</th><th scope=col>min</th><th scope=col>speed</th></tr></thead>\n",
       "<tbody>\n",
       "\t<tr><th scope=row>1</th><td>2014            </td><td>1               </td><td>1               </td><td>914             </td><td>14              </td><td>1238            </td><td>13              </td><td>0               </td><td>AA              </td><td>N338AA          </td><td>1               </td><td>JFK             </td><td>LAX             </td><td>359             </td><td>2475            </td><td>9               </td><td>14              </td><td>413.649025069638</td></tr>\n",
       "\t<tr><th scope=row>2</th><td>2014            </td><td>1               </td><td>1               </td><td>1157            </td><td>-3              </td><td>1523            </td><td>13              </td><td>0               </td><td>AA              </td><td>N335AA          </td><td>3               </td><td>JFK             </td><td>LAX             </td><td>363             </td><td>2475            </td><td>11              </td><td>57              </td><td>409.090909090909</td></tr>\n",
       "\t<tr><th scope=row>3</th><td>2014            </td><td>1               </td><td>1               </td><td>1902            </td><td>2               </td><td>2224            </td><td>9               </td><td>0               </td><td>AA              </td><td>N327AA          </td><td>21              </td><td>JFK             </td><td>LAX             </td><td>351             </td><td>2475            </td><td>19              </td><td>2               </td><td>423.076923076923</td></tr>\n",
       "\t<tr><th scope=row>4</th><td>2014            </td><td>1               </td><td>1               </td><td>722             </td><td>-8              </td><td>1014            </td><td>-26             </td><td>0               </td><td>AA              </td><td>N3EHAA          </td><td>29              </td><td>LGA             </td><td>PBI             </td><td>157             </td><td>1035            </td><td>7               </td><td>22              </td><td>395.541401273885</td></tr>\n",
       "\t<tr><th scope=row>5</th><td>2014            </td><td>1               </td><td>1               </td><td>1347            </td><td>2               </td><td>1706            </td><td>1               </td><td>0               </td><td>AA              </td><td>N319AA          </td><td>117             </td><td>JFK             </td><td>LAX             </td><td>350             </td><td>2475            </td><td>13              </td><td>47              </td><td>424.285714285714</td></tr>\n",
       "\t<tr><th scope=row>6</th><td>2014            </td><td>1               </td><td>1               </td><td>1824            </td><td>4               </td><td>2145            </td><td>0               </td><td>0               </td><td>AA              </td><td>N3DEAA          </td><td>119             </td><td>EWR             </td><td>LAX             </td><td>339             </td><td>2454            </td><td>18              </td><td>24              </td><td>434.336283185841</td></tr>\n",
       "</tbody>\n",
       "</table>\n"
      ],
      "text/latex": [
       "\\begin{tabular}{r|llllllllllllllllll}\n",
       "  & year & month & day & dep\\_time & dep\\_delay & arr\\_time & arr\\_delay & cancelled & carrier & tailnum & flight & origin & dest & air\\_time & distance & hour & min & speed\\\\\n",
       "\\hline\n",
       "\t1 & 2014             & 1                & 1                & 914              & 14               & 1238             & 13               & 0                & AA               & N338AA           & 1                & JFK              & LAX              & 359              & 2475             & 9                & 14               & 413.649025069638\\\\\n",
       "\t2 & 2014             & 1                & 1                & 1157             & -3               & 1523             & 13               & 0                & AA               & N335AA           & 3                & JFK              & LAX              & 363              & 2475             & 11               & 57               & 409.090909090909\\\\\n",
       "\t3 & 2014             & 1                & 1                & 1902             & 2                & 2224             & 9                & 0                & AA               & N327AA           & 21               & JFK              & LAX              & 351              & 2475             & 19               & 2                & 423.076923076923\\\\\n",
       "\t4 & 2014             & 1                & 1                & 722              & -8               & 1014             & -26              & 0                & AA               & N3EHAA           & 29               & LGA              & PBI              & 157              & 1035             & 7                & 22               & 395.541401273885\\\\\n",
       "\t5 & 2014             & 1                & 1                & 1347             & 2                & 1706             & 1                & 0                & AA               & N319AA           & 117              & JFK              & LAX              & 350              & 2475             & 13               & 47               & 424.285714285714\\\\\n",
       "\t6 & 2014             & 1                & 1                & 1824             & 4                & 2145             & 0                & 0                & AA               & N3DEAA           & 119              & EWR              & LAX              & 339              & 2454             & 18               & 24               & 434.336283185841\\\\\n",
       "\\end{tabular}\n"
      ],
      "text/plain": [
       "  year month day dep_time dep_delay arr_time arr_delay cancelled carrier\n",
       "1 2014     1   1      914        14     1238        13         0      AA\n",
       "2 2014     1   1     1157        -3     1523        13         0      AA\n",
       "3 2014     1   1     1902         2     2224         9         0      AA\n",
       "4 2014     1   1      722        -8     1014       -26         0      AA\n",
       "5 2014     1   1     1347         2     1706         1         0      AA\n",
       "6 2014     1   1     1824         4     2145         0         0      AA\n",
       "  tailnum flight origin dest air_time distance hour min    speed\n",
       "1  N338AA      1    JFK  LAX      359     2475    9  14 413.6490\n",
       "2  N335AA      3    JFK  LAX      363     2475   11  57 409.0909\n",
       "3  N327AA     21    JFK  LAX      351     2475   19   2 423.0769\n",
       "4  N3EHAA     29    LGA  PBI      157     1035    7  22 395.5414\n",
       "5  N319AA    117    JFK  LAX      350     2475   13  47 424.2857\n",
       "6  N3DEAA    119    EWR  LAX      339     2454   18  24 434.3363"
      ]
     },
     "metadata": {},
     "output_type": "display_data"
    }
   ],
   "source": [
    "#删除 delay列:直接操作赋值为NULL。如果只要删除一列可以去掉c(\"\")\n",
    "head(flights[, c(\"delay\") := NULL])"
   ]
  },
  {
   "cell_type": "markdown",
   "metadata": {},
   "source": [
    "#### \":=\" 和分组"
   ]
  },
  {
   "cell_type": "code",
   "execution_count": 11,
   "metadata": {
    "collapsed": false
   },
   "outputs": [
    {
     "data": {
      "text/html": [
       "<table>\n",
       "<thead><tr><th></th><th scope=col>year</th><th scope=col>month</th><th scope=col>day</th><th scope=col>dep_time</th><th scope=col>dep_delay</th><th scope=col>arr_time</th><th scope=col>arr_delay</th><th scope=col>cancelled</th><th scope=col>carrier</th><th scope=col>tailnum</th><th scope=col>flight</th><th scope=col>origin</th><th scope=col>dest</th><th scope=col>air_time</th><th scope=col>distance</th><th scope=col>hour</th><th scope=col>min</th><th scope=col>speed</th><th scope=col>max_speed</th></tr></thead>\n",
       "<tbody>\n",
       "\t<tr><th scope=row>1</th><td>2014            </td><td>1               </td><td>1               </td><td>914             </td><td>14              </td><td>1238            </td><td>13              </td><td>0               </td><td>AA              </td><td>N338AA          </td><td>1               </td><td>JFK             </td><td>LAX             </td><td>359             </td><td>2475            </td><td>9               </td><td>14              </td><td>413.649025069638</td><td>526.595744680851</td></tr>\n",
       "\t<tr><th scope=row>2</th><td>2014            </td><td>1               </td><td>1               </td><td>1157            </td><td>-3              </td><td>1523            </td><td>13              </td><td>0               </td><td>AA              </td><td>N335AA          </td><td>3               </td><td>JFK             </td><td>LAX             </td><td>363             </td><td>2475            </td><td>11              </td><td>57              </td><td>409.090909090909</td><td>526.595744680851</td></tr>\n",
       "\t<tr><th scope=row>3</th><td>2014            </td><td>1               </td><td>1               </td><td>1902            </td><td>2               </td><td>2224            </td><td>9               </td><td>0               </td><td>AA              </td><td>N327AA          </td><td>21              </td><td>JFK             </td><td>LAX             </td><td>351             </td><td>2475            </td><td>19              </td><td>2               </td><td>423.076923076923</td><td>526.595744680851</td></tr>\n",
       "\t<tr><th scope=row>4</th><td>2014            </td><td>1               </td><td>1               </td><td>722             </td><td>-8              </td><td>1014            </td><td>-26             </td><td>0               </td><td>AA              </td><td>N3EHAA          </td><td>29              </td><td>LGA             </td><td>PBI             </td><td>157             </td><td>1035            </td><td>7               </td><td>22              </td><td>395.541401273885</td><td>517.5           </td></tr>\n",
       "\t<tr><th scope=row>5</th><td>2014            </td><td>1               </td><td>1               </td><td>1347            </td><td>2               </td><td>1706            </td><td>1               </td><td>0               </td><td>AA              </td><td>N319AA          </td><td>117             </td><td>JFK             </td><td>LAX             </td><td>350             </td><td>2475            </td><td>13              </td><td>47              </td><td>424.285714285714</td><td>526.595744680851</td></tr>\n",
       "\t<tr><th scope=row>6</th><td>2014            </td><td>1               </td><td>1               </td><td>1824            </td><td>4               </td><td>2145            </td><td>0               </td><td>0               </td><td>AA              </td><td>N3DEAA          </td><td>119             </td><td>EWR             </td><td>LAX             </td><td>339             </td><td>2454            </td><td>18              </td><td>24              </td><td>434.336283185841</td><td>518.450704225352</td></tr>\n",
       "</tbody>\n",
       "</table>\n"
      ],
      "text/latex": [
       "\\begin{tabular}{r|lllllllllllllllllll}\n",
       "  & year & month & day & dep\\_time & dep\\_delay & arr\\_time & arr\\_delay & cancelled & carrier & tailnum & flight & origin & dest & air\\_time & distance & hour & min & speed & max\\_speed\\\\\n",
       "\\hline\n",
       "\t1 & 2014             & 1                & 1                & 914              & 14               & 1238             & 13               & 0                & AA               & N338AA           & 1                & JFK              & LAX              & 359              & 2475             & 9                & 14               & 413.649025069638 & 526.595744680851\\\\\n",
       "\t2 & 2014             & 1                & 1                & 1157             & -3               & 1523             & 13               & 0                & AA               & N335AA           & 3                & JFK              & LAX              & 363              & 2475             & 11               & 57               & 409.090909090909 & 526.595744680851\\\\\n",
       "\t3 & 2014             & 1                & 1                & 1902             & 2                & 2224             & 9                & 0                & AA               & N327AA           & 21               & JFK              & LAX              & 351              & 2475             & 19               & 2                & 423.076923076923 & 526.595744680851\\\\\n",
       "\t4 & 2014             & 1                & 1                & 722              & -8               & 1014             & -26              & 0                & AA               & N3EHAA           & 29               & LGA              & PBI              & 157              & 1035             & 7                & 22               & 395.541401273885 & 517.5           \\\\\n",
       "\t5 & 2014             & 1                & 1                & 1347             & 2                & 1706             & 1                & 0                & AA               & N319AA           & 117              & JFK              & LAX              & 350              & 2475             & 13               & 47               & 424.285714285714 & 526.595744680851\\\\\n",
       "\t6 & 2014             & 1                & 1                & 1824             & 4                & 2145             & 0                & 0                & AA               & N3DEAA           & 119              & EWR              & LAX              & 339              & 2454             & 18               & 24               & 434.336283185841 & 518.450704225352\\\\\n",
       "\\end{tabular}\n"
      ],
      "text/plain": [
       "  year month day dep_time dep_delay arr_time arr_delay cancelled carrier\n",
       "1 2014     1   1      914        14     1238        13         0      AA\n",
       "2 2014     1   1     1157        -3     1523        13         0      AA\n",
       "3 2014     1   1     1902         2     2224         9         0      AA\n",
       "4 2014     1   1      722        -8     1014       -26         0      AA\n",
       "5 2014     1   1     1347         2     1706         1         0      AA\n",
       "6 2014     1   1     1824         4     2145         0         0      AA\n",
       "  tailnum flight origin dest air_time distance hour min    speed max_speed\n",
       "1  N338AA      1    JFK  LAX      359     2475    9  14 413.6490  526.5957\n",
       "2  N335AA      3    JFK  LAX      363     2475   11  57 409.0909  526.5957\n",
       "3  N327AA     21    JFK  LAX      351     2475   19   2 423.0769  526.5957\n",
       "4  N3EHAA     29    LGA  PBI      157     1035    7  22 395.5414  517.5000\n",
       "5  N319AA    117    JFK  LAX      350     2475   13  47 424.2857  526.5957\n",
       "6  N3DEAA    119    EWR  LAX      339     2454   18  24 434.3363  518.4507"
      ]
     },
     "metadata": {},
     "output_type": "display_data"
    }
   ],
   "source": [
    "#追加一列，用来保存某对起飞／到达机场间的最快飞行速度\n",
    "head(flights[, max_speed := max(speed), by = .(origin,dest)])\n",
    "#会把所有相同组内的行都填充相同的值"
   ]
  },
  {
   "cell_type": "markdown",
   "metadata": {},
   "source": [
    "#### “:=\" 与复数列分组"
   ]
  },
  {
   "cell_type": "code",
   "execution_count": 12,
   "metadata": {
    "collapsed": false
   },
   "outputs": [
    {
     "data": {
      "text/html": [
       "<table>\n",
       "<thead><tr><th></th><th scope=col>year</th><th scope=col>month</th><th scope=col>day</th><th scope=col>dep_time</th><th scope=col>dep_delay</th><th scope=col>arr_time</th><th scope=col>arr_delay</th><th scope=col>cancelled</th><th scope=col>carrier</th><th scope=col>tailnum</th><th scope=col>...</th><th scope=col>origin</th><th scope=col>dest</th><th scope=col>air_time</th><th scope=col>distance</th><th scope=col>hour</th><th scope=col>min</th><th scope=col>speed</th><th scope=col>max_speed</th><th scope=col>max_dep_delay</th><th scope=col>max_arr_delay</th></tr></thead>\n",
       "<tbody>\n",
       "\t<tr><th scope=row>1</th><td>2014            </td><td>1               </td><td>1               </td><td>914             </td><td>14              </td><td>1238            </td><td>13              </td><td>0               </td><td>AA              </td><td>N338AA          </td><td>...             </td><td>JFK             </td><td>LAX             </td><td>359             </td><td>2475            </td><td>9               </td><td>14              </td><td>413.649025069638</td><td>526.595744680851</td><td>973             </td><td>996             </td></tr>\n",
       "\t<tr><th scope=row>2</th><td>2014            </td><td>1               </td><td>1               </td><td>1157            </td><td>-3              </td><td>1523            </td><td>13              </td><td>0               </td><td>AA              </td><td>N335AA          </td><td>...             </td><td>JFK             </td><td>LAX             </td><td>363             </td><td>2475            </td><td>11              </td><td>57              </td><td>409.090909090909</td><td>526.595744680851</td><td>973             </td><td>996             </td></tr>\n",
       "\t<tr><th scope=row>3</th><td>2014            </td><td>1               </td><td>1               </td><td>1902            </td><td>2               </td><td>2224            </td><td>9               </td><td>0               </td><td>AA              </td><td>N327AA          </td><td>...             </td><td>JFK             </td><td>LAX             </td><td>351             </td><td>2475            </td><td>19              </td><td>2               </td><td>423.076923076923</td><td>526.595744680851</td><td>973             </td><td>996             </td></tr>\n",
       "\t<tr><th scope=row>4</th><td>2014            </td><td>1               </td><td>1               </td><td>722             </td><td>-8              </td><td>1014            </td><td>-26             </td><td>0               </td><td>AA              </td><td>N3EHAA          </td><td>...             </td><td>LGA             </td><td>PBI             </td><td>157             </td><td>1035            </td><td>7               </td><td>22              </td><td>395.541401273885</td><td>517.5           </td><td>973             </td><td>996             </td></tr>\n",
       "\t<tr><th scope=row>5</th><td>2014            </td><td>1               </td><td>1               </td><td>1347            </td><td>2               </td><td>1706            </td><td>1               </td><td>0               </td><td>AA              </td><td>N319AA          </td><td>...             </td><td>JFK             </td><td>LAX             </td><td>350             </td><td>2475            </td><td>13              </td><td>47              </td><td>424.285714285714</td><td>526.595744680851</td><td>973             </td><td>996             </td></tr>\n",
       "\t<tr><th scope=row>6</th><td>2014            </td><td>1               </td><td>1               </td><td>1824            </td><td>4               </td><td>2145            </td><td>0               </td><td>0               </td><td>AA              </td><td>N3DEAA          </td><td>...             </td><td>EWR             </td><td>LAX             </td><td>339             </td><td>2454            </td><td>18              </td><td>24              </td><td>434.336283185841</td><td>518.450704225352</td><td>973             </td><td>996             </td></tr>\n",
       "</tbody>\n",
       "</table>\n"
      ],
      "text/latex": [
       "\\begin{tabular}{r|lllllllllllllllllllll}\n",
       "  & year & month & day & dep\\_time & dep\\_delay & arr\\_time & arr\\_delay & cancelled & carrier & tailnum & ... & origin & dest & air\\_time & distance & hour & min & speed & max\\_speed & max\\_dep\\_delay & max\\_arr\\_delay\\\\\n",
       "\\hline\n",
       "\t1 & 2014             & 1                & 1                & 914              & 14               & 1238             & 13               & 0                & AA               & N338AA           & ...              & JFK              & LAX              & 359              & 2475             & 9                & 14               & 413.649025069638 & 526.595744680851 & 973              & 996             \\\\\n",
       "\t2 & 2014             & 1                & 1                & 1157             & -3               & 1523             & 13               & 0                & AA               & N335AA           & ...              & JFK              & LAX              & 363              & 2475             & 11               & 57               & 409.090909090909 & 526.595744680851 & 973              & 996             \\\\\n",
       "\t3 & 2014             & 1                & 1                & 1902             & 2                & 2224             & 9                & 0                & AA               & N327AA           & ...              & JFK              & LAX              & 351              & 2475             & 19               & 2                & 423.076923076923 & 526.595744680851 & 973              & 996             \\\\\n",
       "\t4 & 2014             & 1                & 1                & 722              & -8               & 1014             & -26              & 0                & AA               & N3EHAA           & ...              & LGA              & PBI              & 157              & 1035             & 7                & 22               & 395.541401273885 & 517.5            & 973              & 996             \\\\\n",
       "\t5 & 2014             & 1                & 1                & 1347             & 2                & 1706             & 1                & 0                & AA               & N319AA           & ...              & JFK              & LAX              & 350              & 2475             & 13               & 47               & 424.285714285714 & 526.595744680851 & 973              & 996             \\\\\n",
       "\t6 & 2014             & 1                & 1                & 1824             & 4                & 2145             & 0                & 0                & AA               & N3DEAA           & ...              & EWR              & LAX              & 339              & 2454             & 18               & 24               & 434.336283185841 & 518.450704225352 & 973              & 996             \\\\\n",
       "\\end{tabular}\n"
      ],
      "text/plain": [
       "  year month day dep_time dep_delay arr_time arr_delay cancelled carrier\n",
       "1 2014     1   1      914        14     1238        13         0      AA\n",
       "2 2014     1   1     1157        -3     1523        13         0      AA\n",
       "3 2014     1   1     1902         2     2224         9         0      AA\n",
       "4 2014     1   1      722        -8     1014       -26         0      AA\n",
       "5 2014     1   1     1347         2     1706         1         0      AA\n",
       "6 2014     1   1     1824         4     2145         0         0      AA\n",
       "  tailnum ... origin dest air_time distance hour min    speed max_speed\n",
       "1  N338AA ...    JFK  LAX      359     2475    9  14 413.6490  526.5957\n",
       "2  N335AA ...    JFK  LAX      363     2475   11  57 409.0909  526.5957\n",
       "3  N327AA ...    JFK  LAX      351     2475   19   2 423.0769  526.5957\n",
       "4  N3EHAA ...    LGA  PBI      157     1035    7  22 395.5414  517.5000\n",
       "5  N319AA ...    JFK  LAX      350     2475   13  47 424.2857  526.5957\n",
       "6  N3DEAA ...    EWR  LAX      339     2454   18  24 434.3363  518.4507\n",
       "  max_dep_delay max_arr_delay\n",
       "1           973           996\n",
       "2           973           996\n",
       "3           973           996\n",
       "4           973           996\n",
       "5           973           996\n",
       "6           973           996"
      ]
     },
     "metadata": {},
     "output_type": "display_data"
    }
   ],
   "source": [
    "#再追加两列，用于保存每个月的最大起飞延误时间dep_delay 和到达延误时间arr_delay\n",
    "head(flights[, c(\"max_dep_delay\", \"max_arr_delay\") := lapply(.SD, max),\n",
    "            by = month, .SDcols = c(\"dep_delay\", \"arr_delay\")])"
   ]
  },
  {
   "cell_type": "code",
   "execution_count": 13,
   "metadata": {
    "collapsed": false
   },
   "outputs": [
    {
     "data": {
      "text/html": [
       "<table>\n",
       "<thead><tr><th></th><th scope=col>year</th><th scope=col>month</th><th scope=col>day</th><th scope=col>dep_time</th><th scope=col>dep_delay</th><th scope=col>arr_time</th><th scope=col>arr_delay</th><th scope=col>cancelled</th><th scope=col>carrier</th><th scope=col>tailnum</th><th scope=col>flight</th><th scope=col>origin</th><th scope=col>dest</th><th scope=col>air_time</th><th scope=col>distance</th><th scope=col>hour</th><th scope=col>min</th></tr></thead>\n",
       "<tbody>\n",
       "\t<tr><th scope=row>1</th><td>2014  </td><td>1     </td><td>1     </td><td>914   </td><td>14    </td><td>1238  </td><td>13    </td><td>0     </td><td>AA    </td><td>N338AA</td><td>1     </td><td>JFK   </td><td>LAX   </td><td>359   </td><td>2475  </td><td>9     </td><td>14    </td></tr>\n",
       "\t<tr><th scope=row>2</th><td>2014  </td><td>1     </td><td>1     </td><td>1157  </td><td>-3    </td><td>1523  </td><td>13    </td><td>0     </td><td>AA    </td><td>N335AA</td><td>3     </td><td>JFK   </td><td>LAX   </td><td>363   </td><td>2475  </td><td>11    </td><td>57    </td></tr>\n",
       "\t<tr><th scope=row>3</th><td>2014  </td><td>1     </td><td>1     </td><td>1902  </td><td>2     </td><td>2224  </td><td>9     </td><td>0     </td><td>AA    </td><td>N327AA</td><td>21    </td><td>JFK   </td><td>LAX   </td><td>351   </td><td>2475  </td><td>19    </td><td>2     </td></tr>\n",
       "\t<tr><th scope=row>4</th><td>2014  </td><td>1     </td><td>1     </td><td>722   </td><td>-8    </td><td>1014  </td><td>-26   </td><td>0     </td><td>AA    </td><td>N3EHAA</td><td>29    </td><td>LGA   </td><td>PBI   </td><td>157   </td><td>1035  </td><td>7     </td><td>22    </td></tr>\n",
       "\t<tr><th scope=row>5</th><td>2014  </td><td>1     </td><td>1     </td><td>1347  </td><td>2     </td><td>1706  </td><td>1     </td><td>0     </td><td>AA    </td><td>N319AA</td><td>117   </td><td>JFK   </td><td>LAX   </td><td>350   </td><td>2475  </td><td>13    </td><td>47    </td></tr>\n",
       "\t<tr><th scope=row>6</th><td>2014  </td><td>1     </td><td>1     </td><td>1824  </td><td>4     </td><td>2145  </td><td>0     </td><td>0     </td><td>AA    </td><td>N3DEAA</td><td>119   </td><td>EWR   </td><td>LAX   </td><td>339   </td><td>2454  </td><td>18    </td><td>24    </td></tr>\n",
       "</tbody>\n",
       "</table>\n"
      ],
      "text/latex": [
       "\\begin{tabular}{r|lllllllllllllllll}\n",
       "  & year & month & day & dep\\_time & dep\\_delay & arr\\_time & arr\\_delay & cancelled & carrier & tailnum & flight & origin & dest & air\\_time & distance & hour & min\\\\\n",
       "\\hline\n",
       "\t1 & 2014   & 1      & 1      & 914    & 14     & 1238   & 13     & 0      & AA     & N338AA & 1      & JFK    & LAX    & 359    & 2475   & 9      & 14    \\\\\n",
       "\t2 & 2014   & 1      & 1      & 1157   & -3     & 1523   & 13     & 0      & AA     & N335AA & 3      & JFK    & LAX    & 363    & 2475   & 11     & 57    \\\\\n",
       "\t3 & 2014   & 1      & 1      & 1902   & 2      & 2224   & 9      & 0      & AA     & N327AA & 21     & JFK    & LAX    & 351    & 2475   & 19     & 2     \\\\\n",
       "\t4 & 2014   & 1      & 1      & 722    & -8     & 1014   & -26    & 0      & AA     & N3EHAA & 29     & LGA    & PBI    & 157    & 1035   & 7      & 22    \\\\\n",
       "\t5 & 2014   & 1      & 1      & 1347   & 2      & 1706   & 1      & 0      & AA     & N319AA & 117    & JFK    & LAX    & 350    & 2475   & 13     & 47    \\\\\n",
       "\t6 & 2014   & 1      & 1      & 1824   & 4      & 2145   & 0      & 0      & AA     & N3DEAA & 119    & EWR    & LAX    & 339    & 2454   & 18     & 24    \\\\\n",
       "\\end{tabular}\n"
      ],
      "text/plain": [
       "  year month day dep_time dep_delay arr_time arr_delay cancelled carrier\n",
       "1 2014     1   1      914        14     1238        13         0      AA\n",
       "2 2014     1   1     1157        -3     1523        13         0      AA\n",
       "3 2014     1   1     1902         2     2224         9         0      AA\n",
       "4 2014     1   1      722        -8     1014       -26         0      AA\n",
       "5 2014     1   1     1347         2     1706         1         0      AA\n",
       "6 2014     1   1     1824         4     2145         0         0      AA\n",
       "  tailnum flight origin dest air_time distance hour min\n",
       "1  N338AA      1    JFK  LAX      359     2475    9  14\n",
       "2  N335AA      3    JFK  LAX      363     2475   11  57\n",
       "3  N327AA     21    JFK  LAX      351     2475   19   2\n",
       "4  N3EHAA     29    LGA  PBI      157     1035    7  22\n",
       "5  N319AA    117    JFK  LAX      350     2475   13  47\n",
       "6  N3DEAA    119    EWR  LAX      339     2454   18  24"
      ]
     },
     "metadata": {},
     "output_type": "display_data"
    }
   ],
   "source": [
    "#复原\n",
    "head(flights[, c(\"speed\", \"max_speed\", \"max_dep_delay\", \"max_arr_delay\") := NULL])"
   ]
  },
  {
   "cell_type": "markdown",
   "metadata": {},
   "source": [
    "### \":=\"和copy()\n",
    "如果不想要更新原始数据，可以用copy复制一份，再处理复制品\n",
    "\n",
    "注意：如果有个变量直接引用了一个datatable，那么原始datatable变化的时候这个变量也会变，也就是说变量只是一个地址，指向原始数据。\n",
    "而如果这个变量是通过copy原来的datatable产生的，那么他就和原来的datatable独立了。\n",
    "\n",
    "## 总结\n",
    "\n",
    "操作符“:=”\n",
    "* 操作符“:=”用于添加／更新／删除列。\n",
    "* 我们也学习了如何跟参数i和参数by一起使用，就像在第一讲中学习的那样。同样，我们也可以使用 keyby，可以用方括号 [] 将操作连结起来，可以给参数by 指定表达式。\n",
    "* 我们可以利用操作符“:=”更新原数据，也可以用函数 copy() 来避免更新原数据。"
   ]
  },
  {
   "cell_type": "code",
   "execution_count": null,
   "metadata": {
    "collapsed": true
   },
   "outputs": [],
   "source": []
  }
 ],
 "metadata": {
  "anaconda-cloud": {},
  "kernelspec": {
   "display_name": "R",
   "language": "R",
   "name": "ir"
  },
  "language_info": {
   "codemirror_mode": "r",
   "file_extension": ".r",
   "mimetype": "text/x-r-source",
   "name": "R",
   "pygments_lexer": "r",
   "version": "3.3.1"
  }
 },
 "nbformat": 4,
 "nbformat_minor": 0
}
